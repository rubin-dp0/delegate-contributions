{
 "cells": [
  {
   "cell_type": "markdown",
   "id": "157ca3b5",
   "metadata": {},
   "source": [
    "# Extinction Due to Dust"
   ]
  },
  {
   "cell_type": "markdown",
   "id": "deb0b291",
   "metadata": {},
   "source": [
    "Author: Kristen Larson (WWU) -- dust enthusiast, Rubin novice, Jupyter fan\n",
    "\n",
    "Date checked: Nov 2, 2021\n",
    "\n",
    "\n",
    "How much extinction due to insterstellar dust is in the DC2 simulation? This notebook investigates the extinction information that is provided in the truth table.  We also demonstrate one of the methods in [Juvela & Montillaud (2016)](https://ui.adsabs.harvard.edu/abs/2016A%26A...585A..38J/abstract), using the NICER method to get extinction from color relative to a Besançon stellar population model.    \n",
    "\n",
    "Spoiler alert:  The [DC2 field is a model of the smooth Milky Way](https://arxiv.org/abs/2010.05926) at high latitude (b $\\sim$ -47 deg), so we don't expect very much extinction.  The goal here is to show proof of concept. \n"
   ]
  },
  {
   "cell_type": "markdown",
   "id": "05e912cd",
   "metadata": {},
   "source": [
    "We start with some basic imports, including some from  [Astropy](https://www.astropy.org/), the community effort to develop a common core package for astronomy research in Python.  If you are new to Astropy, there are lots of good tutorials and a friendly community to get you started at https://learn.astropy.org/."
   ]
  },
  {
   "cell_type": "code",
   "execution_count": null,
   "id": "7afbff66",
   "metadata": {},
   "outputs": [],
   "source": [
    "import matplotlib as mpl\n",
    "from matplotlib import pyplot as plt\n",
    "#from rubin_jupyter_utils.lab.notebook import get_tap_service, retrieve_query\n",
    "from lsst.rsp import get_tap_service, retrieve_query\n",
    "import numpy as np\n",
    "from astropy.io import ascii\n",
    "from astropy.coordinates import SkyCoord\n",
    "from astropy import units as u\n",
    "service = get_tap_service()"
   ]
  },
  {
   "cell_type": "markdown",
   "id": "f7aff28c",
   "metadata": {},
   "source": [
    "We will use <code>dust_extinction</code>, an [affiliated package of Astropy by Karl Gordon](https://pypi.org/project/dust-extinction/), <code>dustmaps</code> from Green et al. (2019) for access to the SFD dust maps, and <code>speclite</code> for access to the Rubin filter curves.  We will also use <code>pnicer</code>, a Python package to estimate extinction [from Meingast et al. (2017) and available on GitHub](https://github.com/smeingast/PNICER).  \n",
    "\n",
    "The following cells can be used to install these packages.  The ! symbol means that these are shell commands.  A better way in the RSP is to run these commands from a terminal shell, available at the + symbol above the notebook list.  The advantage of leaving these cells here is that this notebook is self-contained and would be compatible with other JupyterLab online environments, such as [Google Colaboratory](https://colab.research.google.com/), for data other than Rubin DP0."
   ]
  },
  {
   "cell_type": "code",
   "execution_count": null,
   "id": "35c26f88",
   "metadata": {},
   "outputs": [],
   "source": [
    "!pip install dust_extinction"
   ]
  },
  {
   "cell_type": "code",
   "execution_count": null,
   "id": "9bb24e43-d749-4fc6-adfe-f76aa8fdd8fe",
   "metadata": {},
   "outputs": [],
   "source": [
    "!pip install dustmaps"
   ]
  },
  {
   "cell_type": "code",
   "execution_count": null,
   "id": "e8f5d276",
   "metadata": {},
   "outputs": [],
   "source": [
    "!pip install speclite"
   ]
  },
  {
   "cell_type": "code",
   "execution_count": null,
   "id": "a3e5876b",
   "metadata": {},
   "outputs": [],
   "source": [
    "!pip install git+https://github.com/smeingast/PNICER.git"
   ]
  },
  {
   "cell_type": "code",
   "execution_count": null,
   "id": "96b45156",
   "metadata": {},
   "outputs": [],
   "source": [
    "from dust_extinction.parameter_averages import O94, CCM89\n",
    "from dustmaps.sfd import SFDWebQuery\n",
    "from pnicer import ApparentMagnitudes\n",
    "import speclite.filters"
   ]
  },
  {
   "cell_type": "markdown",
   "id": "73a1bf45",
   "metadata": {},
   "source": [
    "## Part A: Get Joined Object and Truth Tables"
   ]
  },
  {
   "cell_type": "markdown",
   "id": "9b2d7459",
   "metadata": {},
   "source": [
    "The starting point for this notebook is the [06_Comparing_Object_and_Truth_Tables.ipynb](https://github.com/rubin-dp0/tutorial-notebooks/blob/main/06_Comparing_Object_and_Truth_Tables.ipynb) tutorial, which shows how to get a pencil beam of objects matched to the truth tables.\n",
    "\n",
    "Here, we query a larger region of sky and require that <code>truth_type = 2</code> to select just the stars.  We also require that stars have magnitudes in the ugriz passbands and select just the brighter stars, <code>obj.mag_g_cModel < 22</code>."
   ]
  },
  {
   "cell_type": "code",
   "execution_count": null,
   "id": "9e7c78df",
   "metadata": {},
   "outputs": [],
   "source": [
    "query = \"SELECT obj.objectId, obj.ra, obj.dec, obj.mag_u, obj.mag_g, obj.mag_r, obj.mag_i, obj.mag_z, obj.mag_y, \" \\\n",
    "        \"obj.magerr_u, obj.magerr_g, obj.magerr_r, obj.magerr_i, obj.magerr_z, obj.magerr_y, \" \\\n",
    "        \"obj.mag_u_cModel, obj.mag_g_cModel, obj.mag_r_cModel, obj.mag_i_cModel, obj.mag_z_cModel, obj.mag_y_cModel, \" \\\n",
    "        \"obj.magerr_u_cModel, obj.magerr_g_cModel, obj.magerr_r_cModel, obj.magerr_i_cModel, obj.magerr_z_cModel, obj.magerr_y_cModel, \" \\\n",
    "        \"obj.psFlux_u, obj.psFlux_g, obj.psFlux_r, obj.psFlux_i, obj.psFlux_z, obj.psFlux_y, \" \\\n",
    "        \"obj.cModelFlux_u, obj.cModelFlux_g, obj.cModelFlux_r, obj.cModelFlux_i, obj.cModelFlux_z, obj.cModelFlux_y, \" \\\n",
    "        \"obj.tract, obj.patch, obj.extendedness, obj.good, obj.clean, \" \\\n",
    "        \"truth.mag_r as truth_mag_r, truth.match_objectId, \" \\\n",
    "        \"truth.flux_u, truth.flux_g, truth.flux_r, truth.flux_i, truth.flux_z, truth.flux_y, \" \\\n",
    "        \"truth.flux_u_noMW, truth.flux_g_noMW, truth.flux_r_noMW, truth.flux_i_noMW, truth.flux_z_noMW, truth.flux_y_noMW, \" \\\n",
    "        \"truth.truth_type, truth.match_sep, truth.is_variable \" \\\n",
    "        \"FROM dp01_dc2_catalogs.object as obj \" \\\n",
    "        \"JOIN dp01_dc2_catalogs.truth_match as truth \" \\\n",
    "        \"ON truth.match_objectId = obj.objectId \" \\\n",
    "        \"WHERE CONTAINS(POINT('ICRS', obj.ra, obj.dec), CIRCLE('ICRS', 62.0, -37.0, 1.0)) = 1 \" \\\n",
    "        \"AND obj.mag_g_cModel < 22 AND obj.mag_u_cModel < 99 AND obj.mag_r_cModel < 99 AND obj.mag_i_cModel < 99 AND obj.mag_z_cModel < 99 \" \\\n",
    "        \"AND truth.truth_type = 2 AND truth.is_good_match = 1\""
   ]
  },
  {
   "cell_type": "code",
   "execution_count": null,
   "id": "64cf309d",
   "metadata": {},
   "outputs": [],
   "source": [
    "true_results = service.search(query)"
   ]
  },
  {
   "cell_type": "code",
   "execution_count": null,
   "id": "da999844",
   "metadata": {},
   "outputs": [],
   "source": [
    "true_results.to_table()"
   ]
  },
  {
   "cell_type": "markdown",
   "id": "20b8af73",
   "metadata": {},
   "source": [
    "Let's plot color-magnitude and color-color diagrams to see what we have."
   ]
  },
  {
   "cell_type": "code",
   "execution_count": null,
   "id": "42fb2517",
   "metadata": {},
   "outputs": [],
   "source": [
    "fig,ax=plt.subplots(1,2,figsize=(10,5))\n",
    "fig.tight_layout(pad=4.0)\n",
    "ax[0].hist2d(true_results['mag_g_cModel']-true_results['mag_i_cModel'], true_results['mag_g_cModel'],bins=50,norm=mpl.colors.LogNorm())\n",
    "ax[0].set_xlabel('g $-$ i')\n",
    "ax[0].set_ylabel('g')\n",
    "ax[0].invert_yaxis()\n",
    "ax[1].hist2d(true_results['mag_g_cModel']-true_results['mag_r_cModel'], true_results['mag_r_cModel']-true_results['mag_i_cModel'],bins=50,norm=mpl.colors.LogNorm())\n",
    "ax[1].set_xlabel('g $-$ r')\n",
    "ax[1].set_ylabel('r $-$ i')\n",
    "plt.show()"
   ]
  },
  {
   "cell_type": "markdown",
   "id": "d84df3a2",
   "metadata": {},
   "source": [
    "These look good, and agree with [Tutorial 06](https://github.com/rubin-dp0/tutorial-notebooks/blob/main/06_Comparing_Object_and_Truth_Tables.ipynb).  In this larger data set, we can see some effects of binning at the cool end the DC2 simulation."
   ]
  },
  {
   "cell_type": "markdown",
   "id": "7ed95cc5",
   "metadata": {},
   "source": [
    "## Part B: Extinction in the Truth Table"
   ]
  },
  {
   "cell_type": "markdown",
   "id": "215221a5",
   "metadata": {},
   "source": [
    "The truth table contains the true flux of the star through each filter with and without the extinction due to dust in the DC2 model Milky Way.  We can directly calculate the extinction in each band:"
   ]
  },
  {
   "cell_type": "code",
   "execution_count": null,
   "id": "9d6595b4",
   "metadata": {},
   "outputs": [],
   "source": [
    "Au_truth = -2.5*np.log10(true_results['flux_u']/true_results['flux_u_noMW'])\n",
    "Ag_truth = -2.5*np.log10(true_results['flux_g']/true_results['flux_g_noMW'])\n",
    "Ar_truth = -2.5*np.log10(true_results['flux_r']/true_results['flux_r_noMW'])\n",
    "Ai_truth = -2.5*np.log10(true_results['flux_i']/true_results['flux_i_noMW'])\n",
    "Az_truth = -2.5*np.log10(true_results['flux_z']/true_results['flux_z_noMW'])\n",
    "Ay_truth = -2.5*np.log10(true_results['flux_y']/true_results['flux_y_noMW'])"
   ]
  },
  {
   "cell_type": "markdown",
   "id": "0c9bab29",
   "metadata": {},
   "source": [
    "How much extinction is in the g band?"
   ]
  },
  {
   "cell_type": "code",
   "execution_count": null,
   "id": "7439da14",
   "metadata": {},
   "outputs": [],
   "source": [
    "plt.hist(Ag_truth)\n",
    "plt.xlabel('$A_g$ from the truth table')\n",
    "plt.show()"
   ]
  },
  {
   "cell_type": "markdown",
   "id": "4a4425a0",
   "metadata": {},
   "source": [
    "Extinction in the g band is just a few tenths of a magnitude, small as predicted given the high latitude.  A slab model of dust will yield extinction values that depend on the line-of-sight length through the slab, so a range of values is also expected.  Galactic extinction in DC2 is from the 3D analytic model of Amôres & Lépine (2005) renormalized to match the Schlegel et al. (1998, SFD) dust map at 100 kpc.  We can compare these extinction values to the SFD map using the SFD legacy tool provided by the <code>dustmaps</code> package from Green et al. (2019)."
   ]
  },
  {
   "cell_type": "code",
   "execution_count": null,
   "id": "c719db5a-717b-43e5-aad7-f01351fbede5",
   "metadata": {},
   "outputs": [],
   "source": [
    "coords = SkyCoord(true_results['ra']*u.deg, true_results['dec']*u.deg, frame='icrs')"
   ]
  },
  {
   "cell_type": "code",
   "execution_count": null,
   "id": "69979e04-76c6-4678-99de-2655673342f2",
   "metadata": {},
   "outputs": [],
   "source": [
    "sfd = SFDWebQuery()"
   ]
  },
  {
   "cell_type": "code",
   "execution_count": null,
   "id": "4a04953d-8251-477e-94ae-96449f2468ba",
   "metadata": {},
   "outputs": [],
   "source": [
    "fig,ax=plt.subplots(1,1)\n",
    "ax.plot(coords.galactic.b,3.8*sfd(coords)-Ag_truth,'ro',alpha=0.2) # using Ag/E(B-V)=3.8\n",
    "ax.invert_xaxis()\n",
    "ax.set_xlabel('Galactic latitude')\n",
    "ax.set_ylabel('SFD $-$ Truth table extinction')\n",
    "plt.show()"
   ]
  },
  {
   "cell_type": "markdown",
   "id": "9be1f06e-3899-4839-83dd-1ede9ef321fb",
   "metadata": {},
   "source": [
    "This plot makes sense because the SFD maps were used to set the value of extinction at the long-distance limit.  Closer stars will reside in the slab of the Milky Way, and so will have only a portion of that extinction in the foreground.  At higher latitudes, the slab of the Milky Way exists only at the closest part of a sightline, so fewer stars have less than all of the extinction in the foreground."
   ]
  },
  {
   "cell_type": "markdown",
   "id": "cfaf668a",
   "metadata": {},
   "source": [
    "What about the shape of the extinction curve?  Extinction of starlight is caused by scattering and absorption by dust in the interstellar medium.  Observations show generally more extinction at shorter wavelengths, which means that dust causes reddening.   To find the average extinction curve used to generate DC2, we first normalize to the g band:"
   ]
  },
  {
   "cell_type": "code",
   "execution_count": null,
   "id": "527be912",
   "metadata": {},
   "outputs": [],
   "source": [
    "Au_truth_g = Au_truth/Ag_truth\n",
    "Ar_truth_g = Ar_truth/Ag_truth\n",
    "Ai_truth_g = Ai_truth/Ag_truth\n",
    "Az_truth_g = Az_truth/Ag_truth\n",
    "Ay_truth_g = Ay_truth/Ag_truth"
   ]
  },
  {
   "cell_type": "markdown",
   "id": "afc6e527",
   "metadata": {},
   "source": [
    "Then, we use <code>speclite</code> to get the effective wavelengths of the Rubin bands, including units:"
   ]
  },
  {
   "cell_type": "code",
   "execution_count": null,
   "id": "8244c297",
   "metadata": {},
   "outputs": [],
   "source": [
    "bands = ['u','g','r','i','z','y']\n",
    "lsst = speclite.filters.load_filters('lsst2016-*')\n",
    "lams = lsst.effective_wavelengths\n",
    "bandlam = dict(zip(bands,lams))"
   ]
  },
  {
   "cell_type": "markdown",
   "id": "762cf8db",
   "metadata": {},
   "source": [
    "Finally, we show the normalized extinction curve:"
   ]
  },
  {
   "cell_type": "code",
   "execution_count": null,
   "id": "72f15a6a",
   "metadata": {},
   "outputs": [],
   "source": [
    "plt.plot(lams,[np.mean(Au_truth_g),1.0,np.mean(Ar_truth_g),np.mean(Ai_truth_g),np.mean(Az_truth_g),np.mean(Ay_truth_g)],\n",
    "         'k+',markersize=10,markeredgewidth=2,label=\"Avg truth extinction\")\n",
    "plt.xlabel('$\\lambda$ ('+str(lams.unit)+')')\n",
    "plt.ylabel('$A_\\lambda/A_g$')\n",
    "plt.legend()\n",
    "plt.show()"
   ]
  },
  {
   "cell_type": "markdown",
   "id": "45289b0a",
   "metadata": {},
   "source": [
    "The average extinction curve for the diffuse ISM of the Milky Way is relatively uniform, but there are environmental variations.  The Astropy-affiliated package <code>dust_extinction</code> provides easy access to [many extinction averages and models](https://dust-extinction.readthedocs.io/en/stable/dust_extinction/choose_model.html) and tools for de-reddening spectra."
   ]
  },
  {
   "cell_type": "markdown",
   "id": "67dd575a",
   "metadata": {},
   "source": [
    "The DC2 simulation is normalized to the Schlegel, Finkbeiner, & Davis (1998, SFD) maps, which use the O'Donnell (1994) extinction law in the optical and the Cardelli, Clayton, & Mathis (1989, CCM) extinction law in the ultraviolet and infrared.  We will load both of them from <code>dust_extinction</code> here."
   ]
  },
  {
   "cell_type": "code",
   "execution_count": null,
   "id": "35f1bfd8",
   "metadata": {},
   "outputs": [],
   "source": [
    "extO94=O94(Rv=3.1)\n",
    "extCCM89=CCM89(Rv=3.1)"
   ]
  },
  {
   "cell_type": "markdown",
   "id": "65fea0d3",
   "metadata": {},
   "source": [
    "The <code>dust_extinction</code> code is unit-aware, and returns the value of the V-normalized extinction curve at wavelength arguments:"
   ]
  },
  {
   "cell_type": "code",
   "execution_count": null,
   "id": "1fb03f01",
   "metadata": {},
   "outputs": [],
   "source": [
    "bandextO94 = extO94(lams)\n",
    "bandextCCM89 = extCCM89(lams)"
   ]
  },
  {
   "cell_type": "markdown",
   "id": "eb685373",
   "metadata": {},
   "source": [
    "Here we generate curves renormalized to g:"
   ]
  },
  {
   "cell_type": "code",
   "execution_count": null,
   "id": "919db613",
   "metadata": {},
   "outputs": [],
   "source": [
    "x=np.arange(3000,10500,100)*u.Angstrom\n",
    "norm_band = 'g'\n",
    "bandextO94_g = extO94(x)/extO94(bandlam[norm_band])\n",
    "bandextCCM89_g = extCCM89(x)/extCCM89(bandlam[norm_band])"
   ]
  },
  {
   "cell_type": "markdown",
   "id": "6b7107d9",
   "metadata": {},
   "source": [
    "We should note here that to calculate photometric extinction from the curves correctly, the extinction curve needs to be applied to a reference spectrum and integrated over the relevant passband.  However, if the spectrum varies slowly  in the passband, the value of the extinction curve (in 2.5 log_10 units) at the midband is approximately equal to the photometric extinction.  With this approximation, it is reasonable to plot normalized photometric extinction from the truth table with the extinction laws themselves:"
   ]
  },
  {
   "cell_type": "code",
   "execution_count": null,
   "id": "eab63360",
   "metadata": {},
   "outputs": [],
   "source": [
    "plt.plot(x,bandextO94_g,'r',alpha=0.5,label='O94 ext law, Rv=3.1')\n",
    "plt.plot(x,bandextCCM89_g,'b',alpha=0.5,label='CCM89 ext law, Rv=3.1')\n",
    "plt.plot(lams,[Au_truth_g.mean(),1,Ar_truth_g.mean(),Ai_truth_g.mean(),Az_truth_g.mean(),Ay_truth_g.mean()],\n",
    "         'k+',markersize=10,markeredgewidth=2,label=\"Avg truth extinction\")\n",
    "plt.xlabel('$\\lambda$ ('+str(lams.unit)+')')\n",
    "plt.ylabel('$A_\\lambda/A_g$')\n",
    "plt.legend()\n",
    "plt.show()"
   ]
  },
  {
   "cell_type": "markdown",
   "id": "150061c0",
   "metadata": {},
   "source": [
    "Finally, having the extinction allows us to calculate average reddening vectors from the data and add them to the color-magnitude and color-color plots:"
   ]
  },
  {
   "cell_type": "code",
   "execution_count": null,
   "id": "4cf12fad",
   "metadata": {},
   "outputs": [],
   "source": [
    "Ag = 1.\n",
    "Eri_Ag = ((Ar_truth - Ai_truth)/Ag_truth).mean() \n",
    "Egr_Ag = ((Ag_truth - Ar_truth)/Ag_truth).mean()\n",
    "Egi_Ag = Egr_Ag + Eri_Ag"
   ]
  },
  {
   "cell_type": "code",
   "execution_count": null,
   "id": "94c62d33",
   "metadata": {},
   "outputs": [],
   "source": [
    "fig,ax=plt.subplots(1,2,figsize=(10,5))\n",
    "fig.tight_layout(pad=4.0)\n",
    "ax[0].hist2d(true_results['mag_g_cModel']-true_results['mag_i_cModel'], true_results['mag_g_cModel'],\n",
    "             bins=50,norm=mpl.colors.LogNorm())\n",
    "ax[0].set_xlabel('g $-$ i')\n",
    "ax[0].set_ylabel('g')\n",
    "ax[0].invert_yaxis()\n",
    "ax[1].hist2d(true_results['mag_g_cModel']-true_results['mag_r_cModel'], true_results['mag_r_cModel']-true_results['mag_i_cModel'],\n",
    "             bins=50,norm=mpl.colors.LogNorm())\n",
    "ax[1].set_xlabel('g $-$ r')\n",
    "ax[1].set_ylabel('r $-$ i')\n",
    "ax[0].annotate(\"\",xy=(2.0+Egi_Ag,17.0+Ag),xytext=(2.0,17.0),arrowprops=dict(arrowstyle=\"->\"))\n",
    "ax[1].annotate(\"\",xy=(0+Egr_Ag,0.7+Eri_Ag),xytext=(0,0.7),arrowprops=dict(arrowstyle=\"->\"))\n",
    "ax[0].annotate(\"Ag = 1\",xy=(2.5,17.5))\n",
    "ax[1].annotate(\"Ag = 1\",xy=(.10,0.6))\n",
    "plt.show()"
   ]
  },
  {
   "cell_type": "markdown",
   "id": "5b64b531",
   "metadata": {},
   "source": [
    "We can also correct the each star in the data for its own (small!) extinction:"
   ]
  },
  {
   "cell_type": "code",
   "execution_count": null,
   "id": "2ea8f94d",
   "metadata": {},
   "outputs": [],
   "source": [
    "fig,ax=plt.subplots(1,2,figsize=(10,5))\n",
    "fig.tight_layout(pad=4.0)\n",
    "ax[0].hist2d(true_results['mag_g_cModel']-Ag_truth-true_results['mag_i_cModel']+Ai_truth, true_results['mag_g_cModel']-Ag_truth,\n",
    "             bins=50,norm=mpl.colors.LogNorm())\n",
    "ax[0].set_xlabel('g $-$ i')\n",
    "ax[0].set_ylabel('g')\n",
    "ax[0].invert_yaxis()\n",
    "ax[1].hist2d(true_results['mag_g_cModel']-Ag_truth-true_results['mag_r_cModel']+Ar_truth, true_results['mag_r_cModel']-Ar_truth-true_results['mag_i_cModel']+Ai_truth,\n",
    "             bins=50,norm=mpl.colors.LogNorm())\n",
    "ax[1].set_xlabel('g $-$ r')\n",
    "ax[1].set_ylabel('r $-$ i')\n",
    "ax[0].set_title('Corrected for Extinction')\n",
    "ax[1].set_title('Corrected for Extinction')\n",
    "plt.show()"
   ]
  },
  {
   "cell_type": "markdown",
   "id": "b67666c8",
   "metadata": {},
   "source": [
    "## Part C: Discover Extinction <em>(Work in Progress)</em>"
   ]
  },
  {
   "cell_type": "markdown",
   "id": "81ca6b4c",
   "metadata": {},
   "source": [
    "The <code>pnicer</code> package to estimate extinction includes PNICER, an unsupervised machine learning method, as well as access to NICER, the well-established technique from [Lombardi & Alves (2001)](https://ui.adsabs.harvard.edu/abs/2001A%26A...377.1023L/abstract).\n",
    "\n",
    "The NICER method calculates color excesses by estimating intrinsic colors via a Gaussian distribution characterized by the mean and covariance of the measured colors in an dust-free reference field, then uses a maximum-likelihood approach to minimize the variance with observed colors provided that the shape of the interstellar extinction curve is known.  See [Figure 2](https://www.aanda.org/articles/aa/full/2001/39/aa1526/aa1526.right.html#fig:2) from Lombardi & Alves (2001) for a nice conceptual illustration of the method.\n",
    "\n",
    "We investigate the NICER technique with an extinction law of our choice and a dust-free reference field from a Besançon population synthesis."
   ]
  },
  {
   "cell_type": "markdown",
   "id": "8a8a1696",
   "metadata": {},
   "source": [
    "### Step 1: Choose an extinction vector"
   ]
  },
  {
   "cell_type": "markdown",
   "id": "bed72b54",
   "metadata": {},
   "source": [
    "We choose the O'Donnell (1994) model as shown in Part B:"
   ]
  },
  {
   "cell_type": "code",
   "execution_count": null,
   "id": "6aac4b79",
   "metadata": {},
   "outputs": [],
   "source": [
    "ext=O94(Rv=3.1)"
   ]
  },
  {
   "cell_type": "markdown",
   "id": "1fb6bb60",
   "metadata": {},
   "source": [
    "Because the model we will be using has no y band, we skip that band:"
   ]
  },
  {
   "cell_type": "code",
   "execution_count": null,
   "id": "b14553a9",
   "metadata": {},
   "outputs": [],
   "source": [
    "bands = ['u','g','r','i','z']\n",
    "lsst = speclite.filters.load_filters('lsst2016-*')\n",
    "lams = lsst.effective_wavelengths[:-1]\n",
    "bandlam = dict(zip(bands,lams))"
   ]
  },
  {
   "cell_type": "markdown",
   "id": "34fc1370",
   "metadata": {},
   "source": [
    "We normalize to the g band so the output of <code>pnicer</code> will be relative to g band extinction.  "
   ]
  },
  {
   "cell_type": "code",
   "execution_count": null,
   "id": "8f246299",
   "metadata": {},
   "outputs": [],
   "source": [
    "norm_band = 'g'\n",
    "ext_bands_normed = ext(lams)/ext(bandlam[norm_band])"
   ]
  },
  {
   "cell_type": "markdown",
   "id": "ed6b5078",
   "metadata": {},
   "source": [
    "### Step 2: Reference field"
   ]
  },
  {
   "cell_type": "markdown",
   "id": "208b68cb",
   "metadata": {},
   "source": [
    "Because DC2 is a simulation that includes just the smooth component of the ISM, we don't have a on-cloud and off-cloud region.  For the reference field, we choose a dust-free stellar population model. The DC2 field uses the Galfast model of Jurić et al. (2008).  Here we use a [Besançon stellar population model](https://model.obs-besancon.fr/).  A Besançon model can be initiated and retrieved entirely within a RSP notebook; for details, see an [example notebook posted on GitHub](https://github.com/krislars/BesanconJupyter).   Because obtaining a Besançon model involves having a username and password, the output of that example is provided as a simple text file accompanying this notebook.  Note that the model explicitly has no foreground Milky Way extinction, so it can be used as a dust-free reference field."
   ]
  },
  {
   "cell_type": "code",
   "execution_count": null,
   "id": "daa07cc7",
   "metadata": {},
   "outputs": [],
   "source": [
    "model=ascii.read(\"dp0_besancon.txt\")\n",
    "model"
   ]
  },
  {
   "cell_type": "code",
   "execution_count": null,
   "id": "ae427a07",
   "metadata": {},
   "outputs": [],
   "source": [
    "model['u']=model['u-g']+model['g']\n",
    "model['r']=model['g']-model['g-r']\n",
    "model['i']=model['r']-model['r-i']\n",
    "model['z']=model['i']-model['i-z']"
   ]
  },
  {
   "cell_type": "code",
   "execution_count": null,
   "id": "e47d52a6",
   "metadata": {},
   "outputs": [],
   "source": [
    "fig,ax=plt.subplots(1,2,figsize=(10,4))\n",
    "ax[0].hist2d(model['g']-model['i'], model['g'],bins=50,norm=mpl.colors.LogNorm())\n",
    "ax[0].set_xlabel('g $-$ i')\n",
    "ax[0].set_ylabel('g')\n",
    "ax[0].invert_yaxis()\n",
    "ax[1].hist2d(model['g']-model['r'], model['r']-model['i'],bins=50,norm=mpl.colors.LogNorm())\n",
    "ax[1].set_xlabel('g $-$ r')\n",
    "ax[1].set_ylabel('r $-$ i')\n",
    "plt.show()"
   ]
  },
  {
   "cell_type": "markdown",
   "id": "8e8ed320",
   "metadata": {},
   "source": [
    "Here we notice a problem:  The shape of the low-mass end of the color-color diagram is quite different, not attributable to dust.  Is this because [the SDSS filters are different than the Rubin filters?](https://speclite.readthedocs.io/en/latest/filters.html) <em>Note that the SDSS filters at the speclite page probably do not include the reference transmission. Future work: use tabulated output of instrinsic properties and spectral library to calculate mags with speclite. Access the filter curves as used in DC2 [in a tagged version here](https://github.com/lsst/throughputs/tree/DC2production/baseline).</em>"
   ]
  },
  {
   "cell_type": "markdown",
   "id": "46328b3f",
   "metadata": {},
   "source": [
    "### Step 3: Apply the NICER technique"
   ]
  },
  {
   "cell_type": "markdown",
   "id": "c475f4bb",
   "metadata": {},
   "source": [
    "Identify the science field photometry:\n",
    "\n",
    "(<em>I found that increasing the errors was necessary to get the method to converge to something reasonable.</em>) "
   ]
  },
  {
   "cell_type": "code",
   "execution_count": null,
   "id": "b77dca4f",
   "metadata": {},
   "outputs": [],
   "source": [
    "sci_phot = [true_results['mag_u_cModel'], \n",
    "            true_results['mag_g_cModel'], \n",
    "            true_results['mag_r_cModel'],\n",
    "            true_results['mag_i_cModel'],\n",
    "            true_results['mag_z_cModel'] ]\n",
    "\n",
    "# Bump up error to account for model mismatch?\n",
    "sci_err = [true_results['magerr_u_cModel']+0.02, \n",
    "           true_results['magerr_g_cModel']+0.02, \n",
    "           true_results['magerr_r_cModel']+0.02,\n",
    "           true_results['magerr_i_cModel']+0.02, \n",
    "           true_results['magerr_z_cModel']+0.02 ]\n",
    "\n",
    "sci_coo = SkyCoord(ra=true_results['ra'], dec=true_results['dec'], frame='icrs', unit='deg')\n",
    "\n",
    "science = ApparentMagnitudes(magnitudes=sci_phot, errors=sci_err, \n",
    "                             extvec=ext_bands_normed, coordinates=sci_coo, names=bands)"
   ]
  },
  {
   "cell_type": "markdown",
   "id": "aec92a07",
   "metadata": {},
   "source": [
    "Identify the reference field model photometry:"
   ]
  },
  {
   "cell_type": "code",
   "execution_count": null,
   "id": "303b514c",
   "metadata": {},
   "outputs": [],
   "source": [
    "mod_phot = [model['u'], \n",
    "            model['g'], \n",
    "            model['r'], \n",
    "            model['i'], \n",
    "            model['z'] ]\n",
    "\n",
    "# Bump up error to account for model mismatch?\n",
    "mod_err = [model['errBand_u']+0.02,\n",
    "           model['errBand_g']+0.02, \n",
    "           model['errBand_r']+0.02, \n",
    "           model['errBand_i']+0.02, \n",
    "           model['errBand_z']+0.02 ]\n",
    "\n",
    "mod_coo= SkyCoord(ra=model['RAJ2000'], dec=model['DECJ2000'], frame='icrs', unit='deg')\n",
    "\n",
    "control = ApparentMagnitudes(magnitudes=mod_phot, errors=mod_err, \n",
    "                             extvec=ext_bands_normed, coordinates=mod_coo, names=bands)"
   ]
  },
  {
   "cell_type": "markdown",
   "id": "0a72f519",
   "metadata": {},
   "source": [
    "Now run NICER on the science field with the control:"
   ]
  },
  {
   "cell_type": "code",
   "execution_count": null,
   "id": "94802314",
   "metadata": {},
   "outputs": [],
   "source": [
    "ext_nicer = science.nicer(control=control)"
   ]
  },
  {
   "cell_type": "code",
   "execution_count": null,
   "id": "d669cde9",
   "metadata": {},
   "outputs": [],
   "source": [
    "Ag_nicer = ext_nicer.extinction"
   ]
  },
  {
   "cell_type": "code",
   "execution_count": null,
   "id": "dffb06bd",
   "metadata": {},
   "outputs": [],
   "source": [
    "print('Ag = ',Ag_nicer.mean(),'+/-',Ag_nicer.std())"
   ]
  },
  {
   "cell_type": "markdown",
   "id": "14dff4ee",
   "metadata": {},
   "source": [
    "Although there is a very large spread in values, we have shown that there is indeed not much extinction in the DC2 field. <em>Future work: Try PNICER</em>"
   ]
  },
  {
   "cell_type": "markdown",
   "id": "17c96586",
   "metadata": {},
   "source": [
    "## Postscript"
   ]
  },
  {
   "cell_type": "markdown",
   "id": "f30dd79b",
   "metadata": {},
   "source": [
    "So, does the method actually work?  To check, let's for fun add a slab of $A_g = 1$ dust in front of the field and use the extinction-corrected data as its own dust-free control field:"
   ]
  },
  {
   "cell_type": "code",
   "execution_count": null,
   "id": "e43eb981",
   "metadata": {},
   "outputs": [],
   "source": [
    "sci_phot = [true_results['mag_u_cModel']+ext_bands_normed[0], \n",
    "            true_results['mag_g_cModel']+ext_bands_normed[1], \n",
    "            true_results['mag_r_cModel']+ext_bands_normed[2],\n",
    "            true_results['mag_i_cModel']+ext_bands_normed[3],\n",
    "            true_results['mag_z_cModel']+ext_bands_normed[4] ]\n",
    "\n",
    "sci_err = [true_results['magerr_u_cModel'], \n",
    "           true_results['magerr_g_cModel'], \n",
    "           true_results['magerr_r_cModel'],\n",
    "           true_results['magerr_i_cModel'], \n",
    "           true_results['magerr_z_cModel'] ]\n",
    "\n",
    "sci_coo = SkyCoord(ra=true_results['ra'], dec=true_results['dec'], frame='icrs', unit='deg')\n",
    "\n",
    "science = ApparentMagnitudes(magnitudes=sci_phot, errors=sci_err, \n",
    "                             extvec=ext_bands_normed, coordinates=sci_coo, names=bands)"
   ]
  },
  {
   "cell_type": "code",
   "execution_count": null,
   "id": "64c6cc5a",
   "metadata": {},
   "outputs": [],
   "source": [
    "control_phot = [true_results['mag_u_cModel']-Au_truth, \n",
    "                true_results['mag_g_cModel']-Ag_truth, \n",
    "                true_results['mag_r_cModel']-Ar_truth,\n",
    "                true_results['mag_i_cModel']-Ai_truth,\n",
    "                true_results['mag_z_cModel']-Az_truth ]\n",
    "\n",
    "control_err = [true_results['magerr_u_cModel'], \n",
    "               true_results['magerr_g_cModel'], \n",
    "               true_results['magerr_r_cModel'],\n",
    "               true_results['magerr_i_cModel'], \n",
    "               true_results['magerr_z_cModel'] ]\n",
    "\n",
    "control_coo= SkyCoord(ra=true_results['ra'], dec=true_results['dec'], frame='icrs', unit='deg')\n",
    "\n",
    "control = ApparentMagnitudes(magnitudes=control_phot, errors=control_err, \n",
    "                             extvec=ext_bands_normed, coordinates=control_coo, names=bands)"
   ]
  },
  {
   "cell_type": "code",
   "execution_count": null,
   "id": "42e85a95",
   "metadata": {},
   "outputs": [],
   "source": [
    "ext_nicer = science.nicer(control=control)"
   ]
  },
  {
   "cell_type": "code",
   "execution_count": null,
   "id": "1e403ee8",
   "metadata": {},
   "outputs": [],
   "source": [
    "print('Ag = ',ext_nicer.extinction.mean(),'+/-',ext_nicer.extinction.std())"
   ]
  },
  {
   "cell_type": "code",
   "execution_count": null,
   "id": "b215549b",
   "metadata": {},
   "outputs": [],
   "source": [
    "plt.hist(ext_nicer.extinction,bins=20)\n",
    "plt.xlabel('$A_g$ with a 1 mag slab in front of DC2')\n",
    "plt.show()"
   ]
  },
  {
   "cell_type": "markdown",
   "id": "df521db2",
   "metadata": {},
   "source": [
    "Indeed, it works on larger extinction.  So while this isn't very useful for DC2, these kinds of methods will be valuable to detect and characterize extinction due to dust clouds once Rubin Observatory data of the real universe is here. "
   ]
  }
 ],
 "metadata": {
  "kernelspec": {
   "display_name": "LSST",
   "language": "python",
   "name": "lsst"
  },
  "language_info": {
   "codemirror_mode": {
    "name": "ipython",
    "version": 3
   },
   "file_extension": ".py",
   "mimetype": "text/x-python",
   "name": "python",
   "nbconvert_exporter": "python",
   "pygments_lexer": "ipython3",
   "version": "3.8.8"
  }
 },
 "nbformat": 4,
 "nbformat_minor": 5
}
