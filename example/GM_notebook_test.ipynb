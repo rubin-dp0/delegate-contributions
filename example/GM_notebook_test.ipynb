{
 "cells": [
  {
   "cell_type": "markdown",
   "id": "55fa2b9d",
   "metadata": {},
   "source": [
    "# Notebook Title:  Test to verify the cheat sheet, July 1 2021\n",
    "\n",
    "Contact author: Greg Madejski\n",
    "\n",
    "Last verified to run on ???? with LSST Science Pipelines release version ???."
   ]
  },
  {
   "cell_type": "markdown",
   "id": "e6d16be3",
   "metadata": {},
   "source": [
    "## Introduction\n",
    "\n",
    "- *Use this space to provide a brief description of what people will learn from this notebook.*\n",
    "- *Include links to any information or precursor tutorials that would be useful.*\n",
    "- *Give credit to all individuals who have contributed to this notebook or whose work this notebook is based on, if applicable.*"
   ]
  },
  {
   "cell_type": "markdown",
   "id": "80d7985a",
   "metadata": {},
   "source": [
    "## 1.0 Set Up"
   ]
  },
  {
   "cell_type": "code",
   "execution_count": null,
   "id": "6cbb1162",
   "metadata": {},
   "outputs": [],
   "source": [
    "### Import packages:"
   ]
  }
 ],
 "metadata": {
  "kernelspec": {
   "display_name": "LSST",
   "language": "python",
   "name": "lsst"
  },
  "language_info": {
   "codemirror_mode": {
    "name": "ipython",
    "version": 3
   },
   "file_extension": ".py",
   "mimetype": "text/x-python",
   "name": "python",
   "nbconvert_exporter": "python",
   "pygments_lexer": "ipython3",
   "version": "3.8.8"
  }
 },
 "nbformat": 4,
 "nbformat_minor": 5
}
