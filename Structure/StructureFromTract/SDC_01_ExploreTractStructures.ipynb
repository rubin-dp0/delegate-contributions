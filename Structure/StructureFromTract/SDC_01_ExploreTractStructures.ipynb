{
 "cells": [
  {
   "cell_type": "markdown",
   "metadata": {},
   "source": [
    "<img align=\"left\" src = figs/logos/logo-IJCLab_v1.png width=250, style=\"padding: 10px\"> \n",
    "<b>Query information on tracts and patchs from objects table </b> <br>\n",
    "Last verified to run on 2021-11-18 with LSST Science Pipelines release w_2021_40 <br>\n",
    "Contact authors: Sylvie Dagoret-Campagne (DP0 Delegate) <br>\n",
    "Target audience: DP0 delegates member <br>"
   ]
  },
  {
   "cell_type": "markdown",
   "metadata": {},
   "source": [
    "**Credit:** Originally developed by Sylvie Dagoret-Campagne in the framework provided by Rubin DP0.1 (reference DP0.1 tutorials)\n",
    "\n",
    "Acknowledgement: Melissa Graham, Leanne Guy, Alex Drlica-Wagner, Keith Bechtol, Grzegorz Madejski, Louise Edwards, and many others .."
   ]
  },
  {
   "cell_type": "markdown",
   "metadata": {},
   "source": [
    "### Learning Objectives\n",
    "\n",
    "The goal is to localize some big structures in tracts by using a Top - Down approach, starting from a tract then selecting manually a redshift slice with Holoview tool.\n",
    "The density of sources is filtered by a KDE gaussian kernel to emphasize the LSS structure.\n"
   ]
  },
  {
   "cell_type": "markdown",
   "metadata": {},
   "source": [
    "### Imports"
   ]
  },
  {
   "cell_type": "code",
   "execution_count": null,
   "metadata": {},
   "outputs": [],
   "source": [
    "# Import general python packages\n",
    "import numpy as np\n",
    "import re\n",
    "import pandas as pd\n",
    "import pickle\n",
    "from pandas.testing import assert_frame_equal\n",
    "import os\n",
    "import errno\n",
    "import shutil\n",
    "import getpass\n",
    "\n",
    "# Import the Rubin TAP service utilities\n",
    "from lsst.rsp import get_tap_service, retrieve_query\n",
    "\n",
    "# LSST Science Pipelines (Stack) packages\n",
    "import lsst.daf.butler as dafButler\n",
    "import lsst.afw.display as afwDisplay\n",
    "import lsst.geom as geom\n",
    "import lsst.afw.coord as afwCoord\n",
    "afwDisplay.setDefaultBackend('matplotlib')\n",
    "\n",
    "#\n",
    "from lsst import skymap\n",
    "\n",
    "# Astropy\n",
    "from astropy import units as u\n",
    "from astropy.coordinates import SkyCoord\n",
    "\n",
    "# Bokeh for interactive visualization\n",
    "import bokeh\n",
    "from bokeh.io import output_file, output_notebook, show\n",
    "from bokeh.layouts import gridplot\n",
    "from bokeh.models import ColumnDataSource, CDSView, GroupFilter, HoverTool\n",
    "from bokeh.plotting import figure\n",
    "from bokeh.transform import factor_cmap\n",
    "\n",
    "import holoviews as hv\n",
    "from holoviews import streams, opts\n",
    "from holoviews.operation.datashader import rasterize\n",
    "from holoviews.operation.datashader import datashade, dynspread\n",
    "from holoviews.plotting.util import process_cmap\n",
    "\n",
    "import datashader as dsh\n",
    "\n",
    "\n",
    "# Set the maximum number of rows to display from pandas\n",
    "pd.set_option('display.max_rows', 20)\n",
    "\n",
    "\n",
    "# Set the holoviews plotting library to be bokeh\n",
    "# You will see the holoviews + bokeh icons displayed when the library is loaded successfully\n",
    "#hv.extension('bokeh')\n",
    "hv.extension('bokeh', 'matplotlib')\n",
    "\n",
    "# Display bokeh plots inline in the notebook\n",
    "output_notebook()"
   ]
  },
  {
   "cell_type": "code",
   "execution_count": null,
   "metadata": {},
   "outputs": [],
   "source": [
    "# What versions of bokeh and holoviews nd datashader are we working with?\n",
    "# This is important when referring to online documentation as\n",
    "# APIs can change between versions.\n",
    "print(\"Bokeh version: \" + bokeh.__version__)\n",
    "print(\"Holoviews version: \" + hv.__version__)\n",
    "print(\"Datashader version: \" + dsh.__version__)"
   ]
  },
  {
   "cell_type": "code",
   "execution_count": null,
   "metadata": {},
   "outputs": [],
   "source": [
    "# allow for matplotlib to create inline plots in our notebook\n",
    "%matplotlib inline\n",
    "import matplotlib.pyplot as plt      # imports matplotlib.pyplot as plt\n",
    "from matplotlib.colors import Normalize\n",
    "\n",
    "import warnings                      # imports the warnings library\n",
    "import gc                            # imports python's garbage collector\n",
    "\n",
    "# Ignore warnings\n",
    "from astropy.units import UnitsWarning\n",
    "warnings.simplefilter(\"ignore\", category=UnitsWarning)"
   ]
  },
  {
   "cell_type": "code",
   "execution_count": null,
   "metadata": {},
   "outputs": [],
   "source": [
    "# Set up some plotting defaults:\n",
    "\n",
    "params = {'axes.labelsize': 28,\n",
    "          'font.size': 24,\n",
    "          'legend.fontsize': 14,\n",
    "          'xtick.major.width': 3,\n",
    "          'xtick.minor.width': 2,\n",
    "          'xtick.major.size': 12,\n",
    "          'xtick.minor.size': 6,\n",
    "          'xtick.direction': 'in',\n",
    "          'xtick.top': True,\n",
    "          'lines.linewidth': 3,\n",
    "          'axes.linewidth': 3,\n",
    "          'axes.labelweight': 3,\n",
    "          'axes.titleweight': 3,\n",
    "          'ytick.major.width': 3,\n",
    "          'ytick.minor.width': 2,\n",
    "          'ytick.major.size': 12,\n",
    "          'ytick.minor.size': 6,\n",
    "          'ytick.direction': 'in',\n",
    "          'ytick.right': True,\n",
    "          'figure.figsize': [18, 10],\n",
    "          'figure.facecolor': 'White'\n",
    "          }\n",
    "\n",
    "plt.rcParams.update(params)"
   ]
  },
  {
   "cell_type": "code",
   "execution_count": null,
   "metadata": {},
   "outputs": [],
   "source": [
    "from astropy.cosmology import FlatLambdaCDM"
   ]
  },
  {
   "cell_type": "code",
   "execution_count": null,
   "metadata": {},
   "outputs": [],
   "source": [
    "from IPython.display import Image"
   ]
  },
  {
   "cell_type": "code",
   "execution_count": null,
   "metadata": {},
   "outputs": [],
   "source": [
    "def remove_figure(fig):\n",
    "    \"\"\"Remove a figure to reduce memory footprint. \"\"\"\n",
    "    # get the axes and clear their images\n",
    "    for ax in fig.get_axes():\n",
    "        for im in ax.get_images():\n",
    "            im.remove()\n",
    "    fig.clf()      # clear the figure\n",
    "    plt.close(fig) # close the figure\n",
    "    gc.collect()   # call the garbage collector"
   ]
  },
  {
   "cell_type": "code",
   "execution_count": null,
   "metadata": {},
   "outputs": [],
   "source": [
    "# What version of the Stack are we using?\n",
    "! echo $IMAGE_DESCRIPTION\n",
    "! eups list -s | grep lsst_distrib"
   ]
  },
  {
   "cell_type": "markdown",
   "metadata": {},
   "source": [
    "### 1. Notebook Configuration"
   ]
  },
  {
   "cell_type": "markdown",
   "metadata": {},
   "source": [
    "#### 1.1 setup pathes"
   ]
  },
  {
   "cell_type": "code",
   "execution_count": null,
   "metadata": {},
   "outputs": [],
   "source": [
    "# username\n",
    "myusername=getpass.getuser()"
   ]
  },
  {
   "cell_type": "code",
   "execution_count": null,
   "metadata": {},
   "outputs": [],
   "source": [
    "# temporary folders if necessary\n",
    "NBDIR       = 'tract_lss01'                            # relative path for this notebook output\n",
    "TMPTOPDIR   = \"/scratch\"                               # always write some output in /scratch, never in user HOME \n",
    "TMPUSERDIR  = os.path.join(TMPTOPDIR,myusername)       # defines the path of user outputs in /scratch \n",
    "TMPNBDIR    = os.path.join(TMPUSERDIR,NBDIR)           # output path for this particular notebook"
   ]
  },
  {
   "cell_type": "code",
   "execution_count": null,
   "metadata": {},
   "outputs": [],
   "source": [
    "# create user temporary directory\n",
    "if not os.path.isdir(TMPUSERDIR):\n",
    "    try:\n",
    "        os.mkdir(TMPUSERDIR)\n",
    "    except:\n",
    "        raise OSError(f\"Can't create destination directory {TMPUSERDIR}!\" ) "
   ]
  },
  {
   "cell_type": "code",
   "execution_count": null,
   "metadata": {},
   "outputs": [],
   "source": [
    "# create this notebook temporary directory\n",
    "if not os.path.isdir(TMPNBDIR):\n",
    "    try:\n",
    "        os.mkdir(TMPNBDIR)\n",
    "    except:\n",
    "        raise OSError(f\"Can't create destination directory {TMPNBDIR}!\" ) "
   ]
  },
  {
   "cell_type": "markdown",
   "metadata": {},
   "source": [
    "#### 1.2 Defines steering flags and parameters\n",
    "\n",
    "The Output queries may be saved in files if requested. \n",
    "By defaults all the following flags are set False : no query output is saved in file.\n",
    "To speed-up the demo, the presenter may keep some of those flags True.\n"
   ]
  },
  {
   "cell_type": "code",
   "execution_count": null,
   "metadata": {},
   "outputs": [],
   "source": [
    "FLAG_WRITE_DATAFRAMEONDISK  = False                     # Select of query output will be saved on disk\n",
    "FLAG_READ_DATAFRAMEFROMDISK = False                     # Select of the query can be red from disk if it exists\n",
    "FLAG_CLEAN_DATAONDISK       = False                     # Select of the output queries saved in file will be cleaned at the end of the notebook"
   ]
  },
  {
   "cell_type": "markdown",
   "metadata": {},
   "source": [
    "### 2. Explore the DP0.1 Patch structure\n",
    "\n",
    "\n",
    "The goal is to visualize the tract structure from the object data to check if the data are those described in DC2 paper (as expected)."
   ]
  },
  {
   "cell_type": "markdown",
   "metadata": {},
   "source": [
    "#### 2.1 Create the Rubin TAP Service client"
   ]
  },
  {
   "cell_type": "code",
   "execution_count": null,
   "metadata": {},
   "outputs": [],
   "source": [
    "# Get an instance of the TAP service\n",
    "service = get_tap_service()\n",
    "assert service is not None\n",
    "assert service.baseurl == \"https://data.lsst.cloud/api/tap\""
   ]
  },
  {
   "cell_type": "markdown",
   "metadata": {},
   "source": [
    "#### 2.2 Get list of tracts"
   ]
  },
  {
   "cell_type": "code",
   "execution_count": null,
   "metadata": {},
   "outputs": [],
   "source": [
    "# Execute the same query using the maxrec parameter instead of the TOP\n",
    "max_rec=1000\n",
    "query = \"SELECT DISTINCT tract \" \\\n",
    "        \"FROM dp01_dc2_catalogs.object \" \\\n",
    "        \"ORDER by tract ASC\"\n",
    "print(query)\n",
    "filename_result1='tracts_result1.csv'\n",
    "fullfilename_result1=os.path.join(TMPNBDIR,filename_result1)"
   ]
  },
  {
   "cell_type": "code",
   "execution_count": null,
   "metadata": {},
   "outputs": [],
   "source": [
    "if FLAG_READ_DATAFRAMEFROMDISK and os.path.exists(fullfilename_result1):\n",
    "    sql_result1 = pd.read_csv(fullfilename_result1,index_col=0)\n",
    "else:\n",
    "    sql_result1 = service.search(query, maxrec=max_rec).to_table().to_pandas()\n",
    "    \n",
    "if FLAG_WRITE_DATAFRAMEONDISK:\n",
    "    sql_result1.to_csv(fullfilename_result1)"
   ]
  },
  {
   "cell_type": "code",
   "execution_count": null,
   "metadata": {},
   "outputs": [],
   "source": [
    "sql_result1"
   ]
  },
  {
   "cell_type": "code",
   "execution_count": null,
   "metadata": {},
   "outputs": [],
   "source": [
    "tract_list = sql_result1[\"tract\"].values\n",
    "tract_list"
   ]
  },
  {
   "cell_type": "markdown",
   "metadata": {},
   "source": [
    "#### 2.3 Larger query on tracts and counting the number of object in each tract"
   ]
  },
  {
   "cell_type": "code",
   "execution_count": null,
   "metadata": {},
   "outputs": [],
   "source": [
    "query_histogram = \"SELECT tract, count(tract) \" \\\n",
    "                  \" FROM dp01_dc2_catalogs.object \" \\\n",
    "                  \" GROUP BY tract \" \\\n",
    "                  \" ORDER BY tract ASC\"\n",
    "print(query_histogram)\n",
    "filename_result2='tracts_result2.csv'\n",
    "fullfilename_result2=os.path.join(TMPNBDIR,filename_result2)"
   ]
  },
  {
   "cell_type": "code",
   "execution_count": null,
   "metadata": {},
   "outputs": [],
   "source": [
    "if FLAG_READ_DATAFRAMEFROMDISK and os.path.exists(fullfilename_result2):\n",
    "    sql_result2 = pd.read_csv(fullfilename_result2,index_col=0)\n",
    "else:\n",
    "    sql_result2 = service.search(query_histogram).to_table().to_pandas()\n",
    "    \n",
    "if FLAG_WRITE_DATAFRAMEONDISK:\n",
    "    sql_result2.to_csv(fullfilename_result2)"
   ]
  },
  {
   "cell_type": "code",
   "execution_count": null,
   "metadata": {},
   "outputs": [],
   "source": [
    "sql_histogram = sql_result2"
   ]
  },
  {
   "cell_type": "code",
   "execution_count": null,
   "metadata": {},
   "outputs": [],
   "source": [
    "# add more info to dataframe\n",
    "sql_histogram['index'] = sql_histogram.index\n",
    "sql_histogram['logcount'] = np.log10(sql_histogram[\"count\"])"
   ]
  },
  {
   "cell_type": "code",
   "execution_count": null,
   "metadata": {},
   "outputs": [],
   "source": [
    "sql_histogram.head()"
   ]
  },
  {
   "cell_type": "code",
   "execution_count": null,
   "metadata": {},
   "outputs": [],
   "source": [
    "N=len(sql_histogram.index)\n",
    "print(f\"Number of {N} tracts\")"
   ]
  },
  {
   "cell_type": "markdown",
   "metadata": {},
   "source": [
    "#### 2.4 Make a Bar plot with Holoview"
   ]
  },
  {
   "cell_type": "markdown",
   "metadata": {},
   "source": [
    "##### with tract index along x axis with linear y scale"
   ]
  },
  {
   "cell_type": "code",
   "execution_count": null,
   "metadata": {},
   "outputs": [],
   "source": [
    "%%opts Bars [width=1000, height=200, xrotation= 90, ]\n",
    "\n",
    "# Custom hover tool for the source detections\n",
    "tractHoverTool = HoverTool(\n",
    "    tooltips=[\n",
    "        ( 'index', '@index{4.0f}'),\n",
    "        ( 'tract', '@tract{4.0f}'),\n",
    "        ( 'count', '@count{7.0f}'),\n",
    "    ],\n",
    "    formatters={\n",
    "        'index': 'printf',\n",
    "        'tract': 'printf',\n",
    "        'count': 'printf',\n",
    "    },   \n",
    ")\n",
    "\n",
    "hv.Bars(data=sql_histogram, kdims=['index'],vdims=[\"count\",\"tract\",\"logcount\"]).opts(\n",
    "    title=\"object distribution in tract (lin scale)\",color='darkblue', \n",
    "    xlabel='tract number', fontscale=1.2,tools=[tractHoverTool]) "
   ]
  },
  {
   "cell_type": "markdown",
   "metadata": {},
   "source": [
    "##### by tract number along x axis with y scale in log"
   ]
  },
  {
   "cell_type": "code",
   "execution_count": null,
   "metadata": {},
   "outputs": [],
   "source": [
    "%%opts Bars [width=1200, height=200, xrotation= 90, ]\n",
    "\n",
    "# Custom hover tool for the source detections\n",
    "tractHoverTool = HoverTool(\n",
    "    tooltips=[\n",
    "        ( 'tract', '@tract{4.0f}'),\n",
    "        ( 'count', '@count{7.0f}'),\n",
    "    ],\n",
    "    formatters={\n",
    "        'tract': 'printf',\n",
    "        'count': 'printf',\n",
    "    },   \n",
    ")\n",
    "\n",
    "\n",
    "hv.Bars(data=sql_histogram, kdims=['tract'],vdims=[\"logcount\",\"tract\",\"count\"]).opts(\n",
    "    title=\"object distribution in tract (log scale)\",color='darkblue', \n",
    "    xlabel='tract number', fontscale=1.2,tools=[tractHoverTool]) "
   ]
  },
  {
   "cell_type": "markdown",
   "metadata": {},
   "source": [
    "####  2.5 Compute (RA,DEC) of each patch"
   ]
  },
  {
   "cell_type": "code",
   "execution_count": null,
   "metadata": {},
   "outputs": [],
   "source": [
    "query_multival = \"SELECT tract, count(tract), avg(ra) as avg_ra, avg(dec) as avg_dec \" \\\n",
    "                  \" FROM dp01_dc2_catalogs.object \" \\\n",
    "                  \" GROUP BY tract \" \\\n",
    "                  \" ORDER BY tract\"\n",
    "print(query_multival)\n",
    "\n",
    "filename_result3='tracts_result3.csv'\n",
    "fullfilename_result3=os.path.join(TMPNBDIR,filename_result3)"
   ]
  },
  {
   "cell_type": "code",
   "execution_count": null,
   "metadata": {},
   "outputs": [],
   "source": [
    "if FLAG_READ_DATAFRAMEFROMDISK and os.path.exists(fullfilename_result3):\n",
    "    sql_result3 = pd.read_csv(fullfilename_result3,index_col=0)\n",
    "else:\n",
    "    sql_result3 = service.search(query_multival).to_table().to_pandas()\n",
    "    \n",
    "if FLAG_WRITE_DATAFRAMEONDISK:\n",
    "    sql_result3.to_csv(fullfilename_result3)"
   ]
  },
  {
   "cell_type": "code",
   "execution_count": null,
   "metadata": {},
   "outputs": [],
   "source": [
    "sql_data3 = sql_result3"
   ]
  },
  {
   "cell_type": "code",
   "execution_count": null,
   "metadata": {},
   "outputs": [],
   "source": [
    "sql_data3['index'] = sql_data3.index\n",
    "sql_data3['logcount'] = np.log10(sql_data3[\"count\"])"
   ]
  },
  {
   "cell_type": "code",
   "execution_count": null,
   "metadata": {},
   "outputs": [],
   "source": [
    "sql_data3.head()"
   ]
  },
  {
   "cell_type": "markdown",
   "metadata": {},
   "source": [
    "#### 1.6 2D map of tract objects statistic"
   ]
  },
  {
   "cell_type": "markdown",
   "metadata": {},
   "source": [
    "##### with Holoview scatter"
   ]
  },
  {
   "cell_type": "code",
   "execution_count": null,
   "metadata": {},
   "outputs": [],
   "source": [
    "# Custom hover tool for the source detections\n",
    "objHoverTool = HoverTool(\n",
    "    tooltips=[\n",
    "        ( 'tract', '@tract{4.0f}'),\n",
    "        ( 'RA', '@avg_ra{0.2f}'),\n",
    "        ( 'DEC', '@avg_dec{0.2f}'),\n",
    "        ( 'count', '@count{7.0f}'),\n",
    "    ],\n",
    "    formatters={\n",
    "        'tract': 'printf',\n",
    "        'RA' : 'printf',\n",
    "        'DEC' : 'printf',\n",
    "        'count' : 'printf',\n",
    "    },\n",
    "    \n",
    ")"
   ]
  },
  {
   "cell_type": "code",
   "execution_count": null,
   "metadata": {},
   "outputs": [],
   "source": [
    "scatter = hv.Scatter(sql_data3, kdims=['avg_ra'],vdims=['avg_dec','tract','count', 'logcount','index'])\n",
    "scatter = scatter.opts(color='logcount', marker=\"s\",size=10,tools=[objHoverTool])\n",
    "scatter.hist(dimension=['avg_ra','avg_dec'])"
   ]
  },
  {
   "cell_type": "markdown",
   "metadata": {},
   "source": [
    "##### with Holoview Points"
   ]
  },
  {
   "cell_type": "code",
   "execution_count": null,
   "metadata": {},
   "outputs": [],
   "source": [
    "zipped_points = np.column_stack((sql_data3['avg_ra'],sql_data3['avg_dec']))"
   ]
  },
  {
   "cell_type": "code",
   "execution_count": null,
   "metadata": {},
   "outputs": [],
   "source": [
    "from holoviews.operation import histogram\n",
    "points = hv.Points(zipped_points)\n",
    "radim = hv.Dimension('radim', label='right ascension', unit='deg')\n",
    "decdim = hv.Dimension('decdim',label='declination', unit='deg')\n",
    "points.redim(x=radim,y=decdim)\n",
    "points.opts(color='b', marker=\"s\",size=10,tools=['hover'])\n",
    "points.hist(dimension=['x','y'])"
   ]
  },
  {
   "cell_type": "markdown",
   "metadata": {},
   "source": [
    "##### **A very nice piece of code plotting tracts and patches can be found here from Mike**\n",
    "\n",
    "https://community.lsst.org/t/how-to-make-a-loop-over-tracts-and-patches-to-split-the-dc2-dataset/6081"
   ]
  },
  {
   "cell_type": "markdown",
   "metadata": {},
   "source": [
    "### 3. Skymap with Butler\n",
    "\n",
    "- the idea is to search for the geometrical configuration of tracts and patches not based on object positions.\n",
    "- Low ring tracts aren't uniformly filled by DC2 object, inducing a bias in tract centers."
   ]
  },
  {
   "cell_type": "code",
   "execution_count": null,
   "metadata": {},
   "outputs": [],
   "source": [
    "Image(filename = \"figs/dc2/DC2imprint.png\", width=500, height=500)"
   ]
  },
  {
   "cell_type": "markdown",
   "metadata": {},
   "source": [
    "Sky map of the DC2 footprint. The large green trapezoid is the full DC2 footprint. The\n",
    "small red square in the upper right corner is the DDF region that is excluded in this release. Each\n",
    "tract is represented by a rectangle with a number on it showing the tract ID. The light pink region\n",
    "shows the size of the LSSTCam focal plane as a comparison."
   ]
  },
  {
   "cell_type": "code",
   "execution_count": null,
   "metadata": {},
   "outputs": [],
   "source": [
    "repo = 's3://butler-us-central1-dp01'\n",
    "collection = '2.2i/runs/DP0.1'\n",
    "butler = dafButler.Butler(repo,collections=collection)"
   ]
  },
  {
   "cell_type": "code",
   "execution_count": null,
   "metadata": {},
   "outputs": [],
   "source": [
    "skymap = butler.get('skyMap')"
   ]
  },
  {
   "cell_type": "markdown",
   "metadata": {},
   "source": [
    "Using Mike Read's snippet\n",
    "https://community.lsst.org/t/how-to-make-a-loop-over-tracts-and-patches-to-split-the-dc2-dataset/6081/4"
   ]
  },
  {
   "cell_type": "code",
   "execution_count": null,
   "metadata": {},
   "outputs": [],
   "source": [
    "import matplotlib\n",
    "from matplotlib.patches import Polygon\n",
    "from matplotlib.collections import PatchCollection"
   ]
  },
  {
   "cell_type": "code",
   "execution_count": null,
   "metadata": {},
   "outputs": [],
   "source": [
    "if 0:\n",
    "    numTracts=0\n",
    "    patches = []\n",
    "    for tractID in tract_list:\n",
    "        for tractInfo in skymap:\n",
    "            if tractInfo.getId() == tractID:\n",
    "               # print(tractID)\n",
    "                for patch in tractInfo:\n",
    "                    numTracts+=1\n",
    "                    #print(patch)\n",
    "                    ibb=patch.getInnerBBox()\n",
    "                    tWCS=tractInfo.getWcs()\n",
    "                    corners = []\n",
    "                    for corner in ibb.getCorners():\n",
    "                        p = geom.Point2D(corner.getX(), corner.getY())\n",
    "                        coord = tWCS.pixelToSky(p)\n",
    "                        corners.append([coord.getRa().asDegrees(), coord.getDec().asDegrees()])\n",
    "                    #print(corners)\n",
    "                    polygon = Polygon(corners,True)\n",
    "                    patches.append(polygon)\n",
    "    print(numTracts)\n",
    "    fig, ax = plt.subplots(figsize=(6,6))\n",
    "    p = PatchCollection(patches, cmap=matplotlib.cm.jet, alpha=0.4)\n",
    "    ax.add_collection(p)  \n",
    "    plt.xlim([47, 77])\n",
    "    plt.ylim([-47, -25])"
   ]
  },
  {
   "cell_type": "markdown",
   "metadata": {},
   "source": [
    "### 4. Work at patch level"
   ]
  },
  {
   "cell_type": "markdown",
   "metadata": {},
   "source": [
    "#### build the query"
   ]
  },
  {
   "cell_type": "code",
   "execution_count": null,
   "metadata": {},
   "outputs": [],
   "source": [
    "def build_query_objintract(tract) -> str:\n",
    "    \n",
    "    tract=int(tract)\n",
    "    query = \"SELECT obj.objectId, obj.ra, obj.dec, obj.tract, obj.patch, \" \\\n",
    "        \"obj.extendedness, obj.good, obj.clean, \" \\\n",
    "        \"truth.match_objectId, \"\\\n",
    "        \"truth.redshift, \"\\\n",
    "        \"truth.truth_type, \" \\\n",
    "        \"truth.match_sep, truth.is_variable \" \\\n",
    "        \"FROM dp01_dc2_catalogs.object as obj \" \\\n",
    "        \"JOIN dp01_dc2_catalogs.truth_match as truth \" \\\n",
    "        \"ON truth.match_objectId = obj.objectId \" \\\n",
    "        \"WHERE obj.tract = \" + str(tract) + \" \" \\\n",
    "        \"AND truth.match_objectid >= 0 \"\\\n",
    "        \"AND truth.is_good_match = 1\"\n",
    "    return query\n",
    "       "
   ]
  },
  {
   "cell_type": "markdown",
   "metadata": {},
   "source": [
    "#### Select the tract number"
   ]
  },
  {
   "cell_type": "code",
   "execution_count": null,
   "metadata": {},
   "outputs": [],
   "source": [
    "tractID=3264"
   ]
  },
  {
   "cell_type": "code",
   "execution_count": null,
   "metadata": {},
   "outputs": [],
   "source": [
    "query_tract=build_query_objintract(tractID)\n",
    "print(query_tract)\n",
    "filename_result4=f'tract{tractID}_result4.pkl'\n",
    "fullfilename_result4=os.path.join(TMPNBDIR,filename_result4)"
   ]
  },
  {
   "cell_type": "code",
   "execution_count": null,
   "metadata": {},
   "outputs": [],
   "source": [
    "filename_result4"
   ]
  },
  {
   "cell_type": "markdown",
   "metadata": {},
   "source": [
    "#### Call the job"
   ]
  },
  {
   "cell_type": "code",
   "execution_count": null,
   "metadata": {},
   "outputs": [],
   "source": [
    "if FLAG_READ_DATAFRAMEFROMDISK and os.path.exists(fullfilename_result4):\n",
    "    sql_result4 = pd.read_pickle(fullfilename_result4)\n",
    "    tract_data  = sql_result4\n",
    "else:\n",
    "    # Create and submit the job. This step does not run the query yet\n",
    "    job = service.submit_job(query_tract)\n",
    "    # Get the job URL\n",
    "    print('Job URL is', job.url)\n",
    "\n",
    "    # Get the job phase. It will be pending as we have not yet started the job\n",
    "    print('Job phase is', job.phase)\n",
    "    \n",
    "    # Run the job. You will see that the the cell completes executing,\n",
    "    # even though the query is still running\n",
    "    job.run()\n",
    "    \n",
    "    # Use this to tell python to wait for the job to finish if\n",
    "    # you don't want to run anything else while waiting\n",
    "    # The cell will continue executing until the job is finished\n",
    "    job.wait(phases=['COMPLETED', 'ERROR'])\n",
    "    print('Job phase is', job.phase)\n",
    "    \n",
    "    # A usefull funtion to raise an exception if there was a problem with the query\n",
    "    job.raise_if_error()\n",
    "    \n",
    "    # Once the job completes successfully, you can fetch the results\n",
    "    async_tract_data = job.fetch_result()\n",
    "    \n",
    "    tract_data = async_tract_data.to_table().to_pandas()\n",
    "    \n",
    "    \n",
    "if FLAG_WRITE_DATAFRAMEONDISK:\n",
    "    tract_data.to_pickle(fullfilename_result4)"
   ]
  },
  {
   "cell_type": "code",
   "execution_count": null,
   "metadata": {},
   "outputs": [],
   "source": [
    "! ls -l $TMPNBDIR"
   ]
  },
  {
   "cell_type": "code",
   "execution_count": null,
   "metadata": {},
   "outputs": [],
   "source": [
    "len(tract_data)"
   ]
  },
  {
   "cell_type": "code",
   "execution_count": null,
   "metadata": {},
   "outputs": [],
   "source": [
    "# map truth_type\n",
    "tract_data['truth_type']=tract_data['truth_type'].map({1: 'galaxy', 2: 'star', 3: 'SNe'})"
   ]
  },
  {
   "cell_type": "code",
   "execution_count": null,
   "metadata": {},
   "outputs": [],
   "source": [
    "tract_data.head()"
   ]
  },
  {
   "cell_type": "markdown",
   "metadata": {},
   "source": [
    "#### drop objects that are not galaxies"
   ]
  },
  {
   "cell_type": "code",
   "execution_count": null,
   "metadata": {},
   "outputs": [],
   "source": [
    "tract_data.drop(tract_data.loc[tract_data['truth_type'] != 'galaxy' ].index, inplace=True)"
   ]
  },
  {
   "cell_type": "code",
   "execution_count": null,
   "metadata": {},
   "outputs": [],
   "source": [
    "tract_data.head()"
   ]
  },
  {
   "cell_type": "markdown",
   "metadata": {},
   "source": [
    "#### 4.1 2D view of the patch (RA,DEC)"
   ]
  },
  {
   "cell_type": "code",
   "execution_count": null,
   "metadata": {},
   "outputs": [],
   "source": [
    "vdims = ['tract','patch','redshift']\n",
    "ds = hv.Dataset(tract_data, ['ra', 'dec'], vdims)"
   ]
  },
  {
   "cell_type": "code",
   "execution_count": null,
   "metadata": {},
   "outputs": [],
   "source": [
    "ds"
   ]
  },
  {
   "cell_type": "markdown",
   "metadata": {},
   "source": [
    "##### a) 2D histogram view with matplotlib"
   ]
  },
  {
   "cell_type": "code",
   "execution_count": null,
   "metadata": {},
   "outputs": [],
   "source": [
    "x=tract_data[\"ra\"]\n",
    "y=tract_data[\"dec\"]\n",
    "z=tract_data[\"redshift\"]\n",
    "xmin=x.min()\n",
    "xmax=x.max()\n",
    "ymin=y.min()\n",
    "ymax=y.max()\n",
    "zmin=z.min()\n",
    "zmax=z.max()"
   ]
  },
  {
   "cell_type": "code",
   "execution_count": null,
   "metadata": {},
   "outputs": [],
   "source": [
    "H, xedges, yedges = np.histogram2d(x, y, bins=(2000, 2000))"
   ]
  },
  {
   "cell_type": "code",
   "execution_count": null,
   "metadata": {},
   "outputs": [],
   "source": [
    "norm = Normalize(vmin=0, vmax=0.6)"
   ]
  },
  {
   "cell_type": "code",
   "execution_count": null,
   "metadata": {},
   "outputs": [],
   "source": [
    "fig, ax = plt.subplots(figsize=(7,6))\n",
    "img=ax.imshow(H.T,origin=\"lower\",norm=norm,extent=(xmin,xmax,ymin,ymax),cmap=\"jet\")\n",
    "plt.colorbar(img, ax=ax)\n",
    "ax.set_aspect('auto')\n",
    "ax.set_xlabel(\"RA (deg)\")\n",
    "ax.set_ylabel(\"DEC (deg)\")\n",
    "ax.set_title(f\"tract {tractID} (matplotlib image, histo2D)\")"
   ]
  },
  {
   "cell_type": "code",
   "execution_count": null,
   "metadata": {},
   "outputs": [],
   "source": [
    "remove_figure(fig)"
   ]
  },
  {
   "cell_type": "markdown",
   "metadata": {},
   "source": [
    "##### b) 2D histogram with hv.Image()"
   ]
  },
  {
   "cell_type": "code",
   "execution_count": null,
   "metadata": {},
   "outputs": [],
   "source": [
    "img_opts = dict(height=350, width=450, \n",
    "                xaxis=\"bottom\", \n",
    "                padding = 0.01, fontsize={'title': '12pt'},\n",
    "                colorbar=True, toolbar='right', show_grid=True,\n",
    "                title= f\"tract {tractID} (HV Image, histo2D)\",\n",
    "                xlabel=\"RA\",\n",
    "                ylabel=\"DEC\",\n",
    "                tools=['hover']\n",
    "               )    "
   ]
  },
  {
   "cell_type": "code",
   "execution_count": null,
   "metadata": {},
   "outputs": [],
   "source": [
    "# With hv.Image, must flip up-down the image initialy\n",
    "flipHT=np.flipud(H.T)\n",
    "img=hv.Image(flipHT, bounds=(xmin,ymin,xmax,ymax) ).opts(cmap=\"jet\").opts(**img_opts)"
   ]
  },
  {
   "cell_type": "code",
   "execution_count": null,
   "metadata": {},
   "outputs": [],
   "source": [
    "rasterize(img)"
   ]
  },
  {
   "cell_type": "markdown",
   "metadata": {},
   "source": [
    "##### c) 2D Dynamical map with CDS"
   ]
  },
  {
   "cell_type": "markdown",
   "metadata": {},
   "source": [
    "###### c.1) Create a CDS"
   ]
  },
  {
   "cell_type": "code",
   "execution_count": null,
   "metadata": {},
   "outputs": [],
   "source": [
    "tract_data.head()"
   ]
  },
  {
   "cell_type": "code",
   "execution_count": null,
   "metadata": {},
   "outputs": [],
   "source": [
    "# Create a column data-source for the plots to share. \n",
    "col_data = dict(ra=tract_data[\"ra\"],\n",
    "                dec=tract_data[\"dec\"],\n",
    "                z=tract_data[\"redshift\"])\n",
    "source = ColumnDataSource(data=col_data)"
   ]
  },
  {
   "cell_type": "markdown",
   "metadata": {},
   "source": [
    "###### c.2)  Dynamical map using CDS (source)"
   ]
  },
  {
   "cell_type": "code",
   "execution_count": null,
   "metadata": {},
   "outputs": [],
   "source": [
    "# Create a holoviews object to hold and plot data\n",
    "points = hv.Points((source.to_df()['ra'], \n",
    "                    source.to_df()['dec'])).opts(\n",
    "    tools=['box_select', 'lasso_select'])\n",
    "\n",
    "\n",
    "# Create the linked streams instance\n",
    "boundsxy = (0, 0, 0, 0)\n",
    "box = streams.BoundsXY(source=points, bounds=boundsxy)\n",
    "bounds = hv.DynamicMap(lambda bounds: hv.Bounds(bounds), streams=[box])\n",
    "\n",
    "# Apply the datashader\n",
    "p = dynspread(datashade(points,cmap=\"jet\"))\n",
    "p = p.opts(width=450, height=400,\n",
    "    padding=0.05, show_grid=True,\n",
    "    xlim=(xmin, xmax), ylim=(ymin, ymax),\n",
    "    xlabel=\"ra\", ylabel=\"dec\",title= f\"tract {tractID} (HV dynamical map)\",)"
   ]
  },
  {
   "cell_type": "code",
   "execution_count": null,
   "metadata": {},
   "outputs": [],
   "source": [
    "# Render the datashaded plot\n",
    "p * bounds"
   ]
  },
  {
   "cell_type": "markdown",
   "metadata": {},
   "source": [
    "###### c.3)  Dynamical map using tract_data directly"
   ]
  },
  {
   "cell_type": "code",
   "execution_count": null,
   "metadata": {},
   "outputs": [],
   "source": [
    "# Create a Points Element for the data\n",
    "points = hv.Points((tract_data[\"ra\"], \n",
    "                    tract_data[\"dec\"])).opts(\n",
    "    tools=['box_select', 'lasso_select'])\n",
    "\n",
    "# Create the linked streams instance\n",
    "boundsxy = (0, 0, 0, 0)\n",
    "box = streams.BoundsXY(source=points, bounds=boundsxy)\n",
    "bounds = hv.DynamicMap(lambda bounds: hv.Bounds(bounds), streams=[box])\n",
    "\n",
    "# Apply the datashader\n",
    "p = dynspread(datashade(points, cmap=\"Viridis\"))\n",
    "p = p.opts(width=450, height=400,\n",
    "    padding=0.05, show_grid=True,\n",
    "    xlim=(xmin, xmax), ylim=(ymin, ymax),\n",
    "    xlabel=\"ra\", ylabel=\"dec\",title= f\"tract {tractID} (HV dynamical map)\")"
   ]
  },
  {
   "cell_type": "code",
   "execution_count": null,
   "metadata": {},
   "outputs": [],
   "source": [
    "%%time\n",
    "# Render the datashaded plot\n",
    "p * bounds"
   ]
  },
  {
   "cell_type": "markdown",
   "metadata": {},
   "source": [
    "###### d) CDSView"
   ]
  },
  {
   "cell_type": "code",
   "execution_count": null,
   "metadata": {},
   "outputs": [],
   "source": [
    "# Create a view on truth_type stars\n",
    "#stars = CDSView(source=source,\n",
    "#                filters=[GroupFilter(column_name='truth_type', group=\"star\")])\n",
    "galaxiesradec = CDSView(source=source)"
   ]
  },
  {
   "cell_type": "code",
   "execution_count": null,
   "metadata": {},
   "outputs": [],
   "source": [
    "galaxiesradec"
   ]
  },
  {
   "cell_type": "markdown",
   "metadata": {},
   "source": [
    "#### 4.2 2D histos with redshift"
   ]
  },
  {
   "cell_type": "code",
   "execution_count": null,
   "metadata": {},
   "outputs": [],
   "source": [
    "img_opts = dict(height=200, width=800, \n",
    "                xaxis=\"bottom\", \n",
    "                padding = 0.01, fontsize={'title': '12pt'},\n",
    "                colorbar=True, toolbar='right', show_grid=True,\n",
    "                tools=['hover']\n",
    "                #tools=['box_select', 'lasso_select']\n",
    "                #tools=['hover','box_select']\n",
    "           )    "
   ]
  },
  {
   "cell_type": "code",
   "execution_count": null,
   "metadata": {},
   "outputs": [],
   "source": [
    "x1=tract_data[\"redshift\"]\n",
    "y1=tract_data[\"ra\"]\n",
    "H1, xedges1, yedges1 = np.histogram2d(x1, y1, bins=(1000, 1000))\n",
    "flipHT1=np.flipud(H1.T)\n",
    "img1=hv.Image(flipHT1,bounds=(zmin,xmin,zmax,xmax)).opts(cmap=\"jet\",title=f\"tract {tractID} : ra vs redshift\",xlabel=\"redshift\",ylabel=\"ra\").opts(**img_opts)"
   ]
  },
  {
   "cell_type": "code",
   "execution_count": null,
   "metadata": {},
   "outputs": [],
   "source": [
    "layout1 = rasterize(img1)"
   ]
  },
  {
   "cell_type": "code",
   "execution_count": null,
   "metadata": {},
   "outputs": [],
   "source": [
    "layout1"
   ]
  },
  {
   "cell_type": "code",
   "execution_count": null,
   "metadata": {},
   "outputs": [],
   "source": [
    "x2=tract_data[\"redshift\"]\n",
    "y2=tract_data[\"dec\"]\n",
    "H2, xedges2, yedges2 = np.histogram2d(x2, y2, bins=(1000, 1000))\n",
    "flipHT2=np.flipud(H2.T)\n",
    "img2=hv.Image(flipHT2,bounds=(zmin,ymin,zmax,ymax)).opts(cmap=\"jet\",title=f\"tract {tractID} : dec vs redshift\",xlabel=\"redshift\",ylabel=\"dec\").opts(**img_opts)"
   ]
  },
  {
   "cell_type": "code",
   "execution_count": null,
   "metadata": {},
   "outputs": [],
   "source": [
    "layout2 = rasterize(img2)"
   ]
  },
  {
   "cell_type": "code",
   "execution_count": null,
   "metadata": {},
   "outputs": [],
   "source": [
    "layout2"
   ]
  },
  {
   "cell_type": "code",
   "execution_count": null,
   "metadata": {},
   "outputs": [],
   "source": [
    "# FIXME : THIS IS NOT WORKING\n",
    "#layout = layout1 +layout2 \n",
    "#layout.cols(1)"
   ]
  },
  {
   "cell_type": "markdown",
   "metadata": {},
   "source": [
    "#### 4.3 2D Scatter with redshift"
   ]
  },
  {
   "cell_type": "code",
   "execution_count": null,
   "metadata": {},
   "outputs": [],
   "source": [
    "# Select a fraction of input sample\n",
    "frac = 0.01\n",
    "tract_data_reduced = tract_data.sample(frac=frac, axis='index')"
   ]
  },
  {
   "cell_type": "code",
   "execution_count": null,
   "metadata": {},
   "outputs": [],
   "source": [
    "len(tract_data_reduced)"
   ]
  },
  {
   "cell_type": "code",
   "execution_count": null,
   "metadata": {},
   "outputs": [],
   "source": [
    "sc1=hv.Scatter(tract_data_reduced,kdims=[\"redshift\"],vdims=[\"ra\"]).opts(\n",
    "    title=f\"tract {tractID} : RA vs redshift distribution\",color='darkblue', \n",
    "    xlabel='redshift', ylabel='RA',fontscale=1.2,\n",
    "    height=200, width=800,tools=['hover'])"
   ]
  },
  {
   "cell_type": "code",
   "execution_count": null,
   "metadata": {},
   "outputs": [],
   "source": [
    "sc2=hv.Scatter(tract_data_reduced,kdims=[\"redshift\"],vdims=[\"dec\"]).opts(\n",
    "    title=f\"tract {tractID} : DEC vs redshift distribution\",color='darkgreen', \n",
    "    xlabel='redshift', ylabel='DEC',fontscale=1.2,tools=['hover'],\n",
    "    height=200, width=800)"
   ]
  },
  {
   "cell_type": "code",
   "execution_count": null,
   "metadata": {},
   "outputs": [],
   "source": [
    "(sc1+sc2).cols(1)"
   ]
  },
  {
   "cell_type": "markdown",
   "metadata": {},
   "source": [
    "#### 4.4  Histogram of redshift distribution"
   ]
  },
  {
   "cell_type": "code",
   "execution_count": null,
   "metadata": {},
   "outputs": [],
   "source": [
    "(z_bin, count) = np.histogram(tract_data_reduced['redshift'], bins='fd')\n",
    "z_distribution = hv.Histogram(z_bin, count).opts(\n",
    "    title=f\"tract {tractID} : redshift distribution\",color='darkmagenta', \n",
    "    xlabel='redshift', fontscale=1.2,\n",
    "    height=300, width=600,tools=['hover'])"
   ]
  },
  {
   "cell_type": "code",
   "execution_count": null,
   "metadata": {},
   "outputs": [],
   "source": [
    "z_distribution"
   ]
  },
  {
   "cell_type": "markdown",
   "metadata": {},
   "source": [
    "#### 4.5 Cosmology"
   ]
  },
  {
   "cell_type": "code",
   "execution_count": null,
   "metadata": {},
   "outputs": [],
   "source": [
    "cosmo = FlatLambdaCDM(H0=70, Om0=0.3, Ob0=None)"
   ]
  },
  {
   "cell_type": "code",
   "execution_count": null,
   "metadata": {},
   "outputs": [],
   "source": [
    "tract_data_cosmo=tract_data"
   ]
  },
  {
   "cell_type": "code",
   "execution_count": null,
   "metadata": {},
   "outputs": [],
   "source": [
    "tract_data_cosmo[\"dl\"]=cosmo.luminosity_distance(tract_data_cosmo[\"redshift\"])"
   ]
  },
  {
   "cell_type": "code",
   "execution_count": null,
   "metadata": {},
   "outputs": [],
   "source": [
    "tract_data_cosmo[\"da\"]=cosmo.angular_diameter_distance(tract_data_cosmo[\"redshift\"])"
   ]
  },
  {
   "cell_type": "code",
   "execution_count": null,
   "metadata": {},
   "outputs": [],
   "source": [
    "tract_data_cosmo[\"dc\"]=cosmo.comoving_distance(tract_data_cosmo[\"redshift\"])\n",
    "tract_data_cosmo[\"dra\"]= tract_data_cosmo[\"ra\"]-tract_data_cosmo[\"ra\"].mean()\n",
    "tract_data_cosmo[\"ddec\"]= tract_data_cosmo[\"dec\"]-tract_data_cosmo[\"dec\"].mean()"
   ]
  },
  {
   "cell_type": "code",
   "execution_count": null,
   "metadata": {},
   "outputs": [],
   "source": [
    "tract_data_cosmo[\"dist_ra\"]=tract_data_cosmo[\"da\"]*np.tan(tract_data_cosmo[\"dra\"]*np.pi/180)"
   ]
  },
  {
   "cell_type": "code",
   "execution_count": null,
   "metadata": {},
   "outputs": [],
   "source": [
    "tract_data_cosmo[\"dist_dec\"]=tract_data_cosmo[\"da\"]*np.tan(tract_data_cosmo[\"ddec\"]*np.pi/180)"
   ]
  },
  {
   "cell_type": "code",
   "execution_count": null,
   "metadata": {},
   "outputs": [],
   "source": [
    "img_opts = dict(height=200, width=800, \n",
    "                xaxis=\"bottom\", \n",
    "                padding = 0.01, fontsize={'title': '12pt'},\n",
    "                colorbar=True, toolbar='right', show_grid=True,\n",
    "                tools=['hover']\n",
    "           )    "
   ]
  },
  {
   "cell_type": "code",
   "execution_count": null,
   "metadata": {},
   "outputs": [],
   "source": [
    "x3=tract_data_cosmo[\"dc\"]\n",
    "y3=tract_data_cosmo[\"dist_ra\"]\n",
    "H3, xedges3, yedges3 = np.histogram2d(x3, y3, bins=(1000, 1000))\n",
    "flipHT3=np.flipud(H3.T)\n",
    "img3=hv.Image(flipHT3,bounds=(x3.min(),y3.min(),x3.max(),y3.max())).opts(cmap=\"jet\",title=f\"tract {tractID} : DT (RA) vs DL\",xlabel=\"longitudinal distance (MPC)\",ylabel=\"transverse distance (MPC)\").opts(**img_opts)"
   ]
  },
  {
   "cell_type": "code",
   "execution_count": null,
   "metadata": {},
   "outputs": [],
   "source": [
    "rasterize(img3)"
   ]
  },
  {
   "cell_type": "code",
   "execution_count": null,
   "metadata": {},
   "outputs": [],
   "source": [
    "x4=tract_data_cosmo[\"dc\"]\n",
    "y4=tract_data_cosmo[\"dist_dec\"]\n",
    "H4, xedges4, yedges4 = np.histogram2d(x4, y4, bins=(1000, 1000))\n",
    "flipHT4=np.flipud(H4.T)\n",
    "img4=hv.Image(flipHT4,bounds=(x4.min(),y4.min(),x4.max(),y4.max())).opts(cmap=\"jet\",title=f\"tract {tractID} : DT (DEC) vs DL\",xlabel=\"longitudinal distance (MPC)\",ylabel=\"transverse distance (MPC)\").opts(**img_opts)"
   ]
  },
  {
   "cell_type": "code",
   "execution_count": null,
   "metadata": {},
   "outputs": [],
   "source": [
    "rasterize(img4)"
   ]
  },
  {
   "cell_type": "code",
   "execution_count": null,
   "metadata": {},
   "outputs": [],
   "source": [
    "layout = rasterize(img3)+rasterize(img4)"
   ]
  },
  {
   "cell_type": "code",
   "execution_count": null,
   "metadata": {},
   "outputs": [],
   "source": [
    "layout.cols(1)"
   ]
  },
  {
   "cell_type": "markdown",
   "metadata": {},
   "source": [
    "#### 5. Dynamical map for LSS selection in RA,DEC - redshift plane"
   ]
  },
  {
   "cell_type": "code",
   "execution_count": null,
   "metadata": {},
   "outputs": [],
   "source": [
    "x=tract_data[\"ra\"]\n",
    "y=tract_data[\"dec\"]\n",
    "z=tract_data[\"redshift\"]\n",
    "xmin=x.min()\n",
    "xmax=x.max()\n",
    "ymin=y.min()\n",
    "ymax=y.max()\n",
    "zmin=z.min()\n",
    "zmax=z.max()"
   ]
  },
  {
   "cell_type": "code",
   "execution_count": null,
   "metadata": {},
   "outputs": [],
   "source": [
    "# Create a Points Element for the data\n",
    "points1 = hv.Points((z, \n",
    "                    x)).opts(\n",
    "    tools=['box_select', 'lasso_select'])\n",
    "\n",
    "# Create the linked streams instance\n",
    "boundsxy1 = (0, 0, 0, 0)\n",
    "box1 = streams.BoundsXY(source=points1, bounds=boundsxy1)\n",
    "bounds1 = hv.DynamicMap(lambda bounds: hv.Bounds(bounds), streams=[box1])\n",
    "\n",
    "# Apply the datashader\n",
    "p1 = dynspread(datashade(points1, cmap=\"viridis\"))\n",
    "p1 = p1.opts(width=800, height=200,\n",
    "    padding=0.05, show_grid=True,\n",
    "    xlim=(zmin, zmax), ylim=(xmin, xmax),\n",
    "    xlabel=\"redshift\", ylabel=\"RA\")"
   ]
  },
  {
   "cell_type": "code",
   "execution_count": null,
   "metadata": {},
   "outputs": [],
   "source": [
    "p1 * bounds1"
   ]
  },
  {
   "cell_type": "code",
   "execution_count": null,
   "metadata": {},
   "outputs": [],
   "source": [
    "box1"
   ]
  },
  {
   "cell_type": "code",
   "execution_count": null,
   "metadata": {},
   "outputs": [],
   "source": [
    "# Create a Points Element for the data\n",
    "points2 = hv.Points((z, \n",
    "                    y)).opts(\n",
    "    tools=['box_select', 'lasso_select'])\n",
    "\n",
    "# Create the linked streams instance\n",
    "boundsxy2 = (0, 0, 0, 0)\n",
    "box2 = streams.BoundsXY(source=points2, bounds=boundsxy2)\n",
    "bounds2 = hv.DynamicMap(lambda bounds: hv.Bounds(bounds), streams=[box2])\n",
    "\n",
    "# Apply the datashader\n",
    "p2 = dynspread(datashade(points2, cmap=\"viridis\"))\n",
    "p2 = p2.opts(width=800, height=200,\n",
    "    padding=0.05, show_grid=True,\n",
    "    xlim=(zmin, zmax), ylim=(ymin, ymax),\n",
    "    xlabel=\"redshift\", ylabel=\"DEC\")"
   ]
  },
  {
   "cell_type": "code",
   "execution_count": null,
   "metadata": {},
   "outputs": [],
   "source": [
    "p2 * bounds2"
   ]
  },
  {
   "cell_type": "code",
   "execution_count": null,
   "metadata": {},
   "outputs": [],
   "source": [
    "box2"
   ]
  },
  {
   "cell_type": "code",
   "execution_count": null,
   "metadata": {},
   "outputs": [],
   "source": [
    "# FIXME\n",
    "#(p1 * bounds1 + p2 * bounds2).cols(1)"
   ]
  },
  {
   "cell_type": "markdown",
   "metadata": {},
   "source": [
    "##### Select a range of redshifts using box"
   ]
  },
  {
   "cell_type": "code",
   "execution_count": null,
   "metadata": {},
   "outputs": [],
   "source": [
    "#ZMIN_SEL=box1.bounds[0]\n",
    "#ZMAX_SEL=box1.bounds[2]\n",
    "\n",
    "#ZMIN_SEL=box2.bounds[0]  \n",
    "#ZMAX_SEL=box2.bounds[2]  \n",
    "\n",
    "ZMIN_SEL = 1.74\n",
    "ZMAX_SEL = 1.847"
   ]
  },
  {
   "cell_type": "code",
   "execution_count": null,
   "metadata": {},
   "outputs": [],
   "source": [
    "ZMIN_SEL,ZMAX_SEL"
   ]
  },
  {
   "cell_type": "code",
   "execution_count": null,
   "metadata": {},
   "outputs": [],
   "source": [
    "ZMEAN_SEL=np.mean([ZMIN_SEL,ZMAX_SEL])\n",
    "ZMEAN_SEL"
   ]
  },
  {
   "cell_type": "code",
   "execution_count": null,
   "metadata": {},
   "outputs": [],
   "source": [
    "tract_data_SEL = tract_data[ (tract_data[\"redshift\"]> ZMIN_SEL) & (tract_data[\"redshift\"] < ZMAX_SEL) ]"
   ]
  },
  {
   "cell_type": "code",
   "execution_count": null,
   "metadata": {},
   "outputs": [],
   "source": [
    "len(tract_data_SEL)"
   ]
  },
  {
   "cell_type": "markdown",
   "metadata": {},
   "source": [
    "#### Apply Gaussian kernel (KDE) from stats on selected redshift slice\n",
    "\n",
    "- idea from https://github.com/rubin-dp0/delegate-contributions-dp01/tree/main/Structure/StructureAroundCluster"
   ]
  },
  {
   "cell_type": "code",
   "execution_count": null,
   "metadata": {},
   "outputs": [],
   "source": [
    "x = tract_data_SEL[\"ra\"]\n",
    "y = tract_data_SEL[\"dec\"]"
   ]
  },
  {
   "cell_type": "code",
   "execution_count": null,
   "metadata": {},
   "outputs": [],
   "source": [
    "from scipy import stats\n",
    "xmin = x.min()\n",
    "xmax = x.max()\n",
    "ymin = y.min()\n",
    "ymax = y.max()\n",
    "#calculate the kde\n",
    "X, Y = np.mgrid[xmin:xmax:100j, ymin:ymax:100j]\n",
    "positions = np.vstack([X.ravel(), Y.ravel()])\n",
    "values = np.vstack([x, y])\n",
    "kernel = stats.gaussian_kde(values)\n",
    "oZ = np.reshape(kernel(positions).T, X.shape)"
   ]
  },
  {
   "cell_type": "markdown",
   "metadata": {},
   "source": [
    "#### Plot with matplotlib"
   ]
  },
  {
   "cell_type": "code",
   "execution_count": null,
   "metadata": {},
   "outputs": [],
   "source": [
    "#Make the plot for the RCS structures\n",
    "f, ax = plt.subplots(1, 1, figsize=(10, 8))\n",
    "# \n",
    "ofils=ax.imshow(np.rot90(oZ), cmap=plt.cm.jet, extent=[xmin, xmax, ymin, ymax])\n",
    "ax.plot(x, y, 'k.', markersize=2)\n",
    "f.colorbar(ofils, ax=ax)\n",
    "#ax.set_xlim(xmin,xmax)\n",
    "#ax.set_ylim(ymin,ymax)\n",
    "ax.set_xlabel(\"RA (deg)\")\n",
    "ax.set_ylabel(\"DEC (deg)\")\n",
    "ax.set_title(f\"LSS at redshift z={ZMEAN_SEL:.2f} in tract {tractID}\")\n",
    "ax.set_aspect(\"auto\")\n",
    "ax.grid(color=\"w\")\n",
    "\n",
    "plt.tight_layout()\n"
   ]
  },
  {
   "cell_type": "code",
   "execution_count": null,
   "metadata": {},
   "outputs": [],
   "source": [
    "remove_figure(f)"
   ]
  },
  {
   "cell_type": "markdown",
   "metadata": {},
   "source": [
    "#### Plot KDE filter with Holoview"
   ]
  },
  {
   "cell_type": "code",
   "execution_count": null,
   "metadata": {},
   "outputs": [],
   "source": [
    "# Create the Image element.\n",
    "# Define some default plot options for the Image\n",
    "img_opts = dict(height=500, width=600, \n",
    "                xaxis=\"bottom\", \n",
    "                padding = 0.01, fontsize={'title': '12pt'},\n",
    "                colorbar=True, toolbar='right', show_grid=True,\n",
    "                tools=['hover']\n",
    "               )     \n",
    "\n",
    "\n",
    "bounds_img = (xmin, ymin, xmax, ymax)\n",
    "\n",
    "img = hv.Image(np.rot90(oZ), bounds=bounds_img,\n",
    "               kdims=['x', 'y']).opts(\n",
    "    cmap =plt.cm.jet,  xlabel = 'RA', ylabel ='DEC',\n",
    "    title = f\"LSS at redshift z={ZMEAN_SEL:.2f} in tract {tractID}\",\n",
    "    **img_opts)"
   ]
  },
  {
   "cell_type": "markdown",
   "metadata": {},
   "source": [
    "##### Holoview with image alone"
   ]
  },
  {
   "cell_type": "code",
   "execution_count": null,
   "metadata": {},
   "outputs": [],
   "source": [
    "rasterize(img)"
   ]
  },
  {
   "cell_type": "markdown",
   "metadata": {},
   "source": [
    "#### Holoview Image (KDE filter)  + sources"
   ]
  },
  {
   "cell_type": "code",
   "execution_count": null,
   "metadata": {},
   "outputs": [],
   "source": [
    "coords = x,y"
   ]
  },
  {
   "cell_type": "code",
   "execution_count": null,
   "metadata": {},
   "outputs": [],
   "source": [
    "# Custom hover tool for the source detections\n",
    "detHoverTool = HoverTool(\n",
    "    tooltips=[\n",
    "        ( 'RA', '@x{0.2f}'),\n",
    "        ( 'DEC', '@y{0.2f}'),\n",
    "    ],\n",
    "    formatters={\n",
    "        'RA' : 'printf',\n",
    "        'DEC' : 'printf',\n",
    "    },\n",
    "    \n",
    ")\n",
    "objects = hv.Points(coords).opts(\n",
    "    fill_color=None, size = 1, color=\"black\",\n",
    "    tools=[detHoverTool])"
   ]
  },
  {
   "cell_type": "code",
   "execution_count": null,
   "metadata": {},
   "outputs": [],
   "source": [
    "# Reset the tools on the image and add a hover on the detections.\n",
    "rasterize(img).opts(tools=[]) * objects.opts(tools=[detHoverTool])"
   ]
  },
  {
   "cell_type": "markdown",
   "metadata": {},
   "source": [
    "In the last image, it is possible to zoom on the prominent structure, showing objects and filtered density behind and find approximately the position of one overdensity"
   ]
  },
  {
   "cell_type": "code",
   "execution_count": null,
   "metadata": {},
   "outputs": [],
   "source": [
    "ra_overdens  = 65.9\n",
    "dec_overdens = -40.44"
   ]
  },
  {
   "cell_type": "markdown",
   "metadata": {},
   "source": [
    "### 5. Optional : Find the patch and load the corresponding coadd image of a big overdensity"
   ]
  },
  {
   "cell_type": "markdown",
   "metadata": {},
   "source": [
    "##### 5.1 Fidn the patch corresponding to the overdensity"
   ]
  },
  {
   "cell_type": "code",
   "execution_count": null,
   "metadata": {},
   "outputs": [],
   "source": [
    "def build_query_patchintract(tract) -> str:\n",
    "    \n",
    "    tract=int(tract)\n",
    "    query = \"SELECT patch, min(ra) as minRA, max(ra) as maxRA, min(dec) as minDEC , max(dec) as maxDEC, count(*) as count \" \\\n",
    "        \"FROM dp01_dc2_catalogs.object \" \\\n",
    "        \"WHERE tract = \" + str(tract) + \" \" \\\n",
    "        \"GROUP BY patch \" \\\n",
    "        \"ORDER BY patch ASC\"\n",
    "    return query"
   ]
  },
  {
   "cell_type": "code",
   "execution_count": null,
   "metadata": {},
   "outputs": [],
   "source": [
    "query_patches = build_query_patchintract(tractID)"
   ]
  },
  {
   "cell_type": "code",
   "execution_count": null,
   "metadata": {},
   "outputs": [],
   "source": [
    "print(query_patches)\n",
    "filename_result5='tracts_result5.csv'\n",
    "fullfilename_result5=os.path.join(TMPNBDIR,filename_result5)"
   ]
  },
  {
   "cell_type": "code",
   "execution_count": null,
   "metadata": {},
   "outputs": [],
   "source": []
  },
  {
   "cell_type": "code",
   "execution_count": null,
   "metadata": {},
   "outputs": [],
   "source": [
    "if FLAG_READ_DATAFRAMEFROMDISK and os.path.exists(fullfilename_result5):\n",
    "    sql_result5 = pd.read_csv(fullfilename_result5,index_col=0)\n",
    "else:\n",
    "    sql_result5 = service.search(query_patches).to_table().to_pandas()\n",
    "    \n",
    "if FLAG_WRITE_DATAFRAMEONDISK:\n",
    "    sql_result5.to_csv(fullfilename_result5)"
   ]
  },
  {
   "cell_type": "code",
   "execution_count": null,
   "metadata": {},
   "outputs": [],
   "source": [
    "patch_info = sql_result5\n",
    "patch_info"
   ]
  },
  {
   "cell_type": "code",
   "execution_count": null,
   "metadata": {},
   "outputs": [],
   "source": [
    "patch_info.describe()"
   ]
  },
  {
   "cell_type": "code",
   "execution_count": null,
   "metadata": {},
   "outputs": [],
   "source": [
    "get_patch=patch_info[((patch_info[ \"minRA\"]  < ra_overdens ) & ( patch_info[ \"maxRA\"]  > ra_overdens )) & ((patch_info[ \"minDEC\"]  < dec_overdens ) & ( patch_info[ \"maxDEC\"]  > dec_overdens ))]"
   ]
  },
  {
   "cell_type": "code",
   "execution_count": null,
   "metadata": {},
   "outputs": [],
   "source": [
    "get_patch"
   ]
  },
  {
   "cell_type": "code",
   "execution_count": null,
   "metadata": {},
   "outputs": [],
   "source": [
    "patchId=get_patch[\"patch\"].values[0]\n",
    "patchId"
   ]
  },
  {
   "cell_type": "code",
   "execution_count": null,
   "metadata": {},
   "outputs": [],
   "source": [
    "radec=geom.SpherePoint(ra_overdens, dec_overdens, geom.degrees)"
   ]
  },
  {
   "cell_type": "code",
   "execution_count": null,
   "metadata": {},
   "outputs": [],
   "source": [
    "tractInfo=skymap.findTract(radec)\n",
    "tractInfo"
   ]
  },
  {
   "cell_type": "code",
   "execution_count": null,
   "metadata": {},
   "outputs": [],
   "source": [
    "patchInfo=tractInfo.findPatch(radec)\n",
    "patchInfo"
   ]
  },
  {
   "cell_type": "markdown",
   "metadata": {},
   "source": [
    "#### 5.2 Load the coadd image\n",
    "\n",
    "Knowing the RA,DEC is sufficient to access to the coadd image (tract and patch id are not necessary)"
   ]
  },
  {
   "cell_type": "code",
   "execution_count": null,
   "metadata": {},
   "outputs": [],
   "source": [
    "# load lsst.afw.display to gain access to image visualization routines.\n",
    "import lsst.afw.display as afwDisplay\n",
    "# load the Butler, which provides programmatic access to LSST data products.\n",
    "from lsst.daf.butler import Butler"
   ]
  },
  {
   "cell_type": "code",
   "execution_count": null,
   "metadata": {},
   "outputs": [],
   "source": [
    "from lsst.afw.image import MultibandExposure"
   ]
  },
  {
   "cell_type": "code",
   "execution_count": null,
   "metadata": {},
   "outputs": [],
   "source": [
    "repo = 's3://butler-us-central1-dp01'\n",
    "collection = '2.2i/runs/DP0.1'\n",
    "butler = Butler(repo, collections=collection)"
   ]
  },
  {
   "cell_type": "code",
   "execution_count": null,
   "metadata": {},
   "outputs": [],
   "source": [
    "from astropy.visualization import make_lupton_rgb"
   ]
  },
  {
   "cell_type": "code",
   "execution_count": null,
   "metadata": {},
   "outputs": [],
   "source": [
    "def cutout_coadd(butler, ra, dec, band='r', datasetType='deepCoadd',\n",
    "                 skymap=None, cutoutSideLength=51, **kwargs):\n",
    "    \"\"\"\n",
    "    Produce a cutout from a coadd at the given ra, dec position.\n",
    "\n",
    "    Adapted from DC2 tutorial notebook by Michael Wood-Vasey.\n",
    "\n",
    "    Parameters\n",
    "    ----------\n",
    "    butler: lsst.daf.persistence.Butler\n",
    "        Servant providing access to a data repository\n",
    "    ra: float\n",
    "        Right ascension of the center of the cutout, in degrees\n",
    "    dec: float\n",
    "        Declination of the center of the cutout, in degrees\n",
    "    band: string\n",
    "        Filter of the image to load\n",
    "    datasetType: string ['deepCoadd']\n",
    "        Which type of coadd to load.  Doesn't support 'calexp'\n",
    "    skymap: lsst.afw.skyMap.SkyMap [optional]\n",
    "        Pass in to avoid the Butler read.  Useful if you have lots of them.\n",
    "    cutoutSideLength: float [optional]\n",
    "        Size of the cutout region in pixels.\n",
    "\n",
    "    Returns\n",
    "    -------\n",
    "    MaskedImage\n",
    "    \"\"\"\n",
    "    radec = geom.SpherePoint(ra, dec, geom.degrees)\n",
    "    cutoutSize = geom.ExtentI(cutoutSideLength, cutoutSideLength)\n",
    "\n",
    "    if skymap is None:\n",
    "        skymap = butler.get(\"skyMap\")\n",
    "\n",
    "    # Look up the tract, patch for the RA, Dec\n",
    "    tractInfo = skymap.findTract(radec)\n",
    "    patchInfo = tractInfo.findPatch(radec)\n",
    "    xy = geom.PointI(tractInfo.getWcs().skyToPixel(radec))\n",
    "    bbox = geom.BoxI(xy - cutoutSize // 2, cutoutSize)\n",
    "    patch = tractInfo.getSequentialPatchIndex(patchInfo)\n",
    "\n",
    "    coaddId = {'tract': tractInfo.getId(), 'patch': patch, 'band': band}\n",
    "    parameters = {'bbox': bbox}\n",
    "\n",
    "    cutout_image = butler.get(datasetType, parameters=parameters,\n",
    "                              immediate=True, dataId=coaddId)\n",
    "\n",
    "    return cutout_image"
   ]
  },
  {
   "cell_type": "code",
   "execution_count": null,
   "metadata": {},
   "outputs": [],
   "source": [
    "def createRGB(image, bgr=\"gri\", stretch=1, Q=10, scale=None):\n",
    "    \"\"\"\n",
    "    Create an RGB color composite image.\n",
    "\n",
    "    Parameters\n",
    "    ----------\n",
    "    image : `MultibandExposure`\n",
    "        `MultibandExposure` to display.\n",
    "    bgr : sequence\n",
    "        A 3-element sequence of filter names (i.e., keys of the exps dict)\n",
    "        indicating what band to use for each channel. If `image` only has\n",
    "        three filters then this parameter is ignored and the filters\n",
    "        in the image are used.\n",
    "    stretch: int\n",
    "        The linear stretch of the image.\n",
    "    Q: int\n",
    "        The Asinh softening parameter.\n",
    "    scale: list of 3 floats, each less than 1. (default: None)\n",
    "        Re-scales the RGB channels.\n",
    "\n",
    "    Returns\n",
    "    -------\n",
    "    rgb: ndarray\n",
    "        RGB (integer, 8-bits per channel) colour image as an NxNx3 numpy array.\n",
    "    \"\"\"\n",
    "\n",
    "    # If the image only has 3 bands, reverse the order of the bands\n",
    "    #   to produce the RGB image\n",
    "    if len(image) == 3:\n",
    "        bgr = image.filters\n",
    "\n",
    "    # Extract the primary image component of each Exposure with the\n",
    "    #   .image property, and use .array to get a NumPy array view.\n",
    "\n",
    "    if scale is None:\n",
    "        r_im = image[bgr[2]].array  # numpy array for the r channel\n",
    "        g_im = image[bgr[1]].array  # numpy array for the g channel\n",
    "        b_im = image[bgr[0]].array  # numpy array for the b channel\n",
    "    else:\n",
    "        # manually re-scaling the images here\n",
    "        r_im = image[bgr[2]].array * scale[0]\n",
    "        g_im = image[bgr[1]].array * scale[1]\n",
    "        b_im = image[bgr[0]].array * scale[2]\n",
    "\n",
    "    rgb = make_lupton_rgb(image_r=r_im,\n",
    "                          image_g=g_im,\n",
    "                          image_b=b_im,\n",
    "                          stretch=stretch, Q=Q)\n",
    "    # \"stretch\" and \"Q\" are parameters to stretch and scale the pixel values\n",
    "\n",
    "    return rgb"
   ]
  },
  {
   "cell_type": "code",
   "execution_count": null,
   "metadata": {},
   "outputs": [],
   "source": [
    "cutout_image_g = cutout_coadd(butler, ra_overdens , dec_overdens, band='g',\n",
    "                              datasetType='deepCoadd', cutoutSideLength=601)\n",
    "cutout_image_r = cutout_coadd(butler, ra_overdens , dec_overdens, band='r',\n",
    "                              datasetType='deepCoadd', cutoutSideLength=601)\n",
    "cutout_image_i = cutout_coadd(butler, ra_overdens , dec_overdens, band='i',\n",
    "                              datasetType='deepCoadd', cutoutSideLength=601)\n",
    "\n",
    "# Multiband exposures need a list of images and filters\n",
    "coadds = [cutout_image_g, cutout_image_r, cutout_image_i]\n",
    "coadds = MultibandExposure.fromExposures(['g', 'r', 'i'], coadds)"
   ]
  },
  {
   "cell_type": "code",
   "execution_count": null,
   "metadata": {},
   "outputs": [],
   "source": [
    "fig, ax = plt.subplots(figsize=(20, 10), nrows=1, ncols=2)\n",
    "\n",
    "title = f\"Object in tract {tractID}, patch {patchId}, at redshift {ZMEAN_SEL:.2f}\"\n",
    "\n",
    "# original make_lupton_rgb without any scaling\n",
    "rgb_original = createRGB(coadds.image, bgr=['g', 'r', 'i'], scale=None)\n",
    "ax[0].imshow(rgb_original, origin='lower')\n",
    "ax[0].set_title('original', fontsize=30)\n",
    "\n",
    "# make_lupton_rgb with scaled rgb channels\n",
    "ax[1].set_title('re-scaled', fontsize=30)\n",
    "rgb_scaled = createRGB(coadds.image, bgr=['g', 'r', 'i'],\n",
    "                       scale=[0.6, 0.7, 1.0])\n",
    "ax[1].imshow(rgb_scaled, origin='lower')\n",
    "\n",
    "ax[0].set_axis_off()\n",
    "ax[1].set_axis_off()\n",
    "\n",
    "plt.suptitle(title)\n",
    "plt.show()\n",
    "\n",
    "# clean up memory\n",
    "remove_figure(fig)"
   ]
  },
  {
   "cell_type": "markdown",
   "metadata": {},
   "source": [
    "### 6. Clean the output directory "
   ]
  },
  {
   "cell_type": "code",
   "execution_count": null,
   "metadata": {},
   "outputs": [],
   "source": [
    "if FLAG_CLEAN_DATAONDISK:\n",
    "    if os.path.isdir(TMPNBDIR):\n",
    "        try:\n",
    "            shutil.rmtree(TMPNBDIR)\n",
    "        except OSError as e:\n",
    "            print(\"Error: %s : %s\" % (TMPNBDIR, e.strerror)) "
   ]
  }
 ],
 "metadata": {
  "kernelspec": {
   "display_name": "LSST",
   "language": "python",
   "name": "lsst"
  },
  "language_info": {
   "codemirror_mode": {
    "name": "ipython",
    "version": 3
   },
   "file_extension": ".py",
   "mimetype": "text/x-python",
   "name": "python",
   "nbconvert_exporter": "python",
   "pygments_lexer": "ipython3",
   "version": "3.8.8"
  }
 },
 "nbformat": 4,
 "nbformat_minor": 4
}
