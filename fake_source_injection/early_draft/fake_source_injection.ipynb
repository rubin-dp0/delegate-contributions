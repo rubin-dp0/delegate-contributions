{
 "cells": [
  {
   "cell_type": "code",
   "execution_count": null,
   "id": "42187a4e",
   "metadata": {},
   "outputs": [],
   "source": [
    "# Import python packages\n",
    "import os\n",
    "import warnings\n",
    "import numpy as np\n",
    "import matplotlib as mpl\n",
    "import matplotlib.pyplot as plt\n",
    "from IPython.display import IFrame, display, Markdown\n",
    "from mpl_toolkits.axes_grid1 import make_axes_locatable\n",
    "from matplotlib.patches import Rectangle\n",
    "from astropy.visualization import ZScaleInterval\n",
    "\n",
    "%matplotlib inline"
   ]
  },
  {
   "cell_type": "code",
   "execution_count": null,
   "id": "a0868985",
   "metadata": {},
   "outputs": [],
   "source": [
    "# Import LSST Science Pipelines packages (see pipelines.lsst.io)\n",
    "import lsst.daf.base as dafBase\n",
    "from lsst.daf.butler import Butler\n",
    "import lsst.afw.image as afwImage\n",
    "import lsst.afw.display as afwDisplay\n",
    "import lsst.afw.table as afwTable\n",
    "import lsst.geom as geom\n",
    "\n",
    "# Use lsst.afw.display with the matplotlib backend\n",
    "afwDisplay.setDefaultBackend('matplotlib')"
   ]
  },
  {
   "cell_type": "code",
   "execution_count": null,
   "id": "d3251edd",
   "metadata": {},
   "outputs": [],
   "source": [
    "# Define the dataId\n",
    "dataId = {'band': 'i', 'visit': 512055, 'detector': 75}\n",
    "\n",
    "# For DC2 gen3, these are the only optoins\n",
    "repo = 's3://butler-us-central1-dp01'\n",
    "collection = '2.2i/runs/DP0.1'\n",
    "\n",
    "# Use the butler to get the calexp\n",
    "butler = Butler(repo, collections=collection)\n",
    "registry = butler.registry\n",
    "\n",
    "registry.expandDataId(dataId)\n",
    "calexp = butler.get('calexp', dataId)\n"
   ]
  },
  {
   "cell_type": "code",
   "execution_count": null,
   "id": "bb48aedd",
   "metadata": {},
   "outputs": [],
   "source": [
    "import lsst.pipe.tasks.fakes as fakes"
   ]
  },
  {
   "cell_type": "code",
   "execution_count": null,
   "id": "bfa66d5c",
   "metadata": {},
   "outputs": [],
   "source": [
    "from collections import namedtuple\n",
    "positionTuple = namedtuple(\"positionTuple\", \"y x\")\n",
    "\n",
    "# Ground truth position and intensities for the fake sources\n",
    "fakeSources = [(positionTuple(800, 455), 11342),\n",
    "               (positionTuple(800, 350), 18235),\n",
    "               (positionTuple(834, 379), 13574),\n",
    "               (positionTuple(834, 442), 12456)]\n"
   ]
  },
  {
   "cell_type": "code",
   "execution_count": null,
   "id": "766a7d7a",
   "metadata": {},
   "outputs": [],
   "source": [
    "orig_calexp = calexp.clone()"
   ]
  },
  {
   "cell_type": "markdown",
   "id": "373b3c73",
   "metadata": {},
   "source": [
    "Using this as an example: https://github.com/lsst/pipe_tasks/blob/387f8f07a2b66205f9fa6bda9a89dcdbbef3f64c/tests/test_fakeProcessing.py"
   ]
  },
  {
   "cell_type": "code",
   "execution_count": null,
   "id": "d9aa8aa7",
   "metadata": {},
   "outputs": [],
   "source": [
    "# make stars at a given position with a given intensity\n",
    "def makeFakeStar(position, intensity, psf):\n",
    "    psfImage = psf.computeImage(geom.Point2D(position.x, position.y)).getArray()\n",
    "    psfImage *= intensity\n",
    "    noise = np.random.normal(0, np.sqrt(abs(psfImage)))\n",
    "    return psfImage + noise, noise"
   ]
  },
  {
   "cell_type": "code",
   "execution_count": null,
   "id": "ab8582ef",
   "metadata": {},
   "outputs": [],
   "source": [
    "# Fetch objects from the exposure\n",
    "psf = calexp.getPsf()\n",
    "image = calexp.getMaskedImage().getImage()\n",
    "mask = calexp.getMaskedImage().getMask()\n",
    "variance = calexp.getMaskedImage().getVariance()\n",
    "\n",
    "y0 = image.getY0()\n",
    "x0 = image.getX0()\n",
    "\n",
    "# Bitplane to set corresponding to the FAKE bit\n",
    "# fakeMaskValue = 2**mask.getMaskPlaneDict()['FAKE']\n",
    "fakeMaskValue = 2**12\n",
    "\n",
    "# At each position create a star with the given intensity and add it\n",
    "# to the image.\n",
    "for pos, intensity in fakeSources:\n",
    "    objArray, noiseArray = makeFakeStar(pos, intensity, psf)\n",
    "    psfRad = int((objArray.shape[0]-1)/2.)\n",
    "    yslice, xslice = slice(pos.y-psfRad-y0, pos.y+psfRad+y0+1),\\\n",
    "                     slice(pos.x-psfRad-x0, pos.x+psfRad+x0+1)\n",
    "\n",
    "    image.getArray()[yslice, xslice] += objArray\n",
    "    mask.getArray()[yslice, xslice] += fakeMaskValue\n",
    "    variance.getArray()[yslice, xslice] += noiseArray**2\n",
    "\n"
   ]
  },
  {
   "cell_type": "code",
   "execution_count": null,
   "id": "5b832ce0",
   "metadata": {},
   "outputs": [],
   "source": [
    "image0 = image.clone()\n",
    "print(np.std(image0.getArray()))\n",
    "image0.getArray()[yslice, xslice] += 5*objArray\n",
    "print(np.std(image0.getArray()))\n"
   ]
  },
  {
   "cell_type": "code",
   "execution_count": null,
   "id": "d565529b",
   "metadata": {},
   "outputs": [],
   "source": [
    "a = image.getArray()[yslice, xslice]\n",
    "print(np.std(a), np.shape(a))\n",
    "a += objArray\n",
    "print(np.std(a), np.shape(a))\n"
   ]
  },
  {
   "cell_type": "code",
   "execution_count": null,
   "id": "e3dd5c17",
   "metadata": {},
   "outputs": [],
   "source": [
    "xslice"
   ]
  },
  {
   "cell_type": "code",
   "execution_count": null,
   "id": "4ef5e00d",
   "metadata": {},
   "outputs": [],
   "source": [
    "diff = image.clone()\n",
    "diff -= orig_calexp.image"
   ]
  },
  {
   "cell_type": "code",
   "execution_count": null,
   "id": "b1d5d1ea",
   "metadata": {},
   "outputs": [],
   "source": [
    "fig, ax = plt.subplots(1, 2, figsize=(14, 7))\n",
    "plt.sca(ax[0])  # set the first axis as current\n",
    "display1 = afwDisplay.Display(frame=fig)\n",
    "display1.scale('linear', 'zscale')\n",
    "display1.mtv(orig_calexp.image)\n",
    "plt.title('original image')\n",
    "plt.ylim(700, 900)\n",
    "plt.xlim(300, 500)\n",
    "plt.sca(ax[1])  # set the second axis as current\n",
    "display2 = afwDisplay.Display(frame=fig)\n",
    "display2.scale('linear', 'zscale')\n",
    "display2.mtv(calexp.image)\n",
    "# display2.mtv(image0)\n",
    "plt.title('with fake star')\n",
    "plt.ylim(700, 900)\n",
    "plt.xlim(300, 500)\n",
    "plt.tight_layout()\n",
    "plt.show()\n",
    "# remove_figure(fig)"
   ]
  },
  {
   "cell_type": "code",
   "execution_count": null,
   "id": "7068e9e3-12fa-490d-b01f-09b50a85bcc9",
   "metadata": {},
   "outputs": [],
   "source": [
    "# Import tasks from the LSST Science Pipelines\n",
    "from lsst.pipe.tasks.characterizeImage import CharacterizeImageTask\n",
    "from lsst.pipe.tasks.calibrate import CalibrateTask\n",
    "from lsst.meas.algorithms.detection import SourceDetectionTask\n",
    "from lsst.meas.deblender import SourceDeblendTask\n",
    "from lsst.meas.base import SingleFrameMeasurementTask"
   ]
  },
  {
   "cell_type": "code",
   "execution_count": null,
   "id": "d5e4e8b8-3995-4ff9-b7ae-af31b8c5642a",
   "metadata": {},
   "outputs": [],
   "source": [
    "# Create a basic schema to use with these tasks\n",
    "schema = afwTable.SourceTable.makeMinimalSchema()\n",
    "print(schema)\n",
    "\n",
    "# Create a container which will be used to record metadata about algorithm execution\n",
    "algMetadata = dafBase.PropertyList()\n",
    "print('algMetadata: ')\n",
    "algMetadata"
   ]
  },
  {
   "cell_type": "code",
   "execution_count": null,
   "id": "105ac9cf-073f-41f9-8c2b-cc9a12b7be21",
   "metadata": {},
   "outputs": [],
   "source": [
    "config = CharacterizeImageTask.ConfigClass()\n",
    "config.psfIterations = 1\n",
    "charImageTask = CharacterizeImageTask(None, config=config)\n",
    "\n",
    "config = SourceDetectionTask.ConfigClass()\n",
    "config.thresholdValue = 10      # detection threshold in units of thresholdType\n",
    "config.thresholdType = \"stdev\"   # units for thresholdValue\n",
    "sourceDetectionTask = SourceDetectionTask(schema=schema, config=config)\n",
    "sourceDeblendTask = SourceDeblendTask(schema=schema)\n",
    "\n",
    "config = SingleFrameMeasurementTask.ConfigClass()\n",
    "sourceMeasurementTask = SingleFrameMeasurementTask(schema=schema, config=config, algMetadata=algMetadata)"
   ]
  },
  {
   "cell_type": "code",
   "execution_count": null,
   "id": "492fc593-7649-4227-913b-fa218141d3de",
   "metadata": {},
   "outputs": [],
   "source": [
    "tab = afwTable.SourceTable.make(schema)"
   ]
  },
  {
   "cell_type": "code",
   "execution_count": null,
   "id": "bd712d61-c2c7-4b02-84b2-438c8ab58411",
   "metadata": {},
   "outputs": [],
   "source": [
    "# Image characterization (this cell may take a few seconds)\n",
    "result = charImageTask.run(calexp)\n",
    "\n",
    "psf = calexp.getPsf()\n",
    "sigma = psf.computeShape().getDeterminantRadius()\n",
    "pixelScale = calexp.getWcs().getPixelScale().asArcseconds()\n",
    "\n",
    "# The factor of 2.355 converts from std to fwhm\n",
    "print('psf fwhm = {:.2f} arcsec'.format(sigma*pixelScale*2.355))"
   ]
  },
  {
   "cell_type": "code",
   "execution_count": null,
   "id": "1a155ec1-e351-4538-ad88-333d17c624cd",
   "metadata": {},
   "outputs": [],
   "source": [
    "# Source detection (this cell may take a few seconds)\n",
    "result = sourceDetectionTask.run(tab, calexp)\n",
    "type(result)"
   ]
  },
  {
   "cell_type": "code",
   "execution_count": null,
   "id": "e7d6a8d1-9563-43c3-9360-96047ba5c549",
   "metadata": {},
   "outputs": [],
   "source": [
    "for k, v in result.getDict().items():\n",
    "    print(k, type(v))"
   ]
  },
  {
   "cell_type": "code",
   "execution_count": null,
   "id": "a9164d3d-4df2-47ad-aa35-ecbe2aa9a7f8",
   "metadata": {},
   "outputs": [],
   "source": [
    "sources = result.sources"
   ]
  },
  {
   "cell_type": "code",
   "execution_count": null,
   "id": "fa7368f9-429e-41a9-b986-917c39b0b07d",
   "metadata": {},
   "outputs": [],
   "source": [
    "# Source deblending\n",
    "sourceDeblendTask.run(calexp, sources)\n",
    "\n",
    "# Source measurement (catch future warning about machine precision)\n",
    "sourceMeasurementTask.run(measCat=sources, exposure=calexp)"
   ]
  },
  {
   "cell_type": "code",
   "execution_count": null,
   "id": "5ec0b227-74a2-4b24-9f7f-2e8d60a08b5f",
   "metadata": {},
   "outputs": [],
   "source": [
    "# The copy makes sure that the sources are sequential in memory\n",
    "sources = sources.copy(True)\n",
    "\n",
    "# Investigate the output source catalog\n",
    "sources.asAstropy()"
   ]
  },
  {
   "cell_type": "code",
   "execution_count": null,
   "id": "445b898a-d3c0-4691-b374-a6998318e9b7",
   "metadata": {},
   "outputs": [],
   "source": [
    "near_fakes = (np.abs(sources['base_SdssCentroid_y'] - 800) < 100) & (np.abs(sources['base_SdssCentroid_x'] - 400) < 100)"
   ]
  },
  {
   "cell_type": "code",
   "execution_count": null,
   "id": "e8e3fe75-0fa4-4bee-a742-518495ddde56",
   "metadata": {},
   "outputs": [],
   "source": [
    "aaa = sources[near_fakes].copy(deep=True)\n",
    "len(aaa)"
   ]
  },
  {
   "cell_type": "code",
   "execution_count": null,
   "id": "01da0ebb-8482-48f5-b9df-691c1ec605e8",
   "metadata": {},
   "outputs": [],
   "source": [
    "print(aaa['base_SdssCentroid_x'], '\\n', aaa['slot_PsfFlux_instFlux'])\n",
    "print(aaa['base_SdssCentroid_y'])\n",
    "print(fakeSources)"
   ]
  },
  {
   "cell_type": "code",
   "execution_count": null,
   "id": "44bbc9b4-dd20-46f4-b068-f7a17b395a01",
   "metadata": {},
   "outputs": [],
   "source": []
  },
  {
   "cell_type": "code",
   "execution_count": null,
   "id": "5564a8eb",
   "metadata": {},
   "outputs": [],
   "source": [
    "from lsst.pipe.tasks.processCcd import ProcessCcdTask\n",
    "import lsst.pipe.tasks.processCcd as processCcd"
   ]
  },
  {
   "cell_type": "code",
   "execution_count": null,
   "id": "558eb406",
   "metadata": {},
   "outputs": [],
   "source": [
    "# Set ouput path and create a dataId\n",
    "OutputName = 'temp'\n",
    "outPath = tempfile.mkdtemp() if OutputName is None \\\n",
    "                             else \"{}-ProcessCcd\".format(OutputName)\n",
    "dataId = dict(visit=1)\n",
    "dataIdStrList = [\"{}={}\".format(*item) for item in dataId.items()]\n",
    "mask = None\n",
    "maskPlaneName = \"FAKE\" "
   ]
  },
  {
   "cell_type": "code",
   "execution_count": null,
   "id": "d881a46a",
   "metadata": {},
   "outputs": [],
   "source": [
    "processCcdConfig = processCcd.ProcessCcdConfig\n",
    "processCcdConfig.calibrate.doInsertFakes = True"
   ]
  },
  {
   "cell_type": "code",
   "execution_count": null,
   "id": "9ca033d8",
   "metadata": {},
   "outputs": [],
   "source": [
    "processCcdConfig = ProcessCcdTask.ConfigClass()\n",
    "processCcdConfig.calibrate.doInsertFakes = True\n",
    "processCcdTask = ProcessCcdTask(None, config=processCcdConfig)"
   ]
  },
  {
   "cell_type": "code",
   "execution_count": null,
   "id": "9b9ec3cc",
   "metadata": {},
   "outputs": [],
   "source": [
    "ProcessCcdTask?"
   ]
  },
  {
   "cell_type": "code",
   "execution_count": null,
   "id": "89197146",
   "metadata": {},
   "outputs": [],
   "source": []
  }
 ],
 "metadata": {
  "kernelspec": {
   "display_name": "LSST",
   "language": "python",
   "name": "lsst"
  },
  "language_info": {
   "codemirror_mode": {
    "name": "ipython",
    "version": 3
   },
   "file_extension": ".py",
   "mimetype": "text/x-python",
   "name": "python",
   "nbconvert_exporter": "python",
   "pygments_lexer": "ipython3",
   "version": "3.8.12"
  }
 },
 "nbformat": 4,
 "nbformat_minor": 5
}
