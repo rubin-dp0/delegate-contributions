{
 "cells": [
  {
   "cell_type": "markdown",
   "id": "9af8113b-7358-4ff5-9c57-fceb0f03c2d6",
   "metadata": {},
   "source": [
    "# Background Images\n",
    "\n",
    "Melissa Graham <br>\n",
    "Last verified to run Mon Feb 21, with Weekly 2021_49.\n",
    "\n",
    "**WARNING: this Notebook is not done. The explanation for the deepCoadd background needs work.**\n",
    "\n",
    "<br>\n",
    "\n",
    "This is a simple tutorial on how to retrieve, display, and characterize the subtracted sky backgrounds for `calexps` and `deepCoadds`.\n",
    "\n",
    "#### Notes\n",
    "\n",
    "1. This tutorial assumes knowledge of afwDisplay and the Butler. Tutorials that focus on image display and the Butler can be found in this repo: https://github.com/rubin-dp0/tutorial-notebooks. (For image display, see NBs 03a, 03b, and 08a. For the Butler, see NB 04).\n",
    "\n",
    "2. In the Butler, the `calexps` and `deepCoadds` have a `DatasetType` = `ExposureF`, and their backgrounds have `DatasetType` = `Background`. When backgrounds are retrieved, an extra step is necessary to obtain the subtracted background as an image. This will be demonstrated below.\n",
    "\n",
    "<br>\n",
    "\n",
    "## Set Up\n",
    "\n",
    "#### Import packages."
   ]
  },
  {
   "cell_type": "code",
   "execution_count": null,
   "id": "8e308a83-ac1d-4b5e-b964-349a9c886708",
   "metadata": {},
   "outputs": [],
   "source": [
    "import numpy as np\n",
    "import matplotlib\n",
    "import matplotlib.pyplot as plt\n",
    "import warnings\n",
    "\n",
    "warnings.simplefilter(\"ignore\", category=UserWarning)\n",
    "\n",
    "from lsst.daf.butler import Butler\n",
    "import lsst.afw.display as afwDisplay\n",
    "\n",
    "afwDisplay.setDefaultBackend('matplotlib') "
   ]
  },
  {
   "cell_type": "markdown",
   "id": "46e9d89e-5899-4d68-bbe3-818cda858a93",
   "metadata": {},
   "source": [
    "#### Instantiate the Butler."
   ]
  },
  {
   "cell_type": "code",
   "execution_count": null,
   "id": "67af406b-1f25-409d-af26-23422d55c0c9",
   "metadata": {},
   "outputs": [],
   "source": [
    "repo = 's3://butler-us-central1-dp01'\n",
    "collection = '2.2i/runs/DP0.1'\n",
    "butler = Butler(repo, collections=collection)"
   ]
  },
  {
   "cell_type": "markdown",
   "id": "74218613-f72c-4be8-b412-f532996bc16b",
   "metadata": {},
   "source": [
    "Use the following to browse all `DatasetTypes`, included available image types and their `Backgrounds`. This is how a user would discover that `Background` is an available data type."
   ]
  },
  {
   "cell_type": "code",
   "execution_count": null,
   "id": "1233805a-8f43-4fc7-a8e6-4f726f60f20c",
   "metadata": {},
   "outputs": [],
   "source": [
    "# registry = butler.registry\n",
    "# for x in sorted(registry.queryDatasetTypes()):\n",
    "#     print(x)"
   ]
  },
  {
   "cell_type": "markdown",
   "id": "4e613fa6-98de-41d2-8427-c8076b1a6d59",
   "metadata": {},
   "source": [
    "<br>\n",
    "<br>\n",
    "\n",
    "## calexps\n",
    "\n",
    "#### Specify visit, retrieve calexp image from the Butler."
   ]
  },
  {
   "cell_type": "code",
   "execution_count": null,
   "id": "124c844e-f222-4827-8b8a-785216b40f70",
   "metadata": {},
   "outputs": [],
   "source": [
    "calexpId = {'visit': '703697', 'detector': 80}#, 'band': 'g'}\n",
    "calexp = butler.get('calexp', dataId=calexpId)"
   ]
  },
  {
   "cell_type": "markdown",
   "id": "438329ca-d734-42c1-85a9-cd05e6a15b17",
   "metadata": {},
   "source": [
    "#### Plot the calexp."
   ]
  },
  {
   "cell_type": "code",
   "execution_count": null,
   "id": "4a65c5ce-6e08-4b19-9407-0f2446633d66",
   "metadata": {},
   "outputs": [],
   "source": [
    "fig = plt.figure(figsize=(10,8))\n",
    "afw_display = afwDisplay.Display(1)\n",
    "afw_display.scale('asinh', 'zscale')\n",
    "afw_display.mtv(calexp.image)\n",
    "plt.gca().axis('off')"
   ]
  },
  {
   "cell_type": "markdown",
   "id": "cca3c6bc-6fe4-4792-a30c-10ccb158ecb5",
   "metadata": {},
   "source": [
    "#### Retrieve and plot the background that was subtracted"
   ]
  },
  {
   "cell_type": "code",
   "execution_count": null,
   "id": "badd5d13-239d-4b7a-91bd-32b3526be92b",
   "metadata": {},
   "outputs": [],
   "source": [
    "bg_calexp = butler.get('calexpBackground', calexpId)"
   ]
  },
  {
   "cell_type": "code",
   "execution_count": null,
   "id": "79414de5-c1f7-4725-88c6-01be5cebc3e9",
   "metadata": {},
   "outputs": [],
   "source": [
    "bg_calexp_image = bg_calexp.getImage()"
   ]
  },
  {
   "cell_type": "code",
   "execution_count": null,
   "id": "c920f0f9-b903-4a88-b47a-b39c282e6b9f",
   "metadata": {},
   "outputs": [],
   "source": [
    "fig = plt.figure(figsize=(10,8))\n",
    "afw_display = afwDisplay.Display(1)\n",
    "afw_display.mtv(bg_calexp_image)"
   ]
  },
  {
   "cell_type": "markdown",
   "id": "dc1c0ed3-9570-4e00-9378-0164abbd234e",
   "metadata": {},
   "source": [
    "#### Get the array of pixel values and print statistics\n",
    "\n",
    "Flatten the array and check for NaN values, too. Use numpy for basic array statistics."
   ]
  },
  {
   "cell_type": "code",
   "execution_count": null,
   "id": "305de46a-3b00-4828-9da4-af8ff0a9fe52",
   "metadata": {},
   "outputs": [],
   "source": [
    "array = np.asarray( bg_calexp_image.getArray(), dtype='float' )"
   ]
  },
  {
   "cell_type": "code",
   "execution_count": null,
   "id": "c0473e85-dbb6-4d98-97b7-89c8efce9fa7",
   "metadata": {},
   "outputs": [],
   "source": [
    "temp = array.flatten()"
   ]
  },
  {
   "cell_type": "code",
   "execution_count": null,
   "id": "938c08d2-b69b-45fc-825d-f1d815926295",
   "metadata": {},
   "outputs": [],
   "source": [
    "tx = np.where( np.isnan(temp) )[0]\n",
    "print('There are ',len(tx),' NaN elements of temp.')"
   ]
  },
  {
   "cell_type": "code",
   "execution_count": null,
   "id": "93efc904-9b21-44a8-b176-5eb4bd913e3d",
   "metadata": {},
   "outputs": [],
   "source": [
    "print(len(temp))\n",
    "\n",
    "print(np.min(temp), \\\n",
    "      np.max(temp), \\\n",
    "      np.mean(temp), \\\n",
    "      np.median(temp), \\\n",
    "      np.std(temp) )"
   ]
  },
  {
   "cell_type": "markdown",
   "id": "3213a2a7-32b0-4896-93b9-003e2ac05028",
   "metadata": {},
   "source": [
    "#### Plot a histogram of the array values."
   ]
  },
  {
   "cell_type": "code",
   "execution_count": null,
   "id": "0ab9f71b-f2c0-432a-bfe2-048580534193",
   "metadata": {},
   "outputs": [],
   "source": [
    "plt.hist( temp, bins=20, range=(np.nanmin(temp)-0.001,np.nanmax(temp)+0.001) )\n",
    "plt.axvline( np.mean(temp), color='orange' )\n",
    "plt.show()"
   ]
  },
  {
   "cell_type": "markdown",
   "id": "4de3f73b-6e74-4094-82bf-55ebae11d85b",
   "metadata": {},
   "source": [
    "#### Clean up"
   ]
  },
  {
   "cell_type": "code",
   "execution_count": null,
   "id": "91a547f6-1732-4261-9e8a-6e456d50c001",
   "metadata": {},
   "outputs": [],
   "source": [
    "del temp, tx, array, bg_calexp_image, bg_calexp, calexp, calexpId"
   ]
  },
  {
   "cell_type": "markdown",
   "id": "bd7aa448-6be9-4d34-a922-e7fa0a26bb12",
   "metadata": {},
   "source": [
    "<br>\n",
    "<br>\n",
    "\n",
    "## deepCoadds\n",
    "\n",
    "**WARNING:** The background of an image is subtracted prior to coaddition, so I'm not sure what the tiny-value uniform image that is returned by `deepCoadd_calexp_background` really is. Perhaps I'm treating it incorrectly.\n",
    "\n",
    "#### Specify tract and patch, and retrieve deepCoadd image from the Butler."
   ]
  },
  {
   "cell_type": "code",
   "execution_count": null,
   "id": "7f6c2c25-bffe-4e3e-9c26-568e2c5efb2f",
   "metadata": {},
   "outputs": [],
   "source": [
    "coaddId = {'tract': 4226, 'patch': 17, 'band': 'r'}\n",
    "coadd = butler.get('deepCoadd', coaddId)"
   ]
  },
  {
   "cell_type": "markdown",
   "id": "e74e819c-2e10-4d5d-abfb-43a4cf914edd",
   "metadata": {},
   "source": [
    "#### Which visits went into constructing this coadd?"
   ]
  },
  {
   "cell_type": "code",
   "execution_count": null,
   "id": "314817f8-3a89-4d1b-a18c-8eb1e535c63b",
   "metadata": {},
   "outputs": [],
   "source": [
    "# coaddInfo = coadd.getInfo()\n",
    "# coaddVisits = coaddInfo.getCoaddInputs().visits\n",
    "# coaddVisits.asAstropy()"
   ]
  },
  {
   "cell_type": "markdown",
   "id": "6d6ec888-21a4-4f25-9758-45b70de801a8",
   "metadata": {},
   "source": [
    "#### Plot the deepCoadd image."
   ]
  },
  {
   "cell_type": "code",
   "execution_count": null,
   "id": "eeab6dc7-372f-4ac0-af68-210aeb21b102",
   "metadata": {},
   "outputs": [],
   "source": [
    "fig = plt.figure(figsize=(10,8))\n",
    "afw_display = afwDisplay.Display(1)\n",
    "afw_display.scale('asinh', 'zscale')\n",
    "afw_display.mtv(coadd.image)\n",
    "plt.gca().axis('off')"
   ]
  },
  {
   "cell_type": "markdown",
   "id": "4d1cc009-321d-4ac7-a6f5-82266fdbf050",
   "metadata": {},
   "source": [
    "#### Retrieve and plot the background that was subtracted"
   ]
  },
  {
   "cell_type": "code",
   "execution_count": null,
   "id": "e8b5b324-157f-4464-8b71-46123689d0a7",
   "metadata": {},
   "outputs": [],
   "source": [
    "bg_coadd = butler.get('deepCoadd_calexp_background', coaddId)"
   ]
  },
  {
   "cell_type": "code",
   "execution_count": null,
   "id": "42a4f293-bcbe-4f75-96d4-44f6fd3ac7f5",
   "metadata": {},
   "outputs": [],
   "source": [
    "bg_coadd_image = bg_coadd.getImage()"
   ]
  },
  {
   "cell_type": "code",
   "execution_count": null,
   "id": "f4821dc1-9987-4ba5-95ab-acddba950520",
   "metadata": {},
   "outputs": [],
   "source": [
    "fig = plt.figure(figsize=(10,8))\n",
    "afw_display = afwDisplay.Display(1)\n",
    "# afw_display.scale('linear', 'zscale')\n",
    "afw_display.mtv(bg_coadd_image)"
   ]
  },
  {
   "cell_type": "markdown",
   "id": "cddd9921-fd58-4f94-8c8b-8133d57d63e2",
   "metadata": {},
   "source": [
    "#### Get the array of pixel values and print statistics\n",
    "\n",
    "Flatten the array and check for NaN values, too. Use numpy for basic array statistics."
   ]
  },
  {
   "cell_type": "code",
   "execution_count": null,
   "id": "ecd0d2d5-b1ec-4096-ae6e-56defcbd8416",
   "metadata": {},
   "outputs": [],
   "source": [
    "array = np.asarray( bg_coadd_image.getArray(), dtype='float' )"
   ]
  },
  {
   "cell_type": "code",
   "execution_count": null,
   "id": "ca270fc8-59e5-4a99-ac10-ab4fa8767d73",
   "metadata": {},
   "outputs": [],
   "source": [
    "temp = array.flatten()"
   ]
  },
  {
   "cell_type": "code",
   "execution_count": null,
   "id": "a7b22fb2-e3c0-4e77-ae1c-9b696ac45042",
   "metadata": {},
   "outputs": [],
   "source": [
    "tx = np.where( np.isnan(temp) )[0]\n",
    "print('There are ',len(tx),' NaN elements of temp.')"
   ]
  },
  {
   "cell_type": "code",
   "execution_count": null,
   "id": "4b3dfead-7537-4888-85a8-f22638b113e4",
   "metadata": {},
   "outputs": [],
   "source": [
    "print(len(temp),\\\n",
    "      np.min(temp), \\\n",
    "      np.max(temp), \\\n",
    "      np.mean(temp), \\\n",
    "      np.median(temp), \\\n",
    "      np.std(temp) )"
   ]
  },
  {
   "cell_type": "markdown",
   "id": "cd09dda0-1679-48c4-bbf3-7d3455896dbb",
   "metadata": {},
   "source": [
    "#### Plot a histogram of the array values."
   ]
  },
  {
   "cell_type": "code",
   "execution_count": null,
   "id": "79ec882e-e4c3-43d8-a63f-cd3cc7997322",
   "metadata": {},
   "outputs": [],
   "source": [
    "# plt.hist( temp, bins=10, range=(np.nanmin(temp)-0.001,np.nanmax(temp)+0.001) )\n",
    "# plt.show()"
   ]
  },
  {
   "cell_type": "markdown",
   "id": "119772ca-a1d2-4ec9-9e76-819684d4adc3",
   "metadata": {},
   "source": [
    "#### Clean up"
   ]
  },
  {
   "cell_type": "code",
   "execution_count": null,
   "id": "0946ab21-e2f7-4a01-bbcc-e43ff13db1cd",
   "metadata": {},
   "outputs": [],
   "source": [
    "del temp, tx, array, bg_coadd_image, bg_coadd, coadd, coaddId"
   ]
  }
 ],
 "metadata": {
  "kernelspec": {
   "display_name": "LSST",
   "language": "python",
   "name": "lsst"
  },
  "language_info": {
   "codemirror_mode": {
    "name": "ipython",
    "version": 3
   },
   "file_extension": ".py",
   "mimetype": "text/x-python",
   "name": "python",
   "nbconvert_exporter": "python",
   "pygments_lexer": "ipython3",
   "version": "3.8.8"
  }
 },
 "nbformat": 4,
 "nbformat_minor": 5
}
