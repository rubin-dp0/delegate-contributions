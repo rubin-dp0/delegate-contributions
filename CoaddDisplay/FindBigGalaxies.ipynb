{
 "cells": [
  {
   "cell_type": "markdown",
   "id": "7d8c15ca",
   "metadata": {},
   "source": [
    "# Find Big Galaxies in DP0\n",
    "\n",
    "Author(s): Alex Drlica-Wagner and DP0 Delegates Breakout Group\n",
    "\n",
    "This notebook was the result of a breakout hack session during the DP0 delegate assembly on September 10, 2021. The goal was to try to find large galaxies in the DP0 coadd data. We chose to do a visual inspection of tracts in a single patch."
   ]
  },
  {
   "cell_type": "code",
   "execution_count": null,
   "id": "da1f0040",
   "metadata": {},
   "outputs": [],
   "source": [
    "# Generic python packages\n",
    "import gc\n",
    "import time\n",
    "import numpy as np\n",
    "import pylab as plt\n",
    "import matplotlib.animation as animation\n",
    "from IPython.display import display, clear_output, HTML\n",
    "\n",
    "# Set a standard figure size to use\n",
    "plt.rcParams['figure.figsize'] = (8.0, 8.0)"
   ]
  },
  {
   "cell_type": "code",
   "execution_count": null,
   "id": "5d40ec81",
   "metadata": {},
   "outputs": [],
   "source": [
    "# LSST Science Pipelines (Stack) packages\n",
    "import lsst.daf.butler as dafButler\n",
    "import lsst.afw.display as afwDisplay\n",
    "import lsst.geom as geom\n",
    "import lsst.afw.coord as afwCoord\n",
    "afwDisplay.setDefaultBackend('matplotlib')"
   ]
  },
  {
   "cell_type": "code",
   "execution_count": null,
   "id": "1a5edae3",
   "metadata": {},
   "outputs": [],
   "source": [
    "# Create a butler pointing to the DP0 data\n",
    "repo = 's3://butler-us-central1-dp01'\n",
    "collection = \"2.2i/runs/DP0.1\"\n",
    "butler = dafButler.Butler(repo, collections=collection)\n",
    "registry = butler.registry"
   ]
  },
  {
   "cell_type": "code",
   "execution_count": null,
   "id": "d42d85e4",
   "metadata": {},
   "outputs": [],
   "source": [
    "ra, dec = 55.064, -29.783\n",
    "radec = geom.SpherePoint(ra, dec, geom.degrees)\n",
    "\n",
    "skymap = butler.get(\"skyMap\")\n",
    "\n",
    "tractInfo = skymap.findTract(radec)\n",
    "tract = tractInfo.getId()\n",
    "\n",
    "patchInfo = tractInfo.findPatch(radec)\n",
    "patch = tractInfo.getSequentialPatchIndex(patchInfo)\n",
    "\n",
    "print(\"tract: {tract}, patch: {patch}\")"
   ]
  },
  {
   "cell_type": "code",
   "execution_count": null,
   "id": "34d7c17a",
   "metadata": {},
   "outputs": [],
   "source": [
    "def remove_figure(fig):\n",
    "    \"\"\"Remove a figure to reduce memory footprint. \"\"\"\n",
    "    # get the axes and clear their images\n",
    "    for ax in fig.get_axes():\n",
    "        for im in ax.get_images():\n",
    "            im.remove()\n",
    "    fig.clf()      # clear the figure\n",
    "    plt.close(fig) # close the figure\n",
    "    gc.collect()   # call the garbage collector"
   ]
  },
  {
   "cell_type": "markdown",
   "id": "a86760f9",
   "metadata": {},
   "source": [
    "We could either loop through the 49 patches and get the coadd from the butler or we can run one query and then loop through it. The first option is easier to understand, and is the approach we take; however, the second is more efficient."
   ]
  },
  {
   "cell_type": "code",
   "execution_count": null,
   "id": "ccca391f",
   "metadata": {},
   "outputs": [],
   "source": [
    "# First, let's make some gray-scale images\n",
    "fig,ax = plt.subplots()\n",
    "\n",
    "# Run the full image set?\n",
    "test=True\n",
    "\n",
    "for i,patch in enumerate(range(49)):\n",
    "    data_id = {'tract': tract, 'patch': patch, 'band':'i'}\n",
    "    coadd = butler.get('deepCoadd',dataId=data_id)\n",
    "    \n",
    "    afw_display = afwDisplay.Display(frame=fig)\n",
    "    afw_display.scale('asinh', 'zscale')\n",
    "    afw_display.mtv(coadd.image)\n",
    "    plt.gca().axis('off')\n",
    "    plt.title(str(data_id),fontsize=12)\n",
    "\n",
    "    # To draw into the same frame...\n",
    "    clear_output(wait=True)\n",
    "    display(fig)\n",
    "    remove_figure(fig)\n",
    "\n",
    "    if test and i > 1: break"
   ]
  },
  {
   "cell_type": "code",
   "execution_count": null,
   "id": "0505c4a7",
   "metadata": {},
   "outputs": [],
   "source": [
    "# The more efficient option is to query upfront\n",
    "dataIds = {'tract': tract, 'band': 'i'}\n",
    "coadd_refs = butler.registry.queryDatasets('deepCoadd',dataId=dataIds)\n",
    "coadd_refs = sorted(coadd_refs)\n",
    "\n",
    "# Testing\n",
    "test = True\n",
    "\n",
    "fig,ax = plt.subplots()\n",
    "for i,ref in enumerate(coadd_refs):\n",
    "    coadd = butler.getDirect(ref)\n",
    "    \n",
    "    afw_display = afwDisplay.Display(frame=fig)\n",
    "    afw_display.scale('asinh', 'zscale')\n",
    "    afw_display.mtv(coadd.image)\n",
    "    plt.gca().axis('off')\n",
    "    plt.title(str(ref.dataId),fontsize=12)\n",
    "\n",
    "    # To draw into the same frame...\n",
    "    clear_output(wait=True)\n",
    "    display(fig)\n",
    "    remove_figure(fig)\n",
    "    \n",
    "    if test and i > 1: break  "
   ]
  },
  {
   "cell_type": "markdown",
   "id": "dea7375c",
   "metadata": {},
   "source": [
    "Next we try to make some color images. This requires us to query three bands and create a `MultibandExposure` object. We copy over the `createRGB` function from the [03_Image_Display_and_Manipulation.ipynb](https://github.com/rubin-dp0/tutorial-notebooks/blob/main/03_Image_Display_and_Manipulation.ipynb) tutorial notebook. We also borrow a trick from the Stack Club [Footprints.ipynb](https://github.com/LSSTScienceCollaborations/StackClub/blob/master/SourceDetection/Footprints.ipynb) notebook to animate the resulting RGB images."
   ]
  },
  {
   "cell_type": "code",
   "execution_count": null,
   "id": "c3c3a112",
   "metadata": {},
   "outputs": [],
   "source": [
    "from astropy.visualization import make_lupton_rgb\n",
    "from lsst.afw.image import MultibandExposure\n",
    "\n",
    "def createRGB(image, bgr=\"gri\", stretch=1, Q=10, scale=None):\n",
    "    \"\"\"\n",
    "    Create an RGB color composite image.\n",
    "\n",
    "    Parameters\n",
    "    ----------\n",
    "    image : `MultibandExposure`\n",
    "        `MultibandExposure` to display.\n",
    "    bgr : sequence\n",
    "        A 3-element sequence of filter names (i.e., keys of the exps dict)\n",
    "        indicating what band to use for each channel. If `image` only has\n",
    "        three filters then this parameter is ignored and the filters\n",
    "        in the image are used.\n",
    "    stretch: int\n",
    "        The linear stretch of the image.\n",
    "    Q: int\n",
    "        The Asinh softening parameter.\n",
    "    scale: list of 3 floats, each less than 1. (default: None)\n",
    "        Re-scales the RGB channels.\n",
    "\n",
    "    Returns\n",
    "    -------\n",
    "    rgb: ndarray\n",
    "        RGB (integer, 8-bits per channel) colour image as an NxNx3 numpy array.\n",
    "    \"\"\"\n",
    "\n",
    "    # If the image only has 3 bands, reverse the order of the bands\n",
    "    #   to produce the RGB image\n",
    "    if len(image) == 3:\n",
    "        bgr = image.filters\n",
    "\n",
    "    # Extract the primary image component of each Exposure with the\n",
    "    #   .image property, and use .array to get a NumPy array view.\n",
    "\n",
    "    if scale is None:\n",
    "        r_im = image[bgr[2]].image.array  # numpy array for the r channel\n",
    "        g_im = image[bgr[1]].image.array  # numpy array for the g channel\n",
    "        b_im = image[bgr[0]].image.array  # numpy array for the b channel\n",
    "    else:\n",
    "        # manually re-scaling the images here\n",
    "        r_im = image[bgr[2]].image.array * scale[0]\n",
    "        g_im = image[bgr[1]].image.array * scale[1]\n",
    "        b_im = image[bgr[0]].image.array * scale[2]\n",
    "\n",
    "    rgb = make_lupton_rgb(image_r=r_im,\n",
    "                          image_g=g_im,\n",
    "                          image_b=b_im,\n",
    "                          stretch=stretch, Q=Q)\n",
    "    # \"stretch\" and \"Q\" are parameters to stretch and scale the pixel values\n",
    "\n",
    "    return rgb"
   ]
  },
  {
   "cell_type": "code",
   "execution_count": null,
   "id": "090835a9",
   "metadata": {},
   "outputs": [],
   "source": [
    "bands = ['g','r','i']\n",
    "\n",
    "# Borrowing a trick from the Stack Club Footprints.ipynb...\n",
    "# Images is a list of images that can be animated\n",
    "images = []\n",
    "\n",
    "test = True\n",
    "\n",
    "fig,ax = plt.subplots()\n",
    "for i,patch in enumerate(range(49)):\n",
    "    data_id = {'tract': 4638, 'patch': patch}\n",
    "    print(data_id)\n",
    "    coadds = []\n",
    "    for band in bands:\n",
    "        data_id['band'] = band\n",
    "        coadds.append(butler.get('deepCoadd',dataId=data_id))\n",
    "\n",
    "    coadds = MultibandExposure.fromExposures(bands, coadds)\n",
    "    rgb = createRGB(coadds)\n",
    "\n",
    "    # Store images in a list to animate later\n",
    "    im = ax.imshow(rgb, origin='lower', animated=True, visible=False)\n",
    "    images.append([im])\n",
    "\n",
    "    if test and i > 2: break\n",
    "        \n",
    "# close a spurious extra image that is created\n",
    "plt.close()\n",
    "\n",
    "# makes an animation of the parent, then child footprints\n",
    "HTML(animation.ArtistAnimation(fig, images, interval=1000, blit=True,\n",
    "                                repeat_delay=1000).to_jshtml())\n",
    "# takes some time to get going... "
   ]
  },
  {
   "cell_type": "code",
   "execution_count": null,
   "id": "ba1244fa",
   "metadata": {},
   "outputs": [],
   "source": []
  }
 ],
 "metadata": {
  "kernelspec": {
   "display_name": "LSST",
   "language": "python",
   "name": "lsst"
  },
  "language_info": {
   "codemirror_mode": {
    "name": "ipython",
    "version": 3
   },
   "file_extension": ".py",
   "mimetype": "text/x-python",
   "name": "python",
   "nbconvert_exporter": "python",
   "pygments_lexer": "ipython3",
   "version": "3.8.8"
  }
 },
 "nbformat": 4,
 "nbformat_minor": 5
}
