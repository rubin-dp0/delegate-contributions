{
 "cells": [
  {
   "cell_type": "markdown",
   "id": "f8af644d",
   "metadata": {},
   "source": [
    "<b><img align=\"left\" src = https://project.lsst.org/sites/default/files/Rubin-O-Logo_0.png width=250, style=\"padding: 10px\"> \n",
    "<p><p><p><p><p><p>\n",
    "<b>Interactive Image-Catalog Visualization</b> <br>\n",
    "Last verified to run on <b>2021-10-08</b> with LSST Science Pipelines release <b>w_2021_33</b> <br>\n",
    "Contact authors: Keith Bechtol <br>\n",
    "Target audience: All DP0 delegates. <br>\n",
    "Container Size: medium or large <br>\n",
    "Questions welcome at <a href=\"https://community.lsst.org/c/support/dp0\">community.lsst.org/c/support/dp0</a> <br>\n",
    "Find DP0 documentation and resources at <a href=\"https://dp0-1.lsst.io\">dp0-1.lsst.io</a> <br>"
   ]
  },
  {
   "cell_type": "markdown",
   "id": "2c87840a",
   "metadata": {},
   "source": [
    "**Credit:** This tutorial builds upon notebooks developed for DP0.1 by Leanne Guy. Please consider acknowledging Leanne Guy and Keith Bechtol in any publications or software releases that make use of this notebook's contents."
   ]
  },
  {
   "cell_type": "markdown",
   "id": "cee61e4e",
   "metadata": {},
   "source": [
    "### Learning Objectives\n",
    "\n",
    "This tutorial builds upon ``08a_Interactive_Image_Visualization`` and `08b_Interactive_Catalog_Visualization` as part of a series introducing three open-source Python libraries that enable powerful interactive visualization of images and catalogs. \n",
    " 1. [**HoloViews**](http://holoviews.org): Produce high-quality interactive visualizations easily by annotating plots and images rather than using direct calls to a plotting library\n",
    " 2. [**Bokeh**](https://bokeh.org): A powerful data visualization library that provides interactive tools including brushing and linking between multiple plots. `Holoviews` + `Bokeh`\n",
    " 3. [**Datashader**](https://datashader.org): Accurately render very large datasets quickly and flexibly.\n",
    "  \n",
    "These packages are part of the [Holoviz](https://holoviz.org/) ecosystem of tools intended for visualization in a web browser and can be used to create quite sophisticated dashboard-like interactive displays and widgets. The goal of this tutorial is to provide an introduction and starting point from which to create more advanced, custom interactive visualizations. Holoviz has a [vibrant and active community](https://discourse.holoviz.org/) where you can ask questions and discuss vizualizations with a global community. \n",
    "\n",
    "This tutorial focuses on interaction between image and catalog displays."
   ]
  },
  {
   "cell_type": "markdown",
   "id": "9b553dbd",
   "metadata": {},
   "source": [
    "### Logistics\n",
    "This notebook is intended to be runnable on `data.lsst.cloud`. Note that occasionally the notebook may seem to stall, or the interactive features may seem disabled. If this happens, usually a restart of the kernel fixes the issue. You might also need to log out of the RSP and start a \"large\" instance of the JupyterLab environment. In some examples shown in this notebook, the order in which the cells are run is important for understanding the interactive features, so you may want to re-run the set of cells in a given section if you encounter unexpected behavior. Note that some of the examples require manual selection of points on a graph to run correctly."
   ]
  },
  {
   "cell_type": "markdown",
   "id": "9df8d968",
   "metadata": {},
   "source": [
    "### Setup"
   ]
  },
  {
   "cell_type": "code",
   "execution_count": null,
   "id": "afe45649",
   "metadata": {},
   "outputs": [],
   "source": [
    "# General python imports\n",
    "import numpy as np\n",
    "\n",
    "# Astropy\n",
    "from astropy.visualization import  ZScaleInterval, AsinhStretch\n",
    "\n",
    "# LSST imports\n",
    "from lsst.daf.butler import Butler\n",
    "import lsst.geom as geom\n",
    "\n",
    "# Bokeh and Holoviews for visualization\n",
    "import bokeh\n",
    "from bokeh.io import output_notebook\n",
    "from bokeh.models import ColumnDataSource\n",
    "\n",
    "import holoviews as hv\n",
    "from holoviews import streams\n",
    "from holoviews.operation.datashader import rasterize\n",
    "\n",
    "import panel as pn\n",
    "\n",
    "# Set the holoviews plotting library to be bokeh\n",
    "# You will see the holoviews + bokeh icons displayed when the library is loaded successfully\n",
    "hv.extension('bokeh')\n",
    "\n",
    "# Display bokeh plots inline in the notebook\n",
    "output_notebook()"
   ]
  },
  {
   "cell_type": "code",
   "execution_count": null,
   "id": "74a085f6",
   "metadata": {},
   "outputs": [],
   "source": [
    "# What versions of bokeh and holoviews nd datashader are we working with?\n",
    "# This is important when referring to online documentation as\n",
    "# APIs can change between versions.\n",
    "print(\"Bokeh version: \" + bokeh.__version__)\n",
    "print(\"Holoviews version: \" + hv.__version__)"
   ]
  },
  {
   "cell_type": "code",
   "execution_count": null,
   "id": "345fe1db",
   "metadata": {},
   "outputs": [],
   "source": [
    "# What version of the LSST Science Pipelnes are we using?\n",
    "! echo $IMAGE_DESCRIPTION\n",
    "! eups list -s | grep lsst_distrib"
   ]
  },
  {
   "cell_type": "markdown",
   "id": "03965977",
   "metadata": {},
   "source": [
    "### 1. Data Preparation\n",
    "\n",
    "Follow the data preparation steps from `08a_Interactive_Image_Visualization` to load \n",
    "1. a image for a single detector and the associated source catalog\n",
    "2. a coadd image for a single patch and the associated object catalog."
   ]
  },
  {
   "cell_type": "code",
   "execution_count": null,
   "id": "607944fc",
   "metadata": {},
   "outputs": [],
   "source": [
    "# Instantiate the Butler initializing it with the repository name and the DP0.1 collection identifier\n",
    "#from lsst.daf.butler import Butler\n",
    "repo = 's3://butler-us-central1-dp01'\n",
    "collection = '2.2i/runs/DP0.1'\n",
    "butler = Butler(repo, collections=collection)"
   ]
  },
  {
   "cell_type": "code",
   "execution_count": null,
   "id": "06714a6d",
   "metadata": {},
   "outputs": [],
   "source": [
    "# Define a calibrated exposure and retrieve it via the Butler\n",
    "calexpId = {'visit': 192350, 'detector': 175, 'band': 'i'}\n",
    "calexp = butler.get('calexp', **calexpId)\n",
    "assert calexp is not None\n",
    "# Source table for this exposure\n",
    "calexpSrc = butler.get('src', **calexpId)"
   ]
  },
  {
   "cell_type": "code",
   "execution_count": null,
   "id": "031787fd",
   "metadata": {},
   "outputs": [],
   "source": [
    "# Define a deep coadded image and retrieve it via the Butler\n",
    "coaddId = {'tract': 4226, 'patch': 17, 'band': 'r'}\n",
    "coadd = butler.get('deepCoadd', **coaddId)\n",
    "assert coadd is not None\n",
    "# Source table for this coadd\n",
    "coaddSrc = butler.get('deepCoadd_forced_src', coaddId)"
   ]
  },
  {
   "cell_type": "markdown",
   "id": "52729753",
   "metadata": {},
   "source": [
    "### 2. Interactively Select Objects Overlaid on an Image with an Adjustable Colorbar Range\n",
    "\n",
    "This example demonstrates some possibilities for selecting catalog objects based on an image. We create an interactive dashboard with [**panel**](https://panel.holoviz.org/), a package in the [**HoloViz**](https://holoviz.org/) ecosystem designed to create custom interactive web apps and dashboards. In this case, we add sliders to interactively adjust the contrast of the image. More inspiration for interactive dashboards can found in the [**HoloViews User Guide**](https://holoviews.org/user_guide/Dashboards.html)."
   ]
  },
  {
   "cell_type": "code",
   "execution_count": null,
   "id": "e6525bc6",
   "metadata": {},
   "outputs": [],
   "source": [
    "# Apply a asinh/zscale mapping to the data \n",
    "transform = AsinhStretch() + ZScaleInterval()\n",
    "scaledImage = transform(calexp.image.array)\n",
    "\n",
    "scaledImage = np.flipud(scaledImage)\n",
    "bounds_img = (0, 0, calexp.getDimensions()[0], calexp.getDimensions()[1])\n",
    "\n",
    "s = calexpSrc.getColumnView()\n",
    "coords = s.getX(), s.getY()\n",
    "detections = hv.Points(coords).opts(fill_color=None, size=9, color=\"darkorange\",\n",
    "                                    tools=['hover', 'box_select', 'lasso_select'])\n",
    "\n",
    "def makeImage(zmin=0., zmax=1.0):\n",
    "    \"\"\"Update image colorbar range.\"\"\"\n",
    "    image = hv.Image(scaledImage, \n",
    "                     bounds=bounds_img, \n",
    "                     vdims=hv.Dimension('z', range=(zmin, zmax))).opts(\n",
    "        cmap = \"Greys\", colorbar=True, height=600, width=700)\n",
    "    return image\n",
    "\n",
    "zmin = pn.widgets.FloatSlider(name='zmin', value=0.5, start=0., end=1., step=0.01)\n",
    "zmax = pn.widgets.FloatSlider(name='zmax', value=1., start=0., end=1., step=0.01)\n",
    "\n",
    "dmap = hv.DynamicMap(pn.bind(makeImage, zmin=zmin, zmax=zmax))\n",
    "\n",
    "selection = streams.Selection1D(source=detections)\n",
    "\n",
    "app = pn.Row(pn.WidgetBox('Colorbar Range', zmin, zmax), rasterize(dmap) * detections)\n",
    "app"
   ]
  },
  {
   "cell_type": "markdown",
   "id": "1467907f",
   "metadata": {},
   "source": [
    "> STOP - Select some data points from the plot above using the lasso or box select tool. Notice that the selection updates."
   ]
  },
  {
   "cell_type": "code",
   "execution_count": null,
   "id": "fd7c7206",
   "metadata": {},
   "outputs": [],
   "source": [
    "selection"
   ]
  },
  {
   "cell_type": "markdown",
   "id": "1e1f0876",
   "metadata": {},
   "source": [
    "### 3. Interactively Select Objects from a Scatter Plot and Create Postage Stamp Cutouts\n",
    "\n",
    "In this example, we demonstrate the possibility to trigger more advanced analysis within an interactive display. In one panel we create a scatter plot based on catalog data, and in a second panel we generate a postage stamp cutout image for an object selected on the scatter plot. Each time we select a different object, we retrieve the cutout image."
   ]
  },
  {
   "cell_type": "markdown",
   "id": "451e13b7",
   "metadata": {},
   "source": [
    "We directly borrow the postage stamp image cutout function from the `03_Image_Display_and_Manipulation` tutorial."
   ]
  },
  {
   "cell_type": "code",
   "execution_count": null,
   "id": "ac5b5aa2",
   "metadata": {},
   "outputs": [],
   "source": [
    "def cutout_coadd(butler, ra, dec, band='r', datasetType='deepCoadd',\n",
    "                 skymap=None, cutoutSideLength=51, **kwargs):\n",
    "    \"\"\"\n",
    "    Produce a cutout from a coadd at the given ra, dec position.\n",
    "\n",
    "    Adapted from DC2 tutorial notebook by Michael Wood-Vasey.\n",
    "\n",
    "    Parameters\n",
    "    ----------\n",
    "    butler: lsst.daf.persistence.Butler\n",
    "        Servant providing access to a data repository\n",
    "    ra: float\n",
    "        Right ascension of the center of the cutout, in degrees\n",
    "    dec: float\n",
    "        Declination of the center of the cutout, in degrees\n",
    "    band: string\n",
    "        Filter of the image to load\n",
    "    datasetType: string ['deepCoadd']\n",
    "        Which type of coadd to load.  Doesn't support 'calexp'\n",
    "    skymap: lsst.afw.skyMap.SkyMap [optional]\n",
    "        Pass in to avoid the Butler read.  Useful if you have lots of them.\n",
    "    cutoutSideLength: float [optional]\n",
    "        Size of the cutout region in pixels.\n",
    "\n",
    "    Returns\n",
    "    -------\n",
    "    MaskedImage\n",
    "    \"\"\"\n",
    "    radec = geom.SpherePoint(ra, dec, geom.degrees)\n",
    "    cutoutSize = geom.ExtentI(cutoutSideLength, cutoutSideLength)\n",
    "\n",
    "    if skymap is None:\n",
    "        skymap = butler.get(\"skyMap\")\n",
    "\n",
    "    # Look up the tract, patch for the RA, Dec\n",
    "    tractInfo = skymap.findTract(radec)\n",
    "    patchInfo = tractInfo.findPatch(radec)\n",
    "    xy = geom.PointI(tractInfo.getWcs().skyToPixel(radec))\n",
    "    bbox = geom.BoxI(xy - cutoutSize // 2, cutoutSize)\n",
    "    patch = tractInfo.getSequentialPatchIndex(patchInfo)\n",
    "\n",
    "    coaddId = {'tract': tractInfo.getId(), 'patch': patch, 'band': band}\n",
    "    parameters = {'bbox': bbox}\n",
    "\n",
    "    cutout_image = butler.get(datasetType, parameters=parameters,\n",
    "                              immediate=True, dataId=coaddId)\n",
    "\n",
    "    return cutout_image"
   ]
  },
  {
   "cell_type": "markdown",
   "id": "bb843fa6",
   "metadata": {},
   "source": [
    "Now we are ready to create the interactive display. Try selecting different objects in the scatter plot and see the cutout image update."
   ]
  },
  {
   "cell_type": "code",
   "execution_count": null,
   "id": "db0737e9",
   "metadata": {},
   "outputs": [],
   "source": [
    "source = ColumnDataSource(data=dict(ra=np.degrees(coaddSrc['coord_ra']),\n",
    "                                    dec=np.degrees(coaddSrc['coord_dec']),\n",
    "                                    flux=coaddSrc['modelfit_CModel_instFlux'],\n",
    "                                    fluxErr=coaddSrc['modelfit_CModel_instFluxErr'],\n",
    "                                    objectId=coaddSrc['id']))\n",
    "\n",
    "# Scatter plot of detected objects\n",
    "# We can specify the axis to plot as well as additional information\n",
    "detections = hv.Points(kdims=['flux', 'fluxErr'], \n",
    "                       vdims=['ra', 'dec', 'objectId'], \n",
    "                       data=source.data)\n",
    "detections.opts(\n",
    "    tools=['tap'], \n",
    "    height=600, width=600, logx=True, logy=True, xlim=(1, 1.e5),\n",
    "    fill_color='darkorange', size=9, color=\"darkorange\",\n",
    "    nonselection_fill_color='none', nonselection_line_color='black')\n",
    "\n",
    "# Selection from the scatter plot\n",
    "selection = streams.Selection1D(source=detections)\n",
    "\n",
    "def makeImageCutout(index):\n",
    "    \"\"\"Retrieve cutout image for a selected object.\"\"\"\n",
    "    if len(index) == 0:\n",
    "        index = [0]\n",
    "    \n",
    "    ra = detections.data['ra'][index].values[0]\n",
    "    dec = detections.data['dec'][index].values[0]\n",
    "    objectId = detections.data['objectId'][index].values[0]\n",
    "    \n",
    "    cutout = cutout_coadd(butler, ra, dec)\n",
    "    bounds_img = (0, 0, cutout.getDimensions()[0], cutout.getDimensions()[1])\n",
    "    \n",
    "    image = hv.Image(cutout.image.array, bounds=bounds_img).opts(\n",
    "        cmap = \"Greys\", colorbar=True, height=600, width=700)\n",
    "    \n",
    "    image = image.relabel(\"(RA, Dec) = (%.6f, %.6f) ; objectId = %i\"%(ra, dec, objectId))\n",
    "    return image\n",
    "\n",
    "dmap = hv.DynamicMap(makeImageCutout, streams=[selection])\n",
    "\n",
    "# The axiswise=True allows the axes of the two panels to be independent of each other\n",
    "app = pn.Row(detections.opts(axiswise=True), \n",
    "             rasterize(dmap).opts(axiswise=True))\n",
    "app"
   ]
  },
  {
   "cell_type": "code",
   "execution_count": null,
   "id": "babd3ada",
   "metadata": {},
   "outputs": [],
   "source": []
  }
 ],
 "metadata": {
  "kernelspec": {
   "display_name": "LSST",
   "language": "python",
   "name": "lsst"
  },
  "language_info": {
   "codemirror_mode": {
    "name": "ipython",
    "version": 3
   },
   "file_extension": ".py",
   "mimetype": "text/x-python",
   "name": "python",
   "nbconvert_exporter": "python",
   "pygments_lexer": "ipython3",
   "version": "3.8.8"
  }
 },
 "nbformat": 4,
 "nbformat_minor": 5
}
