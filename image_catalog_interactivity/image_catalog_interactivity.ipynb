{
 "cells": [
  {
   "cell_type": "markdown",
   "id": "5d377de2",
   "metadata": {},
   "source": [
    "# Image-Catalog Interactivity"
   ]
  },
  {
   "cell_type": "code",
   "execution_count": null,
   "id": "7d128f2f",
   "metadata": {},
   "outputs": [],
   "source": [
    "# General python imports\n",
    "import numpy as np\n",
    "\n",
    "# Astropy\n",
    "from astropy.visualization import  ZScaleInterval, AsinhStretch\n",
    "\n",
    "# LSST imports\n",
    "from lsst.daf.butler import Butler\n",
    "import lsst.geom as geom\n",
    "\n",
    "# Bokeh and Holoviews for visualization\n",
    "from bokeh.io import output_notebook\n",
    "from bokeh.models import ColumnDataSource\n",
    "\n",
    "import holoviews as hv\n",
    "from holoviews import streams\n",
    "from holoviews.operation.datashader import rasterize\n",
    "\n",
    "import panel as pn\n",
    "\n",
    "# Set the holoviews plotting library to be bokeh\n",
    "# You will see the holoviews + bokeh icons displayed when the library is loaded successfully\n",
    "hv.extension('bokeh')\n",
    "\n",
    "# Display bokeh plots inline in the notebook\n",
    "output_notebook()"
   ]
  },
  {
   "cell_type": "markdown",
   "id": "12d788c2",
   "metadata": {},
   "source": [
    "## Load Data"
   ]
  },
  {
   "cell_type": "code",
   "execution_count": null,
   "id": "ca15bb07",
   "metadata": {},
   "outputs": [],
   "source": [
    "# Instantiate the Butler initializing it with the repository name and the DP0.1 collection identifier\n",
    "#from lsst.daf.butler import Butler\n",
    "repo = 's3://butler-us-central1-dp01'\n",
    "collection = '2.2i/runs/DP0.1'\n",
    "butler = Butler(repo, collections=collection)"
   ]
  },
  {
   "cell_type": "code",
   "execution_count": null,
   "id": "20496a53",
   "metadata": {},
   "outputs": [],
   "source": [
    "# Define a calibrated exposure and retrieve it via the Butler\n",
    "calexpId = {'visit': 192350, 'detector': 175, 'band': 'i'}\n",
    "calexp = butler.get('calexp', **calexpId)\n",
    "assert calexp is not None\n",
    "# Source table for this exposure\n",
    "calexpSrc = butler.get('src', **calexpId)"
   ]
  },
  {
   "cell_type": "code",
   "execution_count": null,
   "id": "906c6e5e",
   "metadata": {},
   "outputs": [],
   "source": [
    "# Define a deep coadded image and retrieve it via the Butler\n",
    "coaddId = {'tract': 4226, 'patch': 17, 'band': 'r'}\n",
    "coadd = butler.get('deepCoadd', **coaddId)\n",
    "assert coadd is not None\n",
    "# Source table for this coadd\n",
    "coaddSrc = butler.get('deepCoadd_forced_src', coaddId)"
   ]
  },
  {
   "cell_type": "markdown",
   "id": "9c90e60f",
   "metadata": {},
   "source": [
    "## Example 1"
   ]
  },
  {
   "cell_type": "code",
   "execution_count": null,
   "id": "ae4ac9e9",
   "metadata": {},
   "outputs": [],
   "source": [
    "# Apply a asinh/zscale mapping to the data \n",
    "transform = AsinhStretch() + ZScaleInterval()\n",
    "scaledImage = transform(calexp.image.array)\n",
    "\n",
    "scaledImage = np.flipud(scaledImage)\n",
    "bounds_img = (0, 0, calexp.getDimensions()[0], calexp.getDimensions()[1])\n",
    "\n",
    "s = calexpSrc.getColumnView()\n",
    "coords = s.getX(), s.getY()\n",
    "detections = hv.Points(coords).opts(fill_color=None, size = 9, color=\"darkorange\")\n",
    "\n",
    "def makeImage(zmin=0.6, zmax=0.8):\n",
    "    image = hv.Image(scaledImage, \n",
    "                     bounds=bounds_img, \n",
    "                     vdims=hv.Dimension('z', range=(zmin, zmax))).opts(\n",
    "        cmap = \"Greys_r\", colorbar=True, height=600, width=700)\n",
    "    #return rasterize(image, dynamic=False)\n",
    "    return image\n",
    "\n",
    "zmin = pn.widgets.FloatSlider(name='zmin', value=0.5, start=0., end=1., step=0.01)\n",
    "zmax = pn.widgets.FloatSlider(name='zmax', value=1., start=0., end=1., step=0.01)\n",
    "\n",
    "dmap = hv.DynamicMap(pn.bind(makeImage, zmin=zmin, zmax=zmax))\n",
    "\n",
    "selection = streams.Selection1D(source=detections)\n",
    "\n",
    "app = pn.Row(pn.WidgetBox('zmax', zmin, zmax), rasterize(dmap) * detections.opts(tools=['hover', 'box_select', 'lasso_select']))\n",
    "app"
   ]
  },
  {
   "cell_type": "markdown",
   "id": "24d18f62",
   "metadata": {},
   "source": [
    "> STOP - Select some data points from the plot above using the lasso or box select tool. Notice that the selection updates."
   ]
  },
  {
   "cell_type": "code",
   "execution_count": null,
   "id": "ecf5af3d",
   "metadata": {},
   "outputs": [],
   "source": [
    "selection"
   ]
  },
  {
   "cell_type": "markdown",
   "id": "09dc79a3",
   "metadata": {},
   "source": [
    "## Example 2"
   ]
  },
  {
   "cell_type": "code",
   "execution_count": null,
   "id": "48f3e9c1",
   "metadata": {},
   "outputs": [],
   "source": [
    "def cutout_coadd(butler, ra, dec, band='r', datasetType='deepCoadd',\n",
    "                 skymap=None, cutoutSideLength=51, **kwargs):\n",
    "    \"\"\"\n",
    "    Produce a cutout from a coadd at the given ra, dec position.\n",
    "\n",
    "    Adapted from DC2 tutorial notebook by Michael Wood-Vasey.\n",
    "\n",
    "    Parameters\n",
    "    ----------\n",
    "    butler: lsst.daf.persistence.Butler\n",
    "        Servant providing access to a data repository\n",
    "    ra: float\n",
    "        Right ascension of the center of the cutout, in degrees\n",
    "    dec: float\n",
    "        Declination of the center of the cutout, in degrees\n",
    "    band: string\n",
    "        Filter of the image to load\n",
    "    datasetType: string ['deepCoadd']\n",
    "        Which type of coadd to load.  Doesn't support 'calexp'\n",
    "    skymap: lsst.afw.skyMap.SkyMap [optional]\n",
    "        Pass in to avoid the Butler read.  Useful if you have lots of them.\n",
    "    cutoutSideLength: float [optional]\n",
    "        Size of the cutout region in pixels.\n",
    "\n",
    "    Returns\n",
    "    -------\n",
    "    MaskedImage\n",
    "    \"\"\"\n",
    "    radec = geom.SpherePoint(ra, dec, geom.degrees)\n",
    "    cutoutSize = geom.ExtentI(cutoutSideLength, cutoutSideLength)\n",
    "\n",
    "    if skymap is None:\n",
    "        skymap = butler.get(\"skyMap\")\n",
    "\n",
    "    # Look up the tract, patch for the RA, Dec\n",
    "    tractInfo = skymap.findTract(radec)\n",
    "    patchInfo = tractInfo.findPatch(radec)\n",
    "    xy = geom.PointI(tractInfo.getWcs().skyToPixel(radec))\n",
    "    bbox = geom.BoxI(xy - cutoutSize // 2, cutoutSize)\n",
    "    patch = tractInfo.getSequentialPatchIndex(patchInfo)\n",
    "\n",
    "    coaddId = {'tract': tractInfo.getId(), 'patch': patch, 'band': band}\n",
    "    parameters = {'bbox': bbox}\n",
    "\n",
    "    cutout_image = butler.get(datasetType, parameters=parameters,\n",
    "                              immediate=True, dataId=coaddId)\n",
    "\n",
    "    return cutout_image"
   ]
  },
  {
   "cell_type": "code",
   "execution_count": null,
   "id": "3bd144f9",
   "metadata": {},
   "outputs": [],
   "source": [
    "source = ColumnDataSource(data=dict(ra=np.degrees(coaddSrc['coord_ra']),\n",
    "                                    dec=np.degrees(coaddSrc['coord_dec']),\n",
    "                                    flux=coaddSrc['modelfit_CModel_instFlux'],\n",
    "                                    fluxErr=coaddSrc['modelfit_CModel_instFluxErr'],\n",
    "                                    objectId=coaddSrc['id']))\n",
    "detections = hv.Points(kdims=['flux', 'fluxErr'], vdims=['ra', 'dec', 'objectId'], data=source.data).opts(fill_color=None, size=9, color=\"darkorange\")\n",
    "detections.opts(tools=['tap'])\n",
    "selection = streams.Selection1D(source=detections)\n",
    "\n",
    "def makeImageCutout(index):\n",
    "    if len(index) == 0:\n",
    "        index = [0]\n",
    "    \n",
    "    ra = detections.data['ra'][index].values[0]\n",
    "    dec = detections.data['dec'][index].values[0]\n",
    "    objectId = detections.data['objectId'][index].values[0]\n",
    "    \n",
    "    data = cutout_coadd(butler, ra, dec)\n",
    "    bounds_img = (0, 0, data.getDimensions()[0], data.getDimensions()[1])\n",
    "    \n",
    "    #transform = AsinhStretch()\n",
    "    \n",
    "    image = hv.Image(data.image.array, bounds=bounds_img).opts(\n",
    "        cmap = \"Greys_r\", colorbar=True, height=600, width=700)\n",
    "    \n",
    "    return image.relabel(\"(RA, Dec) = (%.6f, %.6f) ; objectId = %i\"%(ra, dec, objectId))\n",
    "\n",
    "dmap = hv.DynamicMap(makeImageCutout, streams=[selection])\n",
    "\n",
    "app = pn.Row(detections.opts(axiswise=True, height=600, width=600, logx=True, logy=True, xlim=(1, 1.e5),\n",
    "                             nonselection_fill_color='silver', nonselection_line_color='silver'), \n",
    "             rasterize(dmap).opts(axiswise=True))\n",
    "app"
   ]
  },
  {
   "cell_type": "code",
   "execution_count": null,
   "id": "30fe8614",
   "metadata": {},
   "outputs": [],
   "source": []
  }
 ],
 "metadata": {
  "kernelspec": {
   "display_name": "LSST",
   "language": "python",
   "name": "lsst"
  },
  "language_info": {
   "codemirror_mode": {
    "name": "ipython",
    "version": 3
   },
   "file_extension": ".py",
   "mimetype": "text/x-python",
   "name": "python",
   "nbconvert_exporter": "python",
   "pygments_lexer": "ipython3",
   "version": "3.8.8"
  }
 },
 "nbformat": 4,
 "nbformat_minor": 5
}
