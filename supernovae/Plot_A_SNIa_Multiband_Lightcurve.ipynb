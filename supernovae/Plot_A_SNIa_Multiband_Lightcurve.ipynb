{
 "cells": [
  {
   "cell_type": "markdown",
   "id": "4e8a8a40",
   "metadata": {},
   "source": [
    "# SNIa Multi-band Lightcurve\n",
    "By Melissa Graham (mlg3k@uw.edu)\n",
    "\n",
    "#### Credit\n",
    "This NB draws on code from the Rubin DP0 tutorial notebook `09_Single_Star_Lightcurve` by Jeff Carlin.\n",
    "\n",
    "#### Objectives\n",
    "Find a SNIa that returns a decent looking multi-band light curve.\n",
    " - Query the truth match catalog to find SNeIa.\n",
    " - Query the Butler to get Source measurements for a SNIa.\n",
    " - Plot the multi-band light curve for a SNIa.\n",
    " \n",
    "#### Stretch Goals\n",
    "Left for other notebooks.\n",
    " - Retrieve magnitude errors and plot them too.\n",
    " - Find an even better-sampled SNIa.\n",
    " - Fit a SNIa template lightcurve.\n",
    " - Identify and characterize the host galaxy.\n",
    "\n",
    "\n",
    "## 0. Setup"
   ]
  },
  {
   "cell_type": "code",
   "execution_count": null,
   "id": "b8aedd5d",
   "metadata": {},
   "outputs": [],
   "source": [
    "### Rubin-specific packages\n",
    "\n",
    "import lsst.daf.butler as dafButler\n",
    "import lsst.geom as geom\n",
    "import lsst.sphgeom as sphgeom\n",
    "import lsst.daf.base as dafBase\n",
    "\n",
    "### If you want to use the TAP Service in Section 2, uncomment.\n",
    "from rubin_jupyter_utils.lab.notebook import get_tap_service\n",
    "service = get_tap_service()\n",
    "\n",
    "### General python / astronomy packages\n",
    "\n",
    "import matplotlib.pyplot as plt\n",
    "import numpy as np\n",
    "\n",
    "from astropy.coordinates import SkyCoord\n",
    "import astropy.units as u\n",
    "from astropy.time import Time\n",
    "from astropy.table import Table\n",
    "from astropy.io import fits\n",
    "from astropy.timeseries import LombScargle\n",
    "\n",
    "import time"
   ]
  },
  {
   "cell_type": "markdown",
   "id": "28fe0cbe",
   "metadata": {},
   "source": [
    "### 0.1 Instatiate Butler"
   ]
  },
  {
   "cell_type": "code",
   "execution_count": null,
   "id": "9d727de4",
   "metadata": {},
   "outputs": [],
   "source": [
    "repo = 's3://butler-us-central1-dp01'\n",
    "collection = \"2.2i/runs/DP0.1\"\n",
    "butler = dafButler.Butler(repo, collections=collection)\n",
    "registry = butler.registry"
   ]
  },
  {
   "cell_type": "markdown",
   "id": "f5dd1cd6",
   "metadata": {},
   "source": [
    "### 0.2 TAP Query for SNeIa\n",
    "\n",
    "Query the truth match catalog. Use central coordinates of DC2. Use a 5 degree radius. Use is_variable = 1 (true) to only return variables. Use truth_type = 3 to only return Type Ia supernovae. Use is_unique_truth_entry = 'true' to ensure good truth-table matches only. Use redshift < 0.3 to be more likely to get a full light curve with lots of data points."
   ]
  },
  {
   "cell_type": "code",
   "execution_count": null,
   "id": "ed97693c",
   "metadata": {},
   "outputs": [],
   "source": [
    "results = service.search(\"SELECT ra, dec \"\\\n",
    "                         \"FROM dp01_dc2_catalogs.truth_match \"\\\n",
    "                         \"WHERE CONTAINS(POINT('ICRS', ra, dec), \"\\\n",
    "                         \"CIRCLE('ICRS', 62.0, -37.0, 5.0)) = 1 \"\\\n",
    "                         \"AND is_variable = 1 AND truth_type = 3 AND is_unique_truth_entry = 'true' AND redshift < 0.3 \",\\\n",
    "                         maxrec=10000)"
   ]
  },
  {
   "cell_type": "markdown",
   "id": "b0a55136",
   "metadata": {},
   "source": [
    "#### Show the TAP query results"
   ]
  },
  {
   "cell_type": "code",
   "execution_count": null,
   "id": "42d0d0bb",
   "metadata": {},
   "outputs": [],
   "source": [
    "data = results.to_table().to_pandas()\n",
    "data"
   ]
  },
  {
   "cell_type": "markdown",
   "id": "6d8f3e41",
   "metadata": {},
   "source": [
    "## 1. Get light curve data for one SNIa"
   ]
  },
  {
   "cell_type": "code",
   "execution_count": null,
   "id": "d129289f",
   "metadata": {},
   "outputs": [],
   "source": [
    "### At first, I tried making just the r-band the light curve for each of these in turn\n",
    "###  Only two of the following looked like useful SNIa light curves\n",
    "# i = 0   # r-band did not look SNIa-like\n",
    "# i = 1   # r-band results had no mjd, no mag\n",
    "# i = 2   # r-band looks SNIa-like, if a bit undersampled\n",
    "# i = 3   # r-band results had no mjd, no mag\n",
    "# i = 4   # r-band detections on decline only\n",
    "i = 5   # r-band looks SNIa-like\n",
    "# i = 6   # r-band only three epochs\n",
    "# i = 7   # r-band only two epochs\n",
    "\n",
    "print( data['ra'][i] * u.deg, data['dec'][i] * u.deg )\n",
    "\n",
    "targ_coord = SkyCoord(ra=data['ra'][i] * u.deg, dec=data['dec'][i] * u.deg)"
   ]
  },
  {
   "cell_type": "markdown",
   "id": "b5bcbec0",
   "metadata": {},
   "source": [
    "### 1.1 Define the HTM ID for the Butler\n",
    "Use these coordinates to define the HTM ID spatial search region to pass to the Butler's `queryDatasets` function."
   ]
  },
  {
   "cell_type": "code",
   "execution_count": null,
   "id": "93ee3232",
   "metadata": {},
   "outputs": [],
   "source": [
    "pixelization = sphgeom.HtmPixelization(15)\n",
    "htm_id = pixelization.index(sphgeom.UnitVector3d(sphgeom.LonLat.fromDegrees(\n",
    "                            targ_coord.ra.value, targ_coord.dec.value)))\n",
    "\n",
    "# Obtain and print the scale to provide a sense of the size of the\n",
    "#   sky pixelization being used\n",
    "scale = pixelization.triangle(htm_id).getBoundingCircle().getOpeningAngle().asDegrees() * 3600\n",
    "print(f'HTM ID={htm_id} at level={pixelization.getLevel()} is a ~{scale:0.2}\" triangle.')"
   ]
  },
  {
   "cell_type": "markdown",
   "id": "c825930c",
   "metadata": {},
   "source": [
    "### 1.2 Query the Butler\n",
    "Query the `src` datasets (i.e., measurements from each processed visit image) for this HTM pixel via the Butler."
   ]
  },
  {
   "cell_type": "code",
   "execution_count": null,
   "id": "37dfb25e",
   "metadata": {},
   "outputs": [],
   "source": [
    "### To retrieve only r-band\n",
    "# datasetRefs = registry.queryDatasets(\"src\", htm20=htm_id,\n",
    "#                                      collections=collection,\n",
    "#                                      where=\"band in ('r')\")\n",
    "\n",
    "### To retrieve all filters\n",
    "datasetRefs = registry.queryDatasets(\"src\", htm20=htm_id,\n",
    "                                     collections=collection)"
   ]
  },
  {
   "cell_type": "code",
   "execution_count": null,
   "id": "2fc19a36",
   "metadata": {},
   "outputs": [],
   "source": [
    "datasetRefs"
   ]
  },
  {
   "cell_type": "code",
   "execution_count": null,
   "id": "12f6c179",
   "metadata": {},
   "outputs": [],
   "source": [
    "refs = list(datasetRefs)\n",
    "totalNrefs = len(refs)\n",
    "\n",
    "print(totalNrefs, ' catalogs matching the requested position.')"
   ]
  },
  {
   "cell_type": "markdown",
   "id": "9e9581cc",
   "metadata": {},
   "source": [
    "**WARNING** The following cell can take a few minutes to execute."
   ]
  },
  {
   "cell_type": "code",
   "execution_count": null,
   "id": "f7bb2b60",
   "metadata": {},
   "outputs": [],
   "source": [
    "t0 = time.time()\n",
    "print(t0)\n",
    "\n",
    "# To retrieve data for all `refs`, set N_refs to be equal to totalNrefs (or to a large value like 1000).\n",
    "# Alternatively to test the retrieval of a few `refs`, set smaller (e.g., 10).\n",
    "Nrefs = totalNrefs\n",
    "# Nrefs = 5\n",
    "\n",
    "# Instantiate empty lists\n",
    "ra_arr = []\n",
    "dec_arr = []\n",
    "sep_arr = []\n",
    "mag_arr = []\n",
    "visit_arr = []\n",
    "detector_arr = []\n",
    "mjd_arr = []\n",
    "band_arr = []\n",
    "\n",
    "# Loop over all refs\n",
    "for i, d in enumerate(refs):\n",
    "    t1 = time.time()\n",
    "\n",
    "    if i <= Nrefs:\n",
    "\n",
    "        # Use the butler to get all sources for this datasetRef's dataId\n",
    "        did = d.dataId\n",
    "        src = butler.get('src', dataId=did)\n",
    "\n",
    "        # Get the separation of all sources from the target\n",
    "        src_coords = SkyCoord(ra=src['coord_ra'] * u.rad,\n",
    "                              dec=src['coord_dec'] * u.rad)\n",
    "        sep = src_coords.separation(targ_coord)\n",
    "\n",
    "        # If the nearest source is within 1.5\", append source quantities to python lists\n",
    "        if np.min(sep.arcsecond) < 1.5:\n",
    "            sx = np.argmin(sep.arcsecond)\n",
    "\n",
    "            # Append RA, Dec, and separation\n",
    "            ra_arr.append(src['coord_ra'][sx])\n",
    "            dec_arr.append(src['coord_dec'][sx])\n",
    "            sep_arr.append(sep[sx].arcsecond)\n",
    "\n",
    "            # Append r-band magnitude (AB mag from the calibrated flux in nJy).\n",
    "            # The calibrated flux in nJy is base_PsfFlux_instFlux times base_localPhotoCalib\n",
    "            mag_arr.append(-2.5 * np.log10(src['base_PsfFlux_instFlux'][sx] * src['base_localPhotoCalib'][sx]) + 31.4)\n",
    "\n",
    "            # Append visit, detector, and band information\n",
    "            visit_arr.append(did['visit'])\n",
    "            detector_arr.append(did['detector'])\n",
    "            band_arr.append(did['band'])\n",
    "\n",
    "            # Append MJD (from this src's associated image's header)\n",
    "            visit_info = butler.get('calexp.visitInfo', dataId=did)\n",
    "            mjd_arr.append(visit_info.getDate().get(dafBase.DateTime.MJD))\n",
    "\n",
    "            del sx\n",
    "\n",
    "        t2 = time.time()\n",
    "        if i == 0:\n",
    "            print('Each data point takes: ', t2 - t1, ' seconds to retrieve.')\n",
    "            print('Retrieving ', Nrefs, ' data points will take ',\n",
    "                  (t2 - t1) * Nrefs / 60.0, ' minutes.')\n",
    "\n",
    "        del did, src, src_coords, sep\n",
    "        del t1, t2\n",
    "\n",
    "print('Total run-time was: ', (time.time() - t0) / 60.0, ' minutes.')\n",
    "del t0"
   ]
  },
  {
   "cell_type": "markdown",
   "id": "5f7f4276",
   "metadata": {},
   "source": [
    "### 1.3 Convert to numpy arrays"
   ]
  },
  {
   "cell_type": "code",
   "execution_count": null,
   "id": "1a46f2a1",
   "metadata": {},
   "outputs": [],
   "source": [
    "### Convert to pandas table via an astropy table\n",
    "###  Including all columns for now just as a demo\n",
    "tab_timeseries = Table([mjd_arr, ra_arr, dec_arr, sep_arr, mag_arr,\n",
    "                        visit_arr, detector_arr, band_arr],\n",
    "                       names=['mjd', 'ra', 'dec', 'separation', 'mag',\n",
    "                              'visit', 'detector', 'band']).to_pandas()"
   ]
  },
  {
   "cell_type": "code",
   "execution_count": null,
   "id": "9b63970b",
   "metadata": {},
   "outputs": [],
   "source": [
    "### Convert to numpy arrays\n",
    "###  Just taking the columns I will want to plot\n",
    "tab_mjds = np.asarray( tab_timeseries['mjd'], dtype='float' )\n",
    "tab_mags = np.asarray( tab_timeseries['mag'], dtype='float' )\n",
    "tab_bands = np.asarray( tab_timeseries['band'], dtype='str' )"
   ]
  },
  {
   "cell_type": "markdown",
   "id": "df2a31e3",
   "metadata": {},
   "source": [
    "## 2.0 Plot the multi-band lightcurve"
   ]
  },
  {
   "cell_type": "code",
   "execution_count": null,
   "id": "4da6ad2d",
   "metadata": {},
   "outputs": [],
   "source": [
    "use_point_colors = ['darkviolet','darkgreen','darkorange','red','brown','black']\n",
    "\n",
    "fig = plt.figure(figsize=(12, 7))\n",
    "plt.rcParams.update({'font.size': 22})\n",
    "\n",
    "for f,fil in enumerate( ['u','g','r','i','z','y'] ):\n",
    "    tx = np.where( tab_bands == fil )[0]\n",
    "    if len(tx) > 0:\n",
    "        plt.plot(tab_mjds[tx], tab_mags[tx], 'o', ms=10, alpha=0.5, mew=0, color=use_point_colors[f], label=fil)\n",
    "\n",
    "plt.xlabel('Modified Julian Date',fontsize=22)\n",
    "plt.ylabel('Apparent Magnitude')\n",
    "plt.gca().invert_yaxis()\n",
    "plt.minorticks_on()\n",
    "plt.xlim([59820,60000])\n",
    "plt.legend(loc='upper right')\n",
    "plt.show()"
   ]
  },
  {
   "cell_type": "code",
   "execution_count": null,
   "id": "ead57962",
   "metadata": {},
   "outputs": [],
   "source": []
  },
  {
   "cell_type": "code",
   "execution_count": null,
   "id": "0c0691b4",
   "metadata": {},
   "outputs": [],
   "source": []
  }
 ],
 "metadata": {
  "kernelspec": {
   "display_name": "LSST",
   "language": "python",
   "name": "lsst"
  },
  "language_info": {
   "codemirror_mode": {
    "name": "ipython",
    "version": 3
   },
   "file_extension": ".py",
   "mimetype": "text/x-python",
   "name": "python",
   "nbconvert_exporter": "python",
   "pygments_lexer": "ipython3",
   "version": "3.8.8"
  }
 },
 "nbformat": 4,
 "nbformat_minor": 5
}
