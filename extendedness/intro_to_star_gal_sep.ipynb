{
 "cells": [
  {
   "cell_type": "markdown",
   "id": "7894306d-1bbf-43fb-b19d-c0e8bdb98f31",
   "metadata": {
    "tags": []
   },
   "source": [
    "# Introduction to Star/Galaxy Separation\n",
    "\n",
    "By Melissa Graham.\n",
    "\n",
    "Last verified to run Fri Mar 25 2022, with Weekly 2021_49.\n",
    "\n",
    "## Set Up\n",
    "import some packages, start TAP service (see, e.g., NB 01, 02, 06)"
   ]
  },
  {
   "cell_type": "code",
   "execution_count": null,
   "id": "3644526e-19f7-4439-81d7-389fb41aacff",
   "metadata": {},
   "outputs": [],
   "source": [
    "import numpy as np\n",
    "\n",
    "import matplotlib.pyplot as plt\n",
    "%matplotlib inline\n",
    "font = {'size'   : 18}\n",
    "plt.rc('font', **font)\n",
    "\n",
    "from lsst.rsp import get_tap_service, retrieve_query\n",
    "service = get_tap_service()"
   ]
  },
  {
   "cell_type": "markdown",
   "id": "c07b19da-d632-4c29-89ac-06466dbc727f",
   "metadata": {},
   "source": [
    "## Get Objects\n",
    "\n",
    "define the TAP query to get a bunch of objects"
   ]
  },
  {
   "cell_type": "code",
   "execution_count": null,
   "id": "657cca1f-9dc7-4582-9317-f8d11acb19d8",
   "metadata": {},
   "outputs": [],
   "source": [
    "query = \"SELECT obj.objectId, obj.mag_g, obj.mag_r, obj.mag_i, obj.extendedness, \"\\\n",
    "        \"truth.match_objectId, truth.truth_type \"\\\n",
    "        \"FROM dp01_dc2_catalogs.object as obj \"\\\n",
    "        \"JOIN dp01_dc2_catalogs.truth_match as truth \"\\\n",
    "        \"ON truth.match_objectId = obj.objectId \"\\\n",
    "        \"WHERE CONTAINS(POINT('ICRS', obj.ra, obj.dec), \"\\\n",
    "        \"CIRCLE('ICRS', 62.0, -37.0, 0.50)) = 1 \"\\\n",
    "        \"AND truth.match_objectid >= 0 \"\\\n",
    "        \"AND truth.is_good_match = 1\"\n",
    "print(query)"
   ]
  },
  {
   "cell_type": "code",
   "execution_count": null,
   "id": "24882fbc-8600-42cd-b0ce-573f82d5dc18",
   "metadata": {},
   "outputs": [],
   "source": [
    "%%time\n",
    "results = service.search(query)\n",
    "print('Query returned %s matched objects.' % len(results))"
   ]
  },
  {
   "cell_type": "code",
   "execution_count": null,
   "id": "f84dd1ab-0ad6-4c39-8860-2abd9008fe95",
   "metadata": {},
   "outputs": [],
   "source": [
    "results.fieldnames"
   ]
  },
  {
   "cell_type": "markdown",
   "id": "4121fdc4-580e-49c7-993b-2333a3e69be3",
   "metadata": {},
   "source": [
    "## Explore Extendedness Parameter\n",
    "\n",
    "how many true stars are extended? how many galaxies are NOT extended?"
   ]
  },
  {
   "cell_type": "code",
   "execution_count": null,
   "id": "ae779ce7-0248-4c32-bdd8-76e08410630b",
   "metadata": {},
   "outputs": [],
   "source": [
    "str_index = np.where(results['truth_type'] == 2)\n",
    "gal_index = np.where(results['truth_type'] == 1)"
   ]
  },
  {
   "cell_type": "code",
   "execution_count": null,
   "id": "0dc4fe3d-d5f3-47bf-9fb3-bc19f564275a",
   "metadata": {},
   "outputs": [],
   "source": [
    "fig, ax = plt.subplots( 2, figsize=(14,7), sharex=True )\n",
    "\n",
    "ax[0].hist( results['extendedness'][str_index], bins=20, histtype='step', \\\n",
    "           color='darkgreen', label='stars' )\n",
    "ax[0].legend(loc='upper right')\n",
    "\n",
    "ax[1].hist( results['extendedness'][gal_index], bins=20, histtype='step', \\\n",
    "           color='darkorange', label='galaxies' )\n",
    "ax[1].legend(loc='upper left')\n",
    "\n",
    "ax[1].set_xlabel('extendedness')\n",
    "\n",
    "ax[0].set_ylabel('# stars')\n",
    "ax[1].set_ylabel('# galaxies')\n",
    "\n",
    "plt.show()"
   ]
  },
  {
   "cell_type": "markdown",
   "id": "66eb2ee4-2972-4424-9c35-6609e6164caf",
   "metadata": {},
   "source": [
    "what's up with the extended stars and point-like galaxies? are they all faint?"
   ]
  },
  {
   "cell_type": "code",
   "execution_count": null,
   "id": "03594616-4b72-4cfc-b3dd-216e16931a46",
   "metadata": {},
   "outputs": [],
   "source": [
    "ext_str_index = np.where( (results['truth_type'] == 2) & (results['extendedness'] == 1) )\n",
    "pnt_str_index = np.where( (results['truth_type'] == 2) & (results['extendedness'] == 0) )\n",
    "\n",
    "ext_gal_index = np.where( (results['truth_type'] == 1) & (results['extendedness'] == 1) )\n",
    "pnt_gal_index = np.where( (results['truth_type'] == 1) & (results['extendedness'] == 0) )"
   ]
  },
  {
   "cell_type": "code",
   "execution_count": null,
   "id": "349fa15b-d038-49cc-981e-9d0f83bac6a4",
   "metadata": {},
   "outputs": [],
   "source": [
    "fig, ax = plt.subplots( 2, figsize=(14,7), sharex=True )\n",
    "\n",
    "ax[0].hist( results['mag_i'][ext_str_index], bins=30, histtype='step', \\\n",
    "           color='limegreen', lw=2, label='extended stars' )\n",
    "ax[0].hist( results['mag_i'][pnt_str_index], bins=30, histtype='step', \\\n",
    "           color='darkgreen', label='point-like stars' )\n",
    "ax[0].legend(loc='upper left')\n",
    "\n",
    "ax[1].hist( results['mag_i'][ext_gal_index], bins=30, histtype='step', \\\n",
    "           color='darkorange', label='extended galaxies' )\n",
    "ax[1].hist( results['mag_i'][pnt_gal_index], bins=30, histtype='step', \\\n",
    "           color='magenta', lw=2, label='point-like galaxies' )\n",
    "ax[1].legend(loc='upper left')\n",
    "\n",
    "ax[1].set_xlabel('apparent i-band magnitude')\n",
    "\n",
    "ax[0].set_ylabel('# stars')\n",
    "ax[1].set_ylabel('# galaxies')\n",
    "ax[1].set_xlim([15,30])\n",
    "\n",
    "plt.show()"
   ]
  },
  {
   "cell_type": "markdown",
   "id": "1fa444ee-a10c-4139-88d3-55497a0ad1b5",
   "metadata": {},
   "source": []
  }
 ],
 "metadata": {
  "kernelspec": {
   "display_name": "LSST",
   "language": "python",
   "name": "lsst"
  },
  "language_info": {
   "codemirror_mode": {
    "name": "ipython",
    "version": 3
   },
   "file_extension": ".py",
   "mimetype": "text/x-python",
   "name": "python",
   "nbconvert_exporter": "python",
   "pygments_lexer": "ipython3",
   "version": "3.8.8"
  }
 },
 "nbformat": 4,
 "nbformat_minor": 5
}
