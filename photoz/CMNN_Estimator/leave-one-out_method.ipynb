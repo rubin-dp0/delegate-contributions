{
 "cells": [
  {
   "cell_type": "markdown",
   "id": "1f012517-479e-4441-aaa8-9fdc8148d42a",
   "metadata": {},
   "source": [
    "# Simulate Object Photo-z\n",
    "\n",
    "Contact: Melissa Graham <br>\n",
    "Last verified to run Fri Mar 11, with LSST Science Pipelines version Weekly 2021_49."
   ]
  },
  {
   "cell_type": "markdown",
   "id": "6a6c759e-668f-4e42-98ec-92b5a81aec9d",
   "metadata": {},
   "source": [
    "## The CMNN Photo-z Estimator\n",
    "\n",
    "A full description of the Color-Matched Nearest-Neighbors (CMNN) Photometric Redshift Estimator can be found in the following journal articles:\n",
    " * <a href=\"https://ui.adsabs.harvard.edu/abs/2018AJ....155....1G/abstract\">Photometric Redshifts with the LSST: Evaluating Survey Observing Strategies</a> (Graham et al. 2018) \n",
    " * <a href=\"https://ui.adsabs.harvard.edu/abs/2020AJ....159..258G/abstract\">Photometric Redshifts with the LSST. II. The Impact of Near-infrared and Near-ultraviolet Photometry</a> (Graham et al. 2020)\n",
    "\n",
    "The CMNN PZ Estimator can also be found on GitHub: https://github.com/dirac-institute/CMNN_Photoz_Estimator\n",
    "\n",
    "**This notebook uses a *very simple* version of the CMNN PZ Estimator**, and this particular demo is not directly scalable to estimating photo-z for millions of objects (left for future work, see Section 3).\n",
    "\n",
    "This notebook is only useful for estimating rudimentary photo-z for a small number of galaxies."
   ]
  },
  {
   "cell_type": "markdown",
   "id": "d44ab9ca-36c4-4da1-904e-9656c7e06650",
   "metadata": {},
   "source": [
    "## Set up"
   ]
  },
  {
   "cell_type": "code",
   "execution_count": null,
   "id": "275a0cf4-f24d-4681-b20f-9f6c6b2a7147",
   "metadata": {},
   "outputs": [],
   "source": [
    "import numpy as np\n",
    "import pandas\n",
    "pandas.set_option('display.max_rows', 200)\n",
    "\n",
    "import matplotlib.pyplot as plt\n",
    "%matplotlib inline\n",
    "\n",
    "from scipy.stats import chi2\n",
    "\n",
    "import datetime"
   ]
  },
  {
   "cell_type": "code",
   "execution_count": null,
   "id": "656af075-d26c-488e-8041-3f1ee369f808",
   "metadata": {},
   "outputs": [],
   "source": [
    "import warnings\n",
    "from astropy.units import UnitsWarning\n",
    "warnings.simplefilter(\"ignore\", category=UnitsWarning)"
   ]
  },
  {
   "cell_type": "code",
   "execution_count": null,
   "id": "86994204-3d7a-4123-a9b9-a3182f975155",
   "metadata": {},
   "outputs": [],
   "source": [
    "from lsst.rsp import get_tap_service, retrieve_query\n",
    "service = get_tap_service()"
   ]
  },
  {
   "cell_type": "markdown",
   "id": "73ec52ab-05e4-4ddd-8718-9acf9c49e5f6",
   "metadata": {},
   "source": [
    "<br>\n",
    "\n",
    "## 1.0 Retrieve galaxies from the objects/truth_match catalogs\n",
    "\n",
    "Selecting objects from a small arbitrary region near the center of the DC2 simulation.\n",
    "\n",
    "**WARNING: In this simplistic demonstration in which ALL of the selected galaxies are used as \"training-set\" galaxies. Selecting much more than 100000 galaxies is NOT recommended in THIS notebook because it will make the PZ estimation step much slower.** This notebook uses a simple leave-one-out method to estimate photo-z for a single set of galaxies, as described in Section 2. It is entirely possible to use the CMNN PZ Estimator to generate photo-z for more galaxies by generating *separate* test and training sets, but this is left to future work, as described in Section 3.\n",
    "\n",
    "Only select objects that are clean, extended, and bright (i<25 mag).\n",
    "\n",
    "Only select objects with a truth_match that is good, and is a galaxy (truth_type=1) with redshift > 0.05."
   ]
  },
  {
   "cell_type": "code",
   "execution_count": null,
   "id": "8e1c36ef-d75e-4fd2-9643-943e84837c65",
   "metadata": {},
   "outputs": [],
   "source": [
    "query = \"SELECT obj.objectId, obj.ra, obj.dec, \"\\\n",
    "        \"obj.mag_u_cModel, obj.mag_g_cModel, obj.mag_r_cModel, \"\\\n",
    "        \"obj.mag_i_cModel, obj.mag_z_cModel, obj.mag_y_cModel, \"\\\n",
    "        \"obj.magerr_u_cModel, obj.magerr_g_cModel, obj.magerr_r_cModel, \"\\\n",
    "        \"obj.magerr_i_cModel, obj.magerr_z_cModel, obj.magerr_y_cModel, \"\\\n",
    "        \"obj.clean, obj.extendedness, \"\\\n",
    "        \"truth.id, truth.match_objectId, truth.is_good_match, \"\\\n",
    "        \"truth.truth_type, truth.redshift \"\\\n",
    "        \"FROM dp01_dc2_catalogs.object as obj \"\\\n",
    "        \"JOIN dp01_dc2_catalogs.truth_match as truth \"\\\n",
    "        \"ON truth.match_objectId = obj.objectId \"\\\n",
    "        \"WHERE CONTAINS(POINT('ICRS', obj.ra, obj.dec), \"\\\n",
    "        \"CIRCLE('ICRS', 62.0, -37.0, 0.5)) = 1 \"\\\n",
    "        \"AND obj.clean = 1 \"\\\n",
    "        \"AND obj.extendedness > 0 \"\\\n",
    "        \"AND obj.mag_i_cModel <= 25.0 \"\\\n",
    "        \"AND truth.match_objectid >= 0 \"\\\n",
    "        \"AND truth.is_good_match = 1 \"\\\n",
    "        \"AND truth.truth_type = 1 \"\\\n",
    "        \"AND truth.redshift > 0.05 \"\n",
    "print(query)"
   ]
  },
  {
   "cell_type": "code",
   "execution_count": null,
   "id": "c4d76bda-b0be-4c32-b52f-7393bf76e712",
   "metadata": {},
   "outputs": [],
   "source": [
    "%%time\n",
    "results = service.search(query)\n",
    "print('Query returned %s matched objects.' % len(results))"
   ]
  },
  {
   "cell_type": "markdown",
   "id": "be4596ef-679b-42fd-a8e9-6ae96f2eab45",
   "metadata": {},
   "source": [
    "### 1.1 Use numpy arrays\n",
    "\n",
    "In the past they've proved quicker than pandas data frames, but, this might depend on architecture and number of objects. It is unconfirmed whether numpy is optimal for this application, but going with it for this demo."
   ]
  },
  {
   "cell_type": "code",
   "execution_count": null,
   "id": "2ba6400b-2962-445e-8269-23869b2fb3ec",
   "metadata": {},
   "outputs": [],
   "source": [
    "# galaxy true redshifts\n",
    "data_tz = np.asarray( results['redshift'], dtype='float' )\n",
    "\n",
    "# galaxy apparent magnitudes\n",
    "data_m = np.transpose( np.asarray( (results['mag_u_cModel'],results['mag_g_cModel'],\\\n",
    "                                    results['mag_r_cModel'],results['mag_i_cModel'],\\\n",
    "                                    results['mag_z_cModel'],results['mag_y_cModel']),\\\n",
    "                                  dtype='float' ) )\n",
    "\n",
    "# galaxy apparent magnitude errors\n",
    "data_me = np.transpose( np.asarray( (results['magerr_u_cModel'],results['magerr_g_cModel'],\\\n",
    "                                     results['magerr_r_cModel'],results['magerr_i_cModel'],\\\n",
    "                                     results['magerr_z_cModel'],results['magerr_y_cModel']),\\\n",
    "                                  dtype='float' ) )"
   ]
  },
  {
   "cell_type": "code",
   "execution_count": null,
   "id": "e8e8081e-0a10-4ec1-91ed-24d1466cc3c6",
   "metadata": {},
   "outputs": [],
   "source": [
    "# galaxy colors and color errors\n",
    "data_c = np.zeros( (len(data_m),5), dtype='float' )\n",
    "data_ce = np.zeros( (len(data_m),5), dtype='float' )\n",
    "\n",
    "data_c[:,0] = data_m[:,0] - data_m[:,1]\n",
    "data_c[:,1] = data_m[:,1] - data_m[:,2]\n",
    "data_c[:,2] = data_m[:,2] - data_m[:,3]\n",
    "data_c[:,3] = data_m[:,3] - data_m[:,4]\n",
    "data_c[:,4] = data_m[:,4] - data_m[:,5]\n",
    "\n",
    "data_ce[:,0] = np.sqrt( data_me[:,0]**2 + data_me[:,1]**2 )\n",
    "data_ce[:,1] = np.sqrt( data_me[:,1]**2 + data_me[:,2]**2 )\n",
    "data_ce[:,2] = np.sqrt( data_me[:,2]**2 + data_me[:,3]**2 )\n",
    "data_ce[:,3] = np.sqrt( data_me[:,3]**2 + data_me[:,4]**2 )\n",
    "data_ce[:,4] = np.sqrt( data_me[:,4]**2 + data_me[:,5]**2 )"
   ]
  },
  {
   "cell_type": "code",
   "execution_count": null,
   "id": "dc012851-2390-4b4f-8904-939acb8c2151",
   "metadata": {},
   "outputs": [],
   "source": [
    "del results"
   ]
  },
  {
   "cell_type": "markdown",
   "id": "f7282f66-a0d4-46fa-94e3-3cbf5f7d6a6e",
   "metadata": {},
   "source": [
    "### 1.2 Plot color vs. redshift\n",
    "\n",
    "If you want to see what the galaxy properties are like."
   ]
  },
  {
   "cell_type": "code",
   "execution_count": null,
   "id": "6e0455bc-9b7b-4f2b-9e92-a9e45248e1e1",
   "metadata": {},
   "outputs": [],
   "source": [
    "# fig, axs = plt.subplots(2,3, figsize=(14, 7))\n",
    "# fig.suptitle('galaxy color vs. redshift')\n",
    "# axs[0,0].plot(data_tz, data_c[:,0], 'o', ms=2, mew=0, alpha=0.01, color='darkviolet')\n",
    "# axs[0,0].set_ylabel('u-g')\n",
    "# axs[0,0].set_ylim([-1,2])\n",
    "# axs[0,1].plot(data_tz, data_c[:,1], 'o', ms=2, mew=0, alpha=0.01, color='darkgreen')\n",
    "# axs[0,1].set_ylabel('g-r')\n",
    "# axs[0,1].set_ylim([-1,2])\n",
    "# axs[0,2].plot(data_tz, data_c[:,2], 'o', ms=2, mew=0, alpha=0.01, color='darkorange')\n",
    "# axs[0,2].set_ylabel('r-i')\n",
    "# axs[0,2].set_ylim([-1,2])\n",
    "# axs[1,0].plot(data_tz, data_c[:,3], 'o', ms=2, mew=0, alpha=0.01, color='firebrick')\n",
    "# axs[1,0].set_ylabel('i-z')\n",
    "# axs[1,0].set_xlabel('redshift')\n",
    "# axs[1,0].set_ylim([-1,2])\n",
    "# axs[1,1].plot(data_tz, data_c[:,4], 'o', ms=2, mew=0, alpha=0.01, color='saddlebrown')\n",
    "# axs[1,1].set_ylabel('z-y')\n",
    "# axs[1,1].set_xlabel('redshift')\n",
    "# axs[1,1].set_ylim([-1,2])\n",
    "# axs[1,2].hist(data_tz, color='grey')\n",
    "# axs[1,2].set_xlabel('redshift')\n",
    "# fig.show()"
   ]
  },
  {
   "cell_type": "markdown",
   "id": "1355b2c4-12a4-460a-a5b4-4a3522f378ee",
   "metadata": {},
   "source": [
    "<br>\n",
    "\n",
    "## 2.0 Estimate photo-z\n",
    "\n",
    "This notebook uses a leave-one-out method: for each galaxy that we retrieved (i.e., each test galaxy), we use *all the other galaxies* and their true redshifts as the training set.\n",
    "\n",
    "For each test galaxy, the estimator identifies a color-matched subset of training galaxies by calculating the Mahalanobis distance in color-space between the test galaxy and all training galaxies:\n",
    "\n",
    "$D_M = \\sum_{\\rm 1}^{N_{\\rm colors}} \\frac{( c_{\\rm test} - c_{\\rm train} )^2}{ (\\delta c_{\\rm test})^2}$\n",
    "\n",
    "where $c$ is the color of the test- or training-set galaxy, $\\delta c_{\\rm test}$ is the uncertainty in the test galaxy's color, and $N_{\\rm color}$ is the number of colors measured for both the test- and training-set galaxy. \n",
    "\n",
    "A threshold value is then applied to all training-set galaxies to identify those which are well-matched in color: this is called the **CMNN subset** of training galaxies.\n",
    "\n",
    "This threshold value is defined by the percent point function (PPF): e.g., if the number of degrees of freedom $N_{\\rm color}=5$, PPF$=68\\%$ of all training galaxies consistent with the test galaxy will have $D_M < 5.86$.\n",
    "\n",
    "A training galaxy is then selected randomly from this subset of color-matched nearest-neighbors, and its redshift is used as the test-set galaxy's photometric redshift.\n",
    "\n",
    "The standard deviation in redshifts of this subset of training galaxies is used as the uncertainty in the photo-_z_ estimate.\n",
    "\n",
    "<br>\n",
    "\n",
    "### 2.1 Set the tunable parameters\n",
    "\n",
    "This simple version of the CMNN estimator takes just two tunable parameters:\n",
    "\n",
    "(1) The percent point function (`cmnn_ppf`), as described above. The default is 0.68.\n",
    "\n",
    "(2) The minimum number of colors (`cmnn_minNclr`) that a training-set galaxy must have in common with the test galaxy. The default is 5 (i.e., all five colors). This parameter could be lowered if magnitude cuts are applied, leaving some galaxies undetected in some bands."
   ]
  },
  {
   "cell_type": "code",
   "execution_count": null,
   "id": "a11a3546-b67d-459b-ba25-efe576aa432c",
   "metadata": {},
   "outputs": [],
   "source": [
    "cmnn_ppf = 0.68 \n",
    "cmnn_minNclr = 5"
   ]
  },
  {
   "cell_type": "markdown",
   "id": "aba0b4cd-9d04-48cb-a754-0018279710ea",
   "metadata": {},
   "source": [
    "We make and use a thresholds lookup table because chi2.ppf is slow. As described above, the threshold values are based on the desired percent point function (PPF)."
   ]
  },
  {
   "cell_type": "code",
   "execution_count": null,
   "id": "6ceda42a-5ff4-4e60-8ab7-89343ba0e5fe",
   "metadata": {},
   "outputs": [],
   "source": [
    "cmnn_thresh_table = np.zeros( 6, dtype='float' )\n",
    "for d in range(6):\n",
    "    cmnn_thresh_table[d] = chi2.ppf(cmnn_ppf,d)\n",
    "cmnn_thresh_table[0] = float(0.0000)\n",
    "\n",
    "for d in range(6):\n",
    "    print('degrees of freedom, threshold = ',d,cmnn_thresh_table[d])"
   ]
  },
  {
   "cell_type": "markdown",
   "id": "64d25ad7-cb77-4548-8d02-d3a841bedc18",
   "metadata": {},
   "source": [
    "<br>\n",
    "\n",
    "### 2.2 Estimate the photo-z\n",
    "\n",
    "Make arrays to hold photo-z for all of the galaxies"
   ]
  },
  {
   "cell_type": "code",
   "execution_count": null,
   "id": "139828d4-7ad4-45a1-b3ad-8034581f645c",
   "metadata": {},
   "outputs": [],
   "source": [
    "data_pz = np.zeros( len(data_m), dtype='float' ) - 1.0\n",
    "data_pze = np.zeros( len(data_m), dtype='float' ) - 1.0"
   ]
  },
  {
   "cell_type": "markdown",
   "id": "440ec6a3-93ea-479a-acb6-7f6780282b28",
   "metadata": {},
   "source": [
    "<br>\n",
    "\n",
    "**WARNING:** It takes ~30 minutes to do ~100000 galaxies (~1.5 minutes to do ~5000).\n",
    "\n",
    "As a test, we can use `Ncalc` to only estimate photo-z for a subset of the galaxies."
   ]
  },
  {
   "cell_type": "code",
   "execution_count": null,
   "id": "f7404939-dbfa-4ea5-adc0-9078297d1f1d",
   "metadata": {},
   "outputs": [],
   "source": [
    "# Ncalc = len(data_c)\n",
    "Ncalc = 5000"
   ]
  },
  {
   "cell_type": "code",
   "execution_count": null,
   "id": "657b8248-966a-43e1-9b0d-d64be4c049c9",
   "metadata": {},
   "outputs": [],
   "source": [
    "%%time\n",
    "\n",
    "t1 = datetime.datetime.now()\n",
    "\n",
    "for i in range( Ncalc ):\n",
    "    if (i == 100) | (i == 1000) | (i == Ncalc-1000):\n",
    "        t2 = datetime.datetime.now()\n",
    "        print(i, t2-t1, ((t2-t1)/float(i))*(float(Ncalc)), ' remaining' )\n",
    "        \n",
    "    DM  = np.nansum( ( data_c[i,:] - data_c[:,:] )**2 / data_ce[i,:]**2, axis=1, dtype='float' )\n",
    "    DOF = np.nansum( ( data_c[i,:]**2 + data_c[:,:]**2 + 1.0 ) / ( data_c[i,:]**2 + data_c[:,:]**2 + 1.0 ), \\\n",
    "            axis=1, dtype='int' )\n",
    "    \n",
    "    data_th = np.zeros( len(data_c), dtype='float' )\n",
    "    for d in range(6):\n",
    "        tx = np.where( DOF == d )[0]\n",
    "        data_th[tx] = cmnn_thresh_table[ d ]\n",
    "        del tx\n",
    "    \n",
    "    # reset the Mahalanobis distance for this 'test' galaxy to be very large\n",
    "    # this will \"leave out\" the current 'test' galaxy from the 'training set'\n",
    "    DM[i] = 99.9\n",
    "        \n",
    "    index = np.where( \\\n",
    "    ( DOF >= cmnn_minNclr ) & \\\n",
    "    ( data_th > 0.00010 ) & \\\n",
    "    ( DM > 0.00010 ) & \\\n",
    "    ( DM <= data_th ) )[0]\n",
    "    \n",
    "    if len(index) > 0:\n",
    "        rival = np.random.choice( index, size=1, replace=False )[0]\n",
    "        data_pz[i] = data_tz[rival]\n",
    "        data_pze[i] = np.std( data_tz[index] )\n",
    "        del rival\n",
    "    else:\n",
    "        data_pz[i] = float('nan')\n",
    "        data_pze[i] = float('nan')\n",
    "        \n",
    "    del index, data_th, DOF, DM"
   ]
  },
  {
   "cell_type": "markdown",
   "id": "f6c4eade-b760-4854-a5b6-3a0e721f0860",
   "metadata": {},
   "source": [
    "#### 2.2.1 Quick check of success rate"
   ]
  },
  {
   "cell_type": "code",
   "execution_count": null,
   "id": "0867beac-41b6-41ab-97e7-df62a6f7609e",
   "metadata": {},
   "outputs": [],
   "source": [
    "tx = np.where( np.isnan(data_pz) )[0]\n",
    "print( len(tx), ' galaxies did not get a pz estimate' )\n",
    "del tx\n",
    "\n",
    "tx = np.where( data_pz > 0.0 )[0]\n",
    "print( len(tx), ' galaxies did get a pz estimate' )\n",
    "del tx"
   ]
  },
  {
   "cell_type": "markdown",
   "id": "3f12d8ef-cac2-43b1-ae55-17602bf77b84",
   "metadata": {},
   "source": [
    "<br>\n",
    "\n",
    "### 2.3 Plot the photo-z results"
   ]
  },
  {
   "cell_type": "markdown",
   "id": "d2966db7-8877-4bb8-ba26-b302268f4f5e",
   "metadata": {},
   "source": [
    "#### 2.3.1 Plot the photometric *versus* the true redshifts."
   ]
  },
  {
   "cell_type": "code",
   "execution_count": null,
   "id": "b983a22f-9ea5-4d98-9686-bfe4fe7caa1e",
   "metadata": {},
   "outputs": [],
   "source": [
    "tx = np.where( data_pz > 0.0 )[0]\n",
    "\n",
    "fig = plt.figure(figsize=(4,4))\n",
    "plt.plot( [0.0,3.0], [0.0,3.0], ls='solid', lw=1, color='firebrick')\n",
    "plt.plot( data_tz[tx], data_pz[tx], 'o', ms=5, mew=0, alpha=0.1, color='grey' )\n",
    "plt.xlabel('true redshift')\n",
    "plt.ylabel('photometric redshift')\n",
    "plt.show()\n",
    "\n",
    "del tx"
   ]
  },
  {
   "cell_type": "markdown",
   "id": "02165d1e-ab7a-4325-873c-9b9d91572443",
   "metadata": {},
   "source": [
    "#### 2.3.2 Plot the photo-z uncertainty *versus* the photo-z accuracy.\n",
    "\n",
    "The photo-z accuracy is the absolute value of the difference between the true and photometric redshifts.\n",
    "\n",
    "Recall that the photo-z uncertainty is the standard deviation of the true redshifts of the training-set galaxies in the CMNN subset, as described in Section 2. The fact that a bunch of galaxies have an uncertainty of zero means there are galaxies with only 1 training-set galaxy in their CMNN subset. The full CMNN PZ Estimator treats such galaxies better (see Section 3)."
   ]
  },
  {
   "cell_type": "code",
   "execution_count": null,
   "id": "cdf97a84-866f-4680-87dd-b7b72f125949",
   "metadata": {},
   "outputs": [],
   "source": [
    "tx = np.where( data_pz > 0.0 )[0]\n",
    "\n",
    "fig = plt.figure(figsize=(10,4))\n",
    "plt.plot( np.abs(data_tz[tx]-data_pz[tx]), data_pze[tx],\\\n",
    "         'o', ms=5, mew=0, alpha=0.1, color='grey' )\n",
    "plt.xlabel('photo-z accuracy')\n",
    "plt.ylabel('photo-z uncertainty')\n",
    "plt.show()\n",
    "\n",
    "del tx"
   ]
  },
  {
   "cell_type": "markdown",
   "id": "8a7b5b80-d1b3-4f60-bdc9-ebb1443ed0f7",
   "metadata": {},
   "source": [
    "<br>\n",
    "\n",
    "## 3.0 Future Work\n",
    "\n",
    "(1) Generate a *separate* training set of ~200000 galaxies, and then apply it to a *separate* test set of many more galaxies. \n",
    "\n",
    "(2) Install the full CMNN PZ Estimator as a package, and demonstrate how to use it. This might take some modification. The full package features more parameters, and modules for statistical analysis and plotting. The additional parameters include magnitude and color priors, alternatives to randomly selecting from the CMNN subset, and more robust treatment of test-set galaxies with few training-set galaxies in the CMNN subset. "
   ]
  },
  {
   "cell_type": "code",
   "execution_count": null,
   "id": "2803e3bd-a1e8-4c5b-b862-514f9d859429",
   "metadata": {},
   "outputs": [],
   "source": []
  }
 ],
 "metadata": {
  "kernelspec": {
   "display_name": "LSST",
   "language": "python",
   "name": "lsst"
  },
  "language_info": {
   "codemirror_mode": {
    "name": "ipython",
    "version": 3
   },
   "file_extension": ".py",
   "mimetype": "text/x-python",
   "name": "python",
   "nbconvert_exporter": "python",
   "pygments_lexer": "ipython3",
   "version": "3.8.8"
  }
 },
 "nbformat": 4,
 "nbformat_minor": 5
}
